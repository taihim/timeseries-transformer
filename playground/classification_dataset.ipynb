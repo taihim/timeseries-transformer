{
 "nbformat": 4,
 "nbformat_minor": 0,
 "metadata": {
  "colab": {
   "provenance": [],
   "gpuType": "T4"
  },
  "kernelspec": {
   "name": "python3",
   "display_name": "Python 3"
  },
  "language_info": {
   "name": "python"
  },
  "accelerator": "GPU"
 },
 "cells": [
  {
   "cell_type": "markdown",
   "source": [
    "# FordA Dataset exploration\n",
    "This data was originally used in a competition in the 2008 IEEE World Congress on Computational Intelligence. The classification problem is to diagnose whether a certain symptom exists or not in an automotive subsystem. Each case consists of 500 measurements of engine noise."
   ],
   "metadata": {
    "id": "RtdUcLW72P8v"
   }
  },
  {
   "cell_type": "code",
   "source": [
    "from torch.utils.data import Dataset, DataLoader\n",
    "import torch\n",
    "import matplotlib.pyplot as plt\n",
    "import numpy as np"
   ],
   "metadata": {
    "id": "AClqyZu7OjxW"
   },
   "execution_count": 4,
   "outputs": []
  },
  {
   "cell_type": "code",
   "source": [
    "root_url = \"https://raw.githubusercontent.com/hfawaz/cd-diagram/master/FordA/\""
   ],
   "metadata": {
    "id": "iKNmVcyD1god"
   },
   "execution_count": 5,
   "outputs": []
  },
  {
   "cell_type": "code",
   "source": [
    "train_data = np.loadtxt(root_url + \"FordA_TRAIN.tsv\", delimiter=\"\\t\")\n",
    "test_data = np.loadtxt(root_url + \"FordA_TEST.tsv\", delimiter=\"\\t\")"
   ],
   "metadata": {
    "id": "CLHfIO5i1N_Q"
   },
   "execution_count": 6,
   "outputs": []
  },
  {
   "cell_type": "code",
   "source": [
    "print(train_data.shape)\n",
    "print(test_data.shape)"
   ],
   "metadata": {
    "colab": {
     "base_uri": "https://localhost:8080/"
    },
    "id": "mnlwkyi71k4A",
    "outputId": "95c4b028-6a05-41af-8d32-081ba4110099"
   },
   "execution_count": 7,
   "outputs": [
    {
     "output_type": "stream",
     "name": "stdout",
     "text": [
      "(3601, 501)\n",
      "(1320, 501)\n"
     ]
    }
   ]
  },
  {
   "cell_type": "code",
   "source": [
    "# 3601 training examples of length 501\n",
    "# 1320 testing examples of length 501\n",
    "\n",
    "train_data[:15,:5]"
   ],
   "metadata": {
    "colab": {
     "base_uri": "https://localhost:8080/"
    },
    "id": "pS0dOhyT2vQF",
    "outputId": "38aaddf4-b64f-49e7-9e33-96e4d781e876"
   },
   "execution_count": 8,
   "outputs": [
    {
     "output_type": "execute_result",
     "data": {
      "text/plain": [
       "array([[-1.        , -0.79717168, -0.66439208, -0.37301463,  0.04081512],\n",
       "       [ 1.        ,  0.80485472,  0.63462859,  0.37347448,  0.03834345],\n",
       "       [-1.        ,  0.7279851 ,  0.11128392, -0.49912439, -1.0686291 ],\n",
       "       [-1.        , -0.23443909, -0.50215697, -0.73248781, -0.94612801],\n",
       "       [-1.        , -0.17132785, -0.06228531,  0.235829  ,  0.71039591],\n",
       "       [ 1.        , -0.54089708, -1.0140195 , -1.2982259 , -1.3208253 ],\n",
       "       [ 1.        , -0.33405956, -1.0080137 , -1.5543535 , -1.922185  ],\n",
       "       [ 1.        ,  1.0458903 ,  0.61119521,  0.15310839, -0.27967452],\n",
       "       [ 1.        ,  0.825565  ,  0.38528249, -0.06241574, -0.48098205],\n",
       "       [ 1.        , -0.28418135, -0.1926089 , -0.03229214,  0.17282345],\n",
       "       [ 1.        ,  0.52956188,  0.69555632,  0.75455665,  0.68851735],\n",
       "       [-1.        , -1.071044  , -1.1047491 , -1.0246995 , -0.8140425 ],\n",
       "       [-1.        , -0.10944924, -0.22599804, -0.30023294, -0.33920626],\n",
       "       [-1.        , -1.3485363 , -0.72548677, -0.08562475,  0.46457088],\n",
       "       [ 1.        ,  1.4294523 ,  1.0793586 ,  0.51071374, -0.14623123]])"
      ]
     },
     "metadata": {},
     "execution_count": 8
    }
   ]
  },
  {
   "cell_type": "code",
   "source": [
    "# the target label is the first element in each example\n",
    "x_train, y_train = train_data[:, 1:], train_data[:, 0]"
   ],
   "metadata": {
    "id": "udIH83Be3HcI"
   },
   "execution_count": 9,
   "outputs": []
  },
  {
   "cell_type": "code",
   "source": [
    "print(x_train.shape)\n",
    "print(y_train.shape)"
   ],
   "metadata": {
    "colab": {
     "base_uri": "https://localhost:8080/"
    },
    "id": "bFOdnL9s3Hlo",
    "outputId": "f68af572-dd95-489e-d02c-274cd5f11de8"
   },
   "execution_count": 10,
   "outputs": [
    {
     "output_type": "stream",
     "name": "stdout",
     "text": [
      "(3601, 500)\n",
      "(3601,)\n"
     ]
    }
   ]
  },
  {
   "cell_type": "code",
   "source": [
    "x_train[:2, :2]"
   ],
   "metadata": {
    "colab": {
     "base_uri": "https://localhost:8080/"
    },
    "id": "WINyWcNr3lvd",
    "outputId": "1d02a4df-7dff-4695-deee-e955db41bde4"
   },
   "execution_count": 11,
   "outputs": [
    {
     "output_type": "execute_result",
     "data": {
      "text/plain": [
       "array([[-0.79717168, -0.66439208],\n",
       "       [ 0.80485472,  0.63462859]])"
      ]
     },
     "metadata": {},
     "execution_count": 11
    }
   ]
  },
  {
   "cell_type": "code",
   "source": [
    "train_data[:2, 1:3]"
   ],
   "metadata": {
    "colab": {
     "base_uri": "https://localhost:8080/"
    },
    "id": "oQOfXzW03lxt",
    "outputId": "3e123e5c-aa14-4b44-9f80-2eae5aa462fe"
   },
   "execution_count": 12,
   "outputs": [
    {
     "output_type": "execute_result",
     "data": {
      "text/plain": [
       "array([[-0.79717168, -0.66439208],\n",
       "       [ 0.80485472,  0.63462859]])"
      ]
     },
     "metadata": {},
     "execution_count": 12
    }
   ]
  },
  {
   "cell_type": "code",
   "source": [
    "y_train[:2]"
   ],
   "metadata": {
    "colab": {
     "base_uri": "https://localhost:8080/"
    },
    "id": "gVjy1OHH3Hph",
    "outputId": "cc93c2d9-852d-4218-f047-ffe0825f0467"
   },
   "execution_count": 13,
   "outputs": [
    {
     "output_type": "execute_result",
     "data": {
      "text/plain": [
       "array([-1.,  1.])"
      ]
     },
     "metadata": {},
     "execution_count": 13
    }
   ]
  },
  {
   "cell_type": "code",
   "source": [
    "train_data[:2, 0]"
   ],
   "metadata": {
    "colab": {
     "base_uri": "https://localhost:8080/"
    },
    "id": "Yzmxq0CY1lYF",
    "outputId": "04432cf7-03e5-4f64-c267-e94667c2cb40"
   },
   "execution_count": 14,
   "outputs": [
    {
     "output_type": "execute_result",
     "data": {
      "text/plain": [
       "array([-1.,  1.])"
      ]
     },
     "metadata": {},
     "execution_count": 14
    }
   ]
  },
  {
   "cell_type": "code",
   "source": [
    "# check if data seperation was correct\n",
    "print(\"Input values correct: \", np.array_equal(x_train[:, :], train_data[:, 1:]))\n",
    "print(\"Target values correct: \", np.array_equal(y_train[:], train_data[:, 0]))"
   ],
   "metadata": {
    "colab": {
     "base_uri": "https://localhost:8080/"
    },
    "id": "UPUt_LYF1xVl",
    "outputId": "6bdbf967-ee39-4619-8980-96a3b33df797"
   },
   "execution_count": 15,
   "outputs": [
    {
     "output_type": "stream",
     "name": "stdout",
     "text": [
      "Input values correct:  True\n",
      "Target values correct:  True\n"
     ]
    }
   ]
  },
  {
   "cell_type": "code",
   "source": [
    "# do the same for test data\n",
    "x_test, y_test = test_data[:, 1:], test_data[:, 0]"
   ],
   "metadata": {
    "id": "uhg-Wvtn4z1H"
   },
   "execution_count": 16,
   "outputs": []
  },
  {
   "cell_type": "code",
   "source": [
    "print(x_test.shape)\n",
    "print(y_test.shape)"
   ],
   "metadata": {
    "colab": {
     "base_uri": "https://localhost:8080/"
    },
    "id": "VrvSUV8M488x",
    "outputId": "7616f981-c47b-4c92-b8b6-6b660ee6c1ef"
   },
   "execution_count": 17,
   "outputs": [
    {
     "output_type": "stream",
     "name": "stdout",
     "text": [
      "(1320, 500)\n",
      "(1320,)\n"
     ]
    }
   ]
  },
  {
   "cell_type": "code",
   "source": [
    "x_train[2].std()"
   ],
   "metadata": {
    "colab": {
     "base_uri": "https://localhost:8080/"
    },
    "id": "0dB2NwESYjdr",
    "outputId": "321162fc-c483-4c60-c967-82fa576c5471"
   },
   "execution_count": 18,
   "outputs": [
    {
     "output_type": "execute_result",
     "data": {
      "text/plain": [
       "0.9989994975860028"
      ]
     },
     "metadata": {},
     "execution_count": 18
    }
   ]
  },
  {
   "cell_type": "code",
   "source": [
    "x_train[0].mean()"
   ],
   "metadata": {
    "colab": {
     "base_uri": "https://localhost:8080/"
    },
    "id": "uMrOwJuWYr4T",
    "outputId": "8749791b-8dfe-4193-aa20-88cf29e69c8b"
   },
   "execution_count": 19,
   "outputs": [
    {
     "output_type": "execute_result",
     "data": {
      "text/plain": [
       "-5.662000113204613e-10"
      ]
     },
     "metadata": {},
     "execution_count": 19
    }
   ]
  },
  {
   "cell_type": "code",
   "source": [
    "x_test.std()"
   ],
   "metadata": {
    "colab": {
     "base_uri": "https://localhost:8080/"
    },
    "id": "eGuwGChdYpAm",
    "outputId": "753d006d-c24d-46b6-d85d-8a4716827c93"
   },
   "execution_count": 20,
   "outputs": [
    {
     "output_type": "execute_result",
     "data": {
      "text/plain": [
       "0.9989994994945227"
      ]
     },
     "metadata": {},
     "execution_count": 20
    }
   ]
  },
  {
   "cell_type": "code",
   "source": [
    "x_test.mean()"
   ],
   "metadata": {
    "colab": {
     "base_uri": "https://localhost:8080/"
    },
    "id": "CK-SVtIYYtYA",
    "outputId": "e15a6fa0-c4dc-4a4e-bd76-dc8da2aad5d1"
   },
   "execution_count": 21,
   "outputs": [
    {
     "output_type": "execute_result",
     "data": {
      "text/plain": [
       "-3.660013561718694e-11"
      ]
     },
     "metadata": {},
     "execution_count": 21
    }
   ]
  },
  {
   "cell_type": "code",
   "source": [
    "# mean is ~0 and std is ~1, data is already processed"
   ],
   "metadata": {
    "id": "Akm1wmgCbK4M"
   },
   "execution_count": 22,
   "outputs": []
  },
  {
   "cell_type": "code",
   "source": [
    "pos_cases = x_train[y_train == 1]\n",
    "neg_cases = x_train[y_train == -1]"
   ],
   "metadata": {
    "id": "i3wi8cWIcdV_"
   },
   "execution_count": 23,
   "outputs": []
  },
  {
   "cell_type": "code",
   "source": [
    "pos_cases.shape"
   ],
   "metadata": {
    "colab": {
     "base_uri": "https://localhost:8080/"
    },
    "id": "4dgDfJfQclrR",
    "outputId": "913b04f4-d97c-40ab-842b-01c66a730a22"
   },
   "execution_count": 24,
   "outputs": [
    {
     "output_type": "execute_result",
     "data": {
      "text/plain": [
       "(1755, 500)"
      ]
     },
     "metadata": {},
     "execution_count": 24
    }
   ]
  },
  {
   "cell_type": "code",
   "source": [
    "neg_cases.shape"
   ],
   "metadata": {
    "colab": {
     "base_uri": "https://localhost:8080/"
    },
    "id": "smCt8xITcqwt",
    "outputId": "8176b729-a186-4e60-e3cd-d21d63de30d6"
   },
   "execution_count": 25,
   "outputs": [
    {
     "output_type": "execute_result",
     "data": {
      "text/plain": [
       "(1846, 500)"
      ]
     },
     "metadata": {},
     "execution_count": 25
    }
   ]
  },
  {
   "cell_type": "code",
   "source": [
    "plt.figure()\n",
    "plt.plot(pos_cases[1])\n",
    "plt.show()\n",
    "plt.close()"
   ],
   "metadata": {
    "colab": {
     "base_uri": "https://localhost:8080/",
     "height": 430
    },
    "id": "WICee_TubK6R",
    "outputId": "e198c812-447c-4046-8666-dea5faa8ce0b"
   },
   "execution_count": 26,
   "outputs": [
    {
     "output_type": "display_data",
     "data": {
      "text/plain": [
       "<Figure size 640x480 with 1 Axes>"
      ],
      "image/png": "[encoded data removed]"
     },
     "metadata": {}
    }
   ]
  },
  {
   "cell_type": "code",
   "source": [
    "plt.figure()\n",
    "plt.plot(neg_cases[6])\n",
    "plt.show()\n",
    "plt.close()"
   ],
   "metadata": {
    "colab": {
     "base_uri": "https://localhost:8080/",
     "height": 430
    },
    "id": "fleXX_y0ctgg",
    "outputId": "f9e0517b-529b-4dd3-ba51-10ec6cf5b371"
   },
   "execution_count": 27,
   "outputs": [
    {
     "output_type": "display_data",
     "data": {
      "text/plain": [
       "<Figure size 640x480 with 1 Axes>"
      ],
      "image/png": "[encoded data removed]"
     },
     "metadata": {}
    }
   ]
  },
  {
   "cell_type": "markdown",
   "source": [
    "# Wrapping the data in a pytorch dataset and dataloader"
   ],
   "metadata": {
    "id": "jOT645CNYaBg"
   }
  },
  {
   "cell_type": "code",
   "source": [
    "class FordDataset(Dataset):\n",
    "  def __init__(self, split=\"train\"):\n",
    "    self.root_url = \"https://raw.githubusercontent.com/hfawaz/cd-diagram/master/FordA/\"\n",
    "    self.data = torch.tensor(np.loadtxt(root_url + \"FordA_TRAIN.tsv\", delimiter=\"\\t\"), dtype=torch.float32) if split==\"train\" else torch.tensor(np.loadtxt(root_url + \"FordA_TEST.tsv\", delimiter=\"\\t\"), dtype=torch.float32)\n",
    "    self.labels = self.data[:, 0] # get first element from each example\n",
    "    self.sequences = self.data[:, 1:] # get all elements after first element\n",
    "    self.labels[self.labels == -1] = 0 # change all -1 labels to 0\n",
    "    self.num_classes = len(torch.unique(self.labels)) # count the number of unique labels\n",
    "\n",
    "  def __len__(self):\n",
    "      return self.data.shape[0]\n",
    "\n",
    "  def __getitem__(self, idx):\n",
    "    sequence = torch.reshape(self.sequences[idx], (-1, 1)) # dim: seq_len x num_features\n",
    "    label = torch.reshape(self.labels[idx], (-1, )) # dim: 1 x 1\n",
    "\n",
    "    return sequence, label"
   ],
   "metadata": {
    "id": "sfrJbC8o5GRq"
   },
   "execution_count": 28,
   "outputs": []
  },
  {
   "cell_type": "code",
   "source": [
    "train_dataset = FordDataset(\"train\")\n",
    "test_dataset = FordDataset(\"test\")"
   ],
   "metadata": {
    "id": "swgcF9cx5GTv"
   },
   "execution_count": 29,
   "outputs": []
  },
  {
   "cell_type": "code",
   "source": [
    "train_dataset.num_classes"
   ],
   "metadata": {
    "colab": {
     "base_uri": "https://localhost:8080/"
    },
    "id": "hlsaQLS8NUH3",
    "outputId": "a1bcb082-1cbf-41c3-e9c8-9f0e1059d87f"
   },
   "execution_count": 30,
   "outputs": [
    {
     "output_type": "execute_result",
     "data": {
      "text/plain": [
       "2"
      ]
     },
     "metadata": {},
     "execution_count": 30
    }
   ]
  },
  {
   "cell_type": "code",
   "source": [
    "x, y = train_dataset[0]"
   ],
   "metadata": {
    "id": "komvnRa3K6QN"
   },
   "execution_count": 31,
   "outputs": []
  },
  {
   "cell_type": "code",
   "source": [
    "x.shape"
   ],
   "metadata": {
    "colab": {
     "base_uri": "https://localhost:8080/"
    },
    "id": "PhLfQMgRLNmk",
    "outputId": "356ae43d-5b00-4472-aec5-edbc00cd942f"
   },
   "execution_count": 32,
   "outputs": [
    {
     "output_type": "execute_result",
     "data": {
      "text/plain": [
       "torch.Size([500, 1])"
      ]
     },
     "metadata": {},
     "execution_count": 32
    }
   ]
  },
  {
   "cell_type": "code",
   "source": [
    "y.shape"
   ],
   "metadata": {
    "colab": {
     "base_uri": "https://localhost:8080/"
    },
    "id": "VEOmkmWHLQfC",
    "outputId": "cfcb591c-d332-47b3-f355-6749d2297a14"
   },
   "execution_count": 33,
   "outputs": [
    {
     "output_type": "execute_result",
     "data": {
      "text/plain": [
       "torch.Size([1])"
      ]
     },
     "metadata": {},
     "execution_count": 33
    }
   ]
  },
  {
   "cell_type": "code",
   "source": [
    "train_dataloader = DataLoader(dataset=train_dataset, batch_size=32, shuffle=True)"
   ],
   "metadata": {
    "id": "UZnP3csWIpCF"
   },
   "execution_count": 34,
   "outputs": []
  },
  {
   "cell_type": "code",
   "source": [
    "train_features, train_labels = next(iter(train_dataloader))"
   ],
   "metadata": {
    "id": "9FZxEkX0IpEb"
   },
   "execution_count": 35,
   "outputs": []
  },
  {
   "cell_type": "code",
   "source": [
    "train_features.shape"
   ],
   "metadata": {
    "colab": {
     "base_uri": "https://localhost:8080/"
    },
    "id": "6wN3GHATI8F3",
    "outputId": "3b04cfc0-cf6a-429a-faf5-1a70bc97f0a0"
   },
   "execution_count": 36,
   "outputs": [
    {
     "output_type": "execute_result",
     "data": {
      "text/plain": [
       "torch.Size([32, 500, 1])"
      ]
     },
     "metadata": {},
     "execution_count": 36
    }
   ]
  },
  {
   "cell_type": "code",
   "source": [
    "train_labels.shape"
   ],
   "metadata": {
    "colab": {
     "base_uri": "https://localhost:8080/"
    },
    "id": "gpDbHG4M5GVw",
    "outputId": "75ab1f3a-4020-40a4-8682-51000f312f85"
   },
   "execution_count": 37,
   "outputs": [
    {
     "output_type": "execute_result",
     "data": {
      "text/plain": [
       "torch.Size([32, 1])"
      ]
     },
     "metadata": {},
     "execution_count": 37
    }
   ]
  },
  {
   "cell_type": "code",
   "source": [
    "train_features[:3, :5]"
   ],
   "metadata": {
    "colab": {
     "base_uri": "https://localhost:8080/"
    },
    "id": "rFHsQDyaKDBa",
    "outputId": "ec4ba14f-07f0-4d4f-dfbd-7b47c3ad0743"
   },
   "execution_count": 38,
   "outputs": [
    {
     "output_type": "execute_result",
     "data": {
      "text/plain": [
       "tensor([[[-1.0689],\n",
       "         [-0.6332],\n",
       "         [-0.1816],\n",
       "         [ 0.1777],\n",
       "         [ 0.3953]],\n",
       "\n",
       "        [[ 0.4851],\n",
       "         [ 0.0887],\n",
       "         [-0.2552],\n",
       "         [-0.5156],\n",
       "         [-0.6874]],\n",
       "\n",
       "        [[-0.1017],\n",
       "         [-0.0643],\n",
       "         [-0.0233],\n",
       "         [ 0.0425],\n",
       "         [ 0.1319]]])"
      ]
     },
     "metadata": {},
     "execution_count": 38
    }
   ]
  },
  {
   "cell_type": "code",
   "source": [
    "train_labels[:3]"
   ],
   "metadata": {
    "colab": {
     "base_uri": "https://localhost:8080/"
    },
    "id": "-QGvgTFvEirL",
    "outputId": "67305c53-e61c-4a95-949e-d66d83d9a034"
   },
   "execution_count": 39,
   "outputs": [
    {
     "output_type": "execute_result",
     "data": {
      "text/plain": [
       "tensor([[1.],\n",
       "        [0.],\n",
       "        [0.]])"
      ]
     },
     "metadata": {},
     "execution_count": 39
    }
   ]
  },
  {
   "cell_type": "code",
   "source": [
    " # Remove singleton dimensions\n",
    "plot_features = train_features.squeeze().numpy()\n",
    "plot_labels = train_labels.squeeze().numpy()"
   ],
   "metadata": {
    "id": "NceUaWyUQmcV"
   },
   "execution_count": 40,
   "outputs": []
  },
  {
   "cell_type": "code",
   "source": [
    "plot_features.shape"
   ],
   "metadata": {
    "colab": {
     "base_uri": "https://localhost:8080/"
    },
    "id": "efbLCVzIS8Jk",
    "outputId": "3c453481-52ce-485c-dda9-c5e8ceeab57c"
   },
   "execution_count": 41,
   "outputs": [
    {
     "output_type": "execute_result",
     "data": {
      "text/plain": [
       "(32, 500)"
      ]
     },
     "metadata": {},
     "execution_count": 41
    }
   ]
  },
  {
   "cell_type": "code",
   "source": [
    "plot_labels.shape"
   ],
   "metadata": {
    "colab": {
     "base_uri": "https://localhost:8080/"
    },
    "id": "ckOZ1GxVUZak",
    "outputId": "2bcff2d1-dfe2-4a0e-8c17-385ce087685d"
   },
   "execution_count": 42,
   "outputs": [
    {
     "output_type": "execute_result",
     "data": {
      "text/plain": [
       "(32,)"
      ]
     },
     "metadata": {},
     "execution_count": 42
    }
   ]
  },
  {
   "cell_type": "code",
   "source": [
    "classes = np.unique(plot_labels)\n",
    "plt.figure()\n",
    "for c in classes:\n",
    "  c_x_train = plot_features[plot_labels == c]\n",
    "  plt.plot(c_x_train[3], label=\"class \" + str(c))\n",
    "plt.legend(loc=\"best\")\n",
    "plt.show()\n",
    "plt.close()"
   ],
   "metadata": {
    "colab": {
     "base_uri": "https://localhost:8080/",
     "height": 430
    },
    "id": "TLcNm1-SUgMT",
    "outputId": "e69e4abb-d6c2-4d3c-c265-0849ab00f41d"
   },
   "execution_count": 43,
   "outputs": [
    {
     "output_type": "display_data",
     "data": {
      "text/plain": [
       "<Figure size 640x480 with 1 Axes>"
      ],
      "image/png": "[encoded data removed]"
     },
     "metadata": {}
    }
   ]
  },
  {
   "cell_type": "code",
   "source": [],
   "metadata": {
    "id": "f9lZ7zL_FTaA"
   },
   "execution_count": 43,
   "outputs": []
  },
  {
   "cell_type": "code",
   "source": [
    "# test using simple models\n",
    "from sklearn.linear_model import LogisticRegression\n",
    "from sklearn.model_selection import train_test_split\n",
    "\n",
    "# Example setup\n",
    "X_train, X_test, Y_train, Y_test = train_test_split(x_train, y_train, test_size=0.3, random_state=42)\n",
    "model = LogisticRegression(max_iter=10000)\n",
    "model.fit(X_train, Y_train)\n",
    "print(\"Test accuracy:\", model.score(X_test, Y_test))"
   ],
   "metadata": {
    "colab": {
     "base_uri": "https://localhost:8080/"
    },
    "id": "Wkf1hufuHM-6",
    "outputId": "6f7c15bb-4692-4b26-bba6-782abe501b33"
   },
   "execution_count": 44,
   "outputs": [
    {
     "output_type": "stream",
     "name": "stdout",
     "text": [
      "Test accuracy: 0.5106382978723404\n"
     ]
    }
   ]
  },
  {
   "cell_type": "code",
   "source": [
    "X_test.shape"
   ],
   "metadata": {
    "colab": {
     "base_uri": "https://localhost:8080/"
    },
    "id": "JD-5CJxrHOKE",
    "outputId": "3333f3ff-1fb7-46c1-a618-fd5b2c4d8c49"
   },
   "execution_count": 45,
   "outputs": [
    {
     "output_type": "execute_result",
     "data": {
      "text/plain": [
       "(1081, 500)"
      ]
     },
     "metadata": {},
     "execution_count": 45
    }
   ]
  },
  {
   "cell_type": "code",
   "source": [
    "Y_test.shape"
   ],
   "metadata": {
    "colab": {
     "base_uri": "https://localhost:8080/"
    },
    "id": "7t137Qm6HszZ",
    "outputId": "9d8e8605-4ed5-4406-b2b9-5cacbab5b1ea"
   },
   "execution_count": 46,
   "outputs": [
    {
     "output_type": "execute_result",
     "data": {
      "text/plain": [
       "(1081,)"
      ]
     },
     "metadata": {},
     "execution_count": 46
    }
   ]
  },
  {
   "cell_type": "code",
   "source": [
    "x_train.shape"
   ],
   "metadata": {
    "colab": {
     "base_uri": "https://localhost:8080/"
    },
    "id": "b1MnfNsbeSPb",
    "outputId": "c8a52b1d-56e1-45bc-95b5-30aa3e7e4d6f"
   },
   "execution_count": 47,
   "outputs": [
    {
     "output_type": "execute_result",
     "data": {
      "text/plain": [
       "(3601, 500)"
      ]
     },
     "metadata": {},
     "execution_count": 47
    }
   ]
  },
  {
   "cell_type": "code",
   "source": [
    "x_train = x_train.reshape((x_train.shape[0], x_train.shape[1], 1))\n",
    "x_test = x_test.reshape((x_test.shape[0], x_test.shape[1], 1))\n",
    "\n",
    "n_classes = len(np.unique(y_train))\n",
    "\n",
    "# idx = np.random.permutation(len(x_train))\n",
    "# x_train = x_train[idx]\n",
    "# y_train = y_train[idx]\n",
    "\n",
    "y_train[y_train == -1] = 0\n",
    "y_test[y_test == -1] = 0"
   ],
   "metadata": {
    "id": "rYxIx2Tre3Sd"
   },
   "execution_count": 48,
   "outputs": []
  },
  {
   "cell_type": "code",
   "source": [
    "x_train.shape"
   ],
   "metadata": {
    "colab": {
     "base_uri": "https://localhost:8080/"
    },
    "id": "-Ao-bXQifh9-",
    "outputId": "1aeee7e6-b92d-4347-bea7-a7d980fdd4dc"
   },
   "execution_count": 49,
   "outputs": [
    {
     "output_type": "execute_result",
     "data": {
      "text/plain": [
       "(3601, 500, 1)"
      ]
     },
     "metadata": {},
     "execution_count": 49
    }
   ]
  },
  {
   "cell_type": "code",
   "source": [
    "y_train.shape"
   ],
   "metadata": {
    "colab": {
     "base_uri": "https://localhost:8080/"
    },
    "id": "m_33Cw52f4Zp",
    "outputId": "196786ca-4193-472d-b61a-fffb702d8d3c"
   },
   "execution_count": 50,
   "outputs": [
    {
     "output_type": "execute_result",
     "data": {
      "text/plain": [
       "(3601,)"
      ]
     },
     "metadata": {},
     "execution_count": 50
    }
   ]
  },
  {
   "cell_type": "markdown",
   "source": [
    "# Training a CNN on the data"
   ],
   "metadata": {
    "id": "f_KZFg8KiPfv"
   }
  },
  {
   "cell_type": "code",
   "source": [
    "import torch\n",
    "import torch.nn as nn\n",
    "import torch.nn.functional as F\n",
    "\n",
    "class Conv1DModel(nn.Module):\n",
    "    def __init__(self, input_channels, n_classes):\n",
    "        super(Conv1DModel, self).__init__()\n",
    "        self.conv1 = nn.Sequential(\n",
    "            nn.Conv1d(input_channels, 64, kernel_size=3, padding=1),\n",
    "            nn.BatchNorm1d(64),\n",
    "            nn.ReLU()\n",
    "        )\n",
    "        self.conv2 = nn.Sequential(\n",
    "            nn.Conv1d(64, 64, kernel_size=3, padding=1),\n",
    "            nn.BatchNorm1d(64),\n",
    "            nn.ReLU()\n",
    "        )\n",
    "        self.conv3 = nn.Sequential(\n",
    "            nn.Conv1d(64, 64, kernel_size=3, padding=1),\n",
    "            nn.BatchNorm1d(64),\n",
    "            nn.ReLU()\n",
    "        )\n",
    "        self.gap = nn.AdaptiveAvgPool1d(1)\n",
    "        self.fc = nn.Linear(64, n_classes)\n",
    "\n",
    "    def forward(self, x):\n",
    "        x = self.conv1(x)\n",
    "        x = self.conv2(x)\n",
    "        x = self.conv3(x)\n",
    "        x = self.gap(x)\n",
    "        x = x.view(x.size(0), -1)  # Flatten the output for the fully connected layer\n",
    "        x = self.fc(x)\n",
    "        return x"
   ],
   "metadata": {
    "id": "eqP72yPCfCU_"
   },
   "execution_count": 56,
   "outputs": []
  },
  {
   "cell_type": "code",
   "source": [
    "import torch.optim as optim\n",
    "\n",
    "input_channels = x_train.shape[1]\n",
    "model = Conv1DModel(input_channels, n_classes)\n",
    "criterion = nn.CrossEntropyLoss()\n",
    "optimizer = optim.Adam(model.parameters(), lr=0.001)\n",
    "\n",
    "x_train_tensor = torch.tensor(x_train, dtype=torch.float32)\n",
    "y_train_tensor = torch.tensor(y_train, dtype=torch.long)"
   ],
   "metadata": {
    "id": "7m5zMlHhhIeR"
   },
   "execution_count": 57,
   "outputs": []
  },
  {
   "cell_type": "code",
   "source": [
    "# DataLoader setup\n",
    "from torch.utils.data import TensorDataset, DataLoader\n",
    "train_dataset = TensorDataset(x_train_tensor, y_train_tensor)\n",
    "train_loader = DataLoader(train_dataset, batch_size=64, shuffle=True)"
   ],
   "metadata": {
    "id": "fOcsX_hEhdHv"
   },
   "execution_count": 58,
   "outputs": []
  },
  {
   "cell_type": "code",
   "source": [
    "# Training process\n",
    "def train_model(num_epochs):\n",
    "    model.train()\n",
    "    for epoch in range(num_epochs):\n",
    "        for data, labels in train_loader:\n",
    "            optimizer.zero_grad()\n",
    "            outputs = model(data)\n",
    "            loss = criterion(outputs, labels)\n",
    "            loss.backward()\n",
    "            optimizer.step()\n",
    "        print(f'Epoch {epoch+1}/{num_epochs}, Loss: {loss.item()}')\n",
    "\n",
    "train_model(100)"
   ],
   "metadata": {
    "colab": {
     "base_uri": "https://localhost:8080/"
    },
    "id": "tA6atmpthbXw",
    "outputId": "75e0084e-33e7-425d-b821-6ed498d5a806"
   },
   "execution_count": 59,
   "outputs": [
    {
     "output_type": "stream",
     "name": "stdout",
     "text": [
      "Epoch 1/100, Loss: 0.5700520873069763\n",
      "Epoch 2/100, Loss: 0.3095194697380066\n",
      "Epoch 3/100, Loss: 0.5087183117866516\n",
      "Epoch 4/100, Loss: 0.6360629796981812\n",
      "Epoch 5/100, Loss: 0.32620638608932495\n",
      "Epoch 6/100, Loss: 0.2294052541255951\n",
      "Epoch 7/100, Loss: 0.3317354619503021\n",
      "Epoch 8/100, Loss: 0.2277376353740692\n",
      "Epoch 9/100, Loss: 0.5943566560745239\n",
      "Epoch 10/100, Loss: 0.3594188690185547\n",
      "Epoch 11/100, Loss: 0.08381176739931107\n",
      "Epoch 12/100, Loss: 0.25927048921585083\n",
      "Epoch 13/100, Loss: 0.40795400738716125\n",
      "Epoch 14/100, Loss: 0.4827897250652313\n",
      "Epoch 15/100, Loss: 0.20502695441246033\n",
      "Epoch 16/100, Loss: 0.21236489713191986\n",
      "Epoch 17/100, Loss: 0.28431472182273865\n",
      "Epoch 18/100, Loss: 0.13653166592121124\n",
      "Epoch 19/100, Loss: 0.12990911304950714\n",
      "Epoch 20/100, Loss: 0.13002519309520721\n",
      "Epoch 21/100, Loss: 0.22810503840446472\n",
      "Epoch 22/100, Loss: 0.3994094729423523\n",
      "Epoch 23/100, Loss: 0.2677249610424042\n",
      "Epoch 24/100, Loss: 0.2878909409046173\n",
      "Epoch 25/100, Loss: 0.3261716067790985\n",
      "Epoch 26/100, Loss: 0.04254056513309479\n",
      "Epoch 27/100, Loss: 0.05695357546210289\n",
      "Epoch 28/100, Loss: 0.04339824244379997\n",
      "Epoch 29/100, Loss: 0.27210620045661926\n",
      "Epoch 30/100, Loss: 0.1482115238904953\n",
      "Epoch 31/100, Loss: 0.7293665409088135\n",
      "Epoch 32/100, Loss: 0.028168970718979836\n",
      "Epoch 33/100, Loss: 0.5628634095191956\n",
      "Epoch 34/100, Loss: 0.06324563175439835\n",
      "Epoch 35/100, Loss: 0.03343809396028519\n",
      "Epoch 36/100, Loss: 0.03069121018052101\n",
      "Epoch 37/100, Loss: 0.0740879699587822\n",
      "Epoch 38/100, Loss: 0.20713821053504944\n",
      "Epoch 39/100, Loss: 0.012684546411037445\n",
      "Epoch 40/100, Loss: 0.047518931329250336\n",
      "Epoch 41/100, Loss: 0.5290690064430237\n",
      "Epoch 42/100, Loss: 0.009329467080533504\n",
      "Epoch 43/100, Loss: 0.8815300464630127\n",
      "Epoch 44/100, Loss: 0.27868184447288513\n",
      "Epoch 45/100, Loss: 0.18051889538764954\n",
      "Epoch 46/100, Loss: 0.0130150830373168\n",
      "Epoch 47/100, Loss: 0.2999300956726074\n",
      "Epoch 48/100, Loss: 0.0564643070101738\n",
      "Epoch 49/100, Loss: 0.4889264404773712\n",
      "Epoch 50/100, Loss: 0.07265812158584595\n",
      "Epoch 51/100, Loss: 0.09572268277406693\n",
      "Epoch 52/100, Loss: 0.25737953186035156\n",
      "Epoch 53/100, Loss: 0.03345134109258652\n",
      "Epoch 54/100, Loss: 0.18316277861595154\n",
      "Epoch 55/100, Loss: 0.28932884335517883\n",
      "Epoch 56/100, Loss: 0.07918745279312134\n",
      "Epoch 57/100, Loss: 0.001558787189424038\n",
      "Epoch 58/100, Loss: 0.39188507199287415\n",
      "Epoch 59/100, Loss: 0.056901779025793076\n",
      "Epoch 60/100, Loss: 0.22915828227996826\n",
      "Epoch 61/100, Loss: 0.18646487593650818\n",
      "Epoch 62/100, Loss: 0.22711308300495148\n",
      "Epoch 63/100, Loss: 0.0448349304497242\n",
      "Epoch 64/100, Loss: 0.04923620820045471\n",
      "Epoch 65/100, Loss: 0.010165846906602383\n",
      "Epoch 66/100, Loss: 0.3645751178264618\n",
      "Epoch 67/100, Loss: 0.028388092294335365\n",
      "Epoch 68/100, Loss: 0.5285388827323914\n",
      "Epoch 69/100, Loss: 0.17134450376033783\n",
      "Epoch 70/100, Loss: 0.14842747151851654\n",
      "Epoch 71/100, Loss: 0.24262641370296478\n",
      "Epoch 72/100, Loss: 0.1162843182682991\n",
      "Epoch 73/100, Loss: 0.21877449750900269\n",
      "Epoch 74/100, Loss: 0.026152830570936203\n",
      "Epoch 75/100, Loss: 0.07580911368131638\n",
      "Epoch 76/100, Loss: 0.04562659561634064\n",
      "Epoch 77/100, Loss: 0.035827379673719406\n",
      "Epoch 78/100, Loss: 0.08748091012239456\n",
      "Epoch 79/100, Loss: 0.04083503037691116\n",
      "Epoch 80/100, Loss: 0.9379101991653442\n",
      "Epoch 81/100, Loss: 0.10584894567728043\n",
      "Epoch 82/100, Loss: 0.30799543857574463\n",
      "Epoch 83/100, Loss: 0.15014813840389252\n",
      "Epoch 84/100, Loss: 0.01577858068048954\n",
      "Epoch 85/100, Loss: 0.11064678430557251\n",
      "Epoch 86/100, Loss: 0.0017812039004638791\n",
      "Epoch 87/100, Loss: 0.08441861718893051\n",
      "Epoch 88/100, Loss: 0.35426774621009827\n",
      "Epoch 89/100, Loss: 0.03203236311674118\n",
      "Epoch 90/100, Loss: 0.031049152836203575\n",
      "Epoch 91/100, Loss: 0.0008130780188366771\n",
      "Epoch 92/100, Loss: 0.013078986667096615\n",
      "Epoch 93/100, Loss: 0.3838884234428406\n",
      "Epoch 94/100, Loss: 0.05948234349489212\n",
      "Epoch 95/100, Loss: 0.020183967426419258\n",
      "Epoch 96/100, Loss: 0.08434224128723145\n",
      "Epoch 97/100, Loss: 0.2686154544353485\n",
      "Epoch 98/100, Loss: 0.2475353479385376\n",
      "Epoch 99/100, Loss: 0.7870045900344849\n",
      "Epoch 100/100, Loss: 0.16086147725582123\n"
     ]
    }
   ]
  },
  {
   "cell_type": "code",
   "source": [
    "x_test_tensor = torch.tensor(x_test, dtype=torch.float32)\n",
    "y_test_tensor = torch.tensor(y_test, dtype=torch.long)\n",
    "\n",
    "test_dataset = TensorDataset(x_test_tensor, y_test_tensor)\n",
    "test_loader = DataLoader(test_dataset, batch_size=64, shuffle=False)"
   ],
   "metadata": {
    "id": "oSsCqCVyjpd7"
   },
   "execution_count": 60,
   "outputs": []
  },
  {
   "cell_type": "code",
   "source": [
    "from sklearn.metrics import accuracy_score, precision_recall_fscore_support, confusion_matrix\n",
    "\n",
    "def evaluate_model(model, data_loader):\n",
    "    model.eval()\n",
    "    true_labels = []\n",
    "    predictions = []\n",
    "\n",
    "    with torch.no_grad():\n",
    "        for data, labels in data_loader:\n",
    "            outputs = model(data)\n",
    "            _, predicted = torch.max(outputs.data, 1)\n",
    "            predictions.extend(predicted.numpy())\n",
    "            true_labels.extend(labels.numpy())\n",
    "\n",
    "    accuracy = accuracy_score(true_labels, predictions)\n",
    "    precision, recall, f1, _ = precision_recall_fscore_support(true_labels, predictions, average='weighted')\n",
    "    conf_matrix = confusion_matrix(true_labels, predictions)\n",
    "\n",
    "    return accuracy, precision, recall, f1, conf_matrix\n"
   ],
   "metadata": {
    "id": "oZjYY_z2fQPv"
   },
   "execution_count": 61,
   "outputs": []
  },
  {
   "cell_type": "code",
   "source": [
    "accuracy, precision, recall, f1, conf_matrix = evaluate_model(model, test_loader)\n",
    "print(f'Accuracy: {accuracy:.4f}')\n",
    "print(f'Precision: {precision:.4f}')\n",
    "print(f'Recall: {recall:.4f}')\n",
    "print(f'F1 Score: {f1:.4f}')\n",
    "print('Confusion Matrix:\\n', conf_matrix)"
   ],
   "metadata": {
    "colab": {
     "base_uri": "https://localhost:8080/"
    },
    "id": "XMadU9MmmRLL",
    "outputId": "c71115bc-ca56-44f5-bdfd-97dc361d73a9"
   },
   "execution_count": 62,
   "outputs": [
    {
     "output_type": "stream",
     "name": "stdout",
     "text": [
      "Accuracy: 0.7780\n",
      "Precision: 0.7782\n",
      "Recall: 0.7780\n",
      "F1 Score: 0.7778\n",
      "Confusion Matrix:\n",
      " [[547 134]\n",
      " [159 480]]\n"
     ]
    }
   ]
  },
  {
   "cell_type": "markdown",
   "source": [
    "# Training an encoder transformer"
   ],
   "metadata": {
    "id": "DyFsd9Ddm4Og"
   }
  },
  {
   "cell_type": "code",
   "source": [
    "import torch\n",
    "import torch.nn as nn\n",
    "\n",
    "class TransformerModel(nn.Module):\n",
    "    def __init__(self, input_dim, num_heads, num_encoder_layers, dim_feedforward, n_classes, dropout=0.1):\n",
    "        super(TransformerModel, self).__init__()\n",
    "\n",
    "        # Embedding for positional encodings\n",
    "        self.embedding = nn.Linear(input_dim, dim_feedforward)\n",
    "\n",
    "        # Transformer Encoder\n",
    "        encoder_layer = nn.TransformerEncoderLayer(d_model=dim_feedforward,\n",
    "                                                   nhead=num_heads,\n",
    "                                                   dim_feedforward=dim_feedforward,\n",
    "                                                   dropout=dropout)\n",
    "        self.transformer_encoder = nn.TransformerEncoder(encoder_layer, num_layers=num_encoder_layers)\n",
    "\n",
    "        # Global average pooling\n",
    "        self.global_avg_pool = nn.AdaptiveAvgPool1d(1)\n",
    "\n",
    "        # Output layer\n",
    "        self.output = nn.Linear(dim_feedforward, n_classes)\n",
    "\n",
    "    def forward(self, src):\n",
    "        # src shape: [batch_size, seq_length, input_dim]\n",
    "        src = src.permute(1, 0, 2)  # Change src to shape [seq_length, batch_size, input_dim]\n",
    "        src = self.embedding(src)  # Change src to shape [seq_length, batch_size, dim_feedforward]\n",
    "        src = self.transformer_encoder(src)  # Transformer output shape [seq_length, batch_size, dim_feedforward]\n",
    "        src = src.permute(1, 2, 0)  # Change back to [batch_size, dim_feedforward, seq_length] for pooling\n",
    "        src = self.global_avg_pool(src).squeeze(2)  # Global average pooling and remove last dimension\n",
    "        output = self.output(src)  # Final output layer\n",
    "        return output"
   ],
   "metadata": {
    "id": "fg3_ud8qm7O1"
   },
   "execution_count": 63,
   "outputs": []
  },
  {
   "cell_type": "code",
   "source": [
    "input_dim = 1  # Number of features per timestep in the input\n",
    "num_heads = 2\n",
    "num_encoder_layers = 1\n",
    "dim_feedforward = 128\n",
    "n_classes = 2  # Number of output classes\n",
    "dropout = 0.1\n",
    "\n",
    "model = TransformerModel(input_dim, num_heads, num_encoder_layers, dim_feedforward, n_classes, dropout)"
   ],
   "metadata": {
    "colab": {
     "base_uri": "https://localhost:8080/"
    },
    "id": "_bIxcEpHnLLj",
    "outputId": "fbd72d29-aa7e-4d1a-e672-637d6fd27555"
   },
   "execution_count": 64,
   "outputs": [
    {
     "output_type": "stream",
     "name": "stderr",
     "text": [
      "/usr/local/lib/python3.10/dist-packages/torch/nn/modules/transformer.py:286: UserWarning: enable_nested_tensor is True, but self.use_nested_tensor is False because encoder_layer.self_attn.batch_first was not True(use batch_first for better inference performance)\n",
      "  warnings.warn(f\"enable_nested_tensor is True, but self.use_nested_tensor is False because {why_not_sparsity_fast_path}\")\n"
     ]
    }
   ]
  },
  {
   "cell_type": "code",
   "source": [
    "criterion = nn.CrossEntropyLoss()\n",
    "optimizer = torch.optim.Adam(model.parameters(), lr=0.001)\n",
    "\n",
    "def train_model(model, train_loader, num_epochs):\n",
    "    model.train()\n",
    "    for epoch in range(num_epochs):\n",
    "        for data, labels in train_loader:\n",
    "            # data = data.permute(0, 2, 1)  # Adjust data dimensions to [batch_size, input_dim, seq_length]\n",
    "            optimizer.zero_grad()\n",
    "            outputs = model(data)\n",
    "            loss = criterion(outputs, labels)\n",
    "            loss.backward()\n",
    "            optimizer.step()\n",
    "        print(f'Epoch {epoch+1}/{num_epochs}, Loss: {loss.item()}')\n",
    "\n",
    "train_model(model, train_loader, 10)"
   ],
   "metadata": {
    "colab": {
     "base_uri": "https://localhost:8080/",
     "height": 408
    },
    "id": "KW8Gk6aInM-y",
    "outputId": "3b45cc28-18e9-452e-e747-9c6d09a45b08"
   },
   "execution_count": 65,
   "outputs": [
    {
     "output_type": "stream",
     "name": "stdout",
     "text": [
      "Epoch 1/10, Loss: 0.6900278329849243\n",
      "Epoch 2/10, Loss: 0.7805297374725342\n",
      "Epoch 3/10, Loss: 0.6842940449714661\n",
      "Epoch 4/10, Loss: 0.6905501484870911\n"
     ]
    },
    {
     "output_type": "error",
     "ename": "KeyboardInterrupt",
     "evalue": "",
     "traceback": [
      "\u001B[0;31m---------------------------------------------------------------------------\u001B[0m",
      "\u001B[0;31mKeyboardInterrupt\u001B[0m                         Traceback (most recent call last)",
      "\u001B[0;32m<ipython-input-65-8b78741adc12>\u001B[0m in \u001B[0;36m<cell line: 16>\u001B[0;34m()\u001B[0m\n\u001B[1;32m     14\u001B[0m         \u001B[0mprint\u001B[0m\u001B[0;34m(\u001B[0m\u001B[0;34mf'Epoch {epoch+1}/{num_epochs}, Loss: {loss.item()}'\u001B[0m\u001B[0;34m)\u001B[0m\u001B[0;34m\u001B[0m\u001B[0;34m\u001B[0m\u001B[0m\n\u001B[1;32m     15\u001B[0m \u001B[0;34m\u001B[0m\u001B[0m\n\u001B[0;32m---> 16\u001B[0;31m \u001B[0mtrain_model\u001B[0m\u001B[0;34m(\u001B[0m\u001B[0mmodel\u001B[0m\u001B[0;34m,\u001B[0m \u001B[0mtrain_loader\u001B[0m\u001B[0;34m,\u001B[0m \u001B[0;36m10\u001B[0m\u001B[0;34m)\u001B[0m\u001B[0;34m\u001B[0m\u001B[0;34m\u001B[0m\u001B[0m\n\u001B[0m",
      "\u001B[0;32m<ipython-input-65-8b78741adc12>\u001B[0m in \u001B[0;36mtrain_model\u001B[0;34m(model, train_loader, num_epochs)\u001B[0m\n\u001B[1;32m      8\u001B[0m             \u001B[0;31m# data = data.permute(0, 2, 1)  # Adjust data dimensions to [batch_size, input_dim, seq_length]\u001B[0m\u001B[0;34m\u001B[0m\u001B[0;34m\u001B[0m\u001B[0m\n\u001B[1;32m      9\u001B[0m             \u001B[0moptimizer\u001B[0m\u001B[0;34m.\u001B[0m\u001B[0mzero_grad\u001B[0m\u001B[0;34m(\u001B[0m\u001B[0;34m)\u001B[0m\u001B[0;34m\u001B[0m\u001B[0;34m\u001B[0m\u001B[0m\n\u001B[0;32m---> 10\u001B[0;31m             \u001B[0moutputs\u001B[0m \u001B[0;34m=\u001B[0m \u001B[0mmodel\u001B[0m\u001B[0;34m(\u001B[0m\u001B[0mdata\u001B[0m\u001B[0;34m)\u001B[0m\u001B[0;34m\u001B[0m\u001B[0;34m\u001B[0m\u001B[0m\n\u001B[0m\u001B[1;32m     11\u001B[0m             \u001B[0mloss\u001B[0m \u001B[0;34m=\u001B[0m \u001B[0mcriterion\u001B[0m\u001B[0;34m(\u001B[0m\u001B[0moutputs\u001B[0m\u001B[0;34m,\u001B[0m \u001B[0mlabels\u001B[0m\u001B[0;34m)\u001B[0m\u001B[0;34m\u001B[0m\u001B[0;34m\u001B[0m\u001B[0m\n\u001B[1;32m     12\u001B[0m             \u001B[0mloss\u001B[0m\u001B[0;34m.\u001B[0m\u001B[0mbackward\u001B[0m\u001B[0;34m(\u001B[0m\u001B[0;34m)\u001B[0m\u001B[0;34m\u001B[0m\u001B[0;34m\u001B[0m\u001B[0m\n",
      "\u001B[0;32m/usr/local/lib/python3.10/dist-packages/torch/nn/modules/module.py\u001B[0m in \u001B[0;36m_wrapped_call_impl\u001B[0;34m(self, *args, **kwargs)\u001B[0m\n\u001B[1;32m   1509\u001B[0m             \u001B[0;32mreturn\u001B[0m \u001B[0mself\u001B[0m\u001B[0;34m.\u001B[0m\u001B[0m_compiled_call_impl\u001B[0m\u001B[0;34m(\u001B[0m\u001B[0;34m*\u001B[0m\u001B[0margs\u001B[0m\u001B[0;34m,\u001B[0m \u001B[0;34m**\u001B[0m\u001B[0mkwargs\u001B[0m\u001B[0;34m)\u001B[0m  \u001B[0;31m# type: ignore[misc]\u001B[0m\u001B[0;34m\u001B[0m\u001B[0;34m\u001B[0m\u001B[0m\n\u001B[1;32m   1510\u001B[0m         \u001B[0;32melse\u001B[0m\u001B[0;34m:\u001B[0m\u001B[0;34m\u001B[0m\u001B[0;34m\u001B[0m\u001B[0m\n\u001B[0;32m-> 1511\u001B[0;31m             \u001B[0;32mreturn\u001B[0m \u001B[0mself\u001B[0m\u001B[0;34m.\u001B[0m\u001B[0m_call_impl\u001B[0m\u001B[0;34m(\u001B[0m\u001B[0;34m*\u001B[0m\u001B[0margs\u001B[0m\u001B[0;34m,\u001B[0m \u001B[0;34m**\u001B[0m\u001B[0mkwargs\u001B[0m\u001B[0;34m)\u001B[0m\u001B[0;34m\u001B[0m\u001B[0;34m\u001B[0m\u001B[0m\n\u001B[0m\u001B[1;32m   1512\u001B[0m \u001B[0;34m\u001B[0m\u001B[0m\n\u001B[1;32m   1513\u001B[0m     \u001B[0;32mdef\u001B[0m \u001B[0m_call_impl\u001B[0m\u001B[0;34m(\u001B[0m\u001B[0mself\u001B[0m\u001B[0;34m,\u001B[0m \u001B[0;34m*\u001B[0m\u001B[0margs\u001B[0m\u001B[0;34m,\u001B[0m \u001B[0;34m**\u001B[0m\u001B[0mkwargs\u001B[0m\u001B[0;34m)\u001B[0m\u001B[0;34m:\u001B[0m\u001B[0;34m\u001B[0m\u001B[0;34m\u001B[0m\u001B[0m\n",
      "\u001B[0;32m/usr/local/lib/python3.10/dist-packages/torch/nn/modules/module.py\u001B[0m in \u001B[0;36m_call_impl\u001B[0;34m(self, *args, **kwargs)\u001B[0m\n\u001B[1;32m   1518\u001B[0m                 \u001B[0;32mor\u001B[0m \u001B[0m_global_backward_pre_hooks\u001B[0m \u001B[0;32mor\u001B[0m \u001B[0m_global_backward_hooks\u001B[0m\u001B[0;34m\u001B[0m\u001B[0;34m\u001B[0m\u001B[0m\n\u001B[1;32m   1519\u001B[0m                 or _global_forward_hooks or _global_forward_pre_hooks):\n\u001B[0;32m-> 1520\u001B[0;31m             \u001B[0;32mreturn\u001B[0m \u001B[0mforward_call\u001B[0m\u001B[0;34m(\u001B[0m\u001B[0;34m*\u001B[0m\u001B[0margs\u001B[0m\u001B[0;34m,\u001B[0m \u001B[0;34m**\u001B[0m\u001B[0mkwargs\u001B[0m\u001B[0;34m)\u001B[0m\u001B[0;34m\u001B[0m\u001B[0;34m\u001B[0m\u001B[0m\n\u001B[0m\u001B[1;32m   1521\u001B[0m \u001B[0;34m\u001B[0m\u001B[0m\n\u001B[1;32m   1522\u001B[0m         \u001B[0;32mtry\u001B[0m\u001B[0;34m:\u001B[0m\u001B[0;34m\u001B[0m\u001B[0;34m\u001B[0m\u001B[0m\n",
      "\u001B[0;32m<ipython-input-63-4b9fd6078b2c>\u001B[0m in \u001B[0;36mforward\u001B[0;34m(self, src)\u001B[0m\n\u001B[1;32m     26\u001B[0m         \u001B[0msrc\u001B[0m \u001B[0;34m=\u001B[0m \u001B[0msrc\u001B[0m\u001B[0;34m.\u001B[0m\u001B[0mpermute\u001B[0m\u001B[0;34m(\u001B[0m\u001B[0;36m1\u001B[0m\u001B[0;34m,\u001B[0m \u001B[0;36m0\u001B[0m\u001B[0;34m,\u001B[0m \u001B[0;36m2\u001B[0m\u001B[0;34m)\u001B[0m  \u001B[0;31m# Change src to shape [seq_length, batch_size, input_dim]\u001B[0m\u001B[0;34m\u001B[0m\u001B[0;34m\u001B[0m\u001B[0m\n\u001B[1;32m     27\u001B[0m         \u001B[0msrc\u001B[0m \u001B[0;34m=\u001B[0m \u001B[0mself\u001B[0m\u001B[0;34m.\u001B[0m\u001B[0membedding\u001B[0m\u001B[0;34m(\u001B[0m\u001B[0msrc\u001B[0m\u001B[0;34m)\u001B[0m  \u001B[0;31m# Change src to shape [seq_length, batch_size, dim_feedforward]\u001B[0m\u001B[0;34m\u001B[0m\u001B[0;34m\u001B[0m\u001B[0m\n\u001B[0;32m---> 28\u001B[0;31m         \u001B[0msrc\u001B[0m \u001B[0;34m=\u001B[0m \u001B[0mself\u001B[0m\u001B[0;34m.\u001B[0m\u001B[0mtransformer_encoder\u001B[0m\u001B[0;34m(\u001B[0m\u001B[0msrc\u001B[0m\u001B[0;34m)\u001B[0m  \u001B[0;31m# Transformer output shape [seq_length, batch_size, dim_feedforward]\u001B[0m\u001B[0;34m\u001B[0m\u001B[0;34m\u001B[0m\u001B[0m\n\u001B[0m\u001B[1;32m     29\u001B[0m         \u001B[0msrc\u001B[0m \u001B[0;34m=\u001B[0m \u001B[0msrc\u001B[0m\u001B[0;34m.\u001B[0m\u001B[0mpermute\u001B[0m\u001B[0;34m(\u001B[0m\u001B[0;36m1\u001B[0m\u001B[0;34m,\u001B[0m \u001B[0;36m2\u001B[0m\u001B[0;34m,\u001B[0m \u001B[0;36m0\u001B[0m\u001B[0;34m)\u001B[0m  \u001B[0;31m# Change back to [batch_size, dim_feedforward, seq_length] for pooling\u001B[0m\u001B[0;34m\u001B[0m\u001B[0;34m\u001B[0m\u001B[0m\n\u001B[1;32m     30\u001B[0m         \u001B[0msrc\u001B[0m \u001B[0;34m=\u001B[0m \u001B[0mself\u001B[0m\u001B[0;34m.\u001B[0m\u001B[0mglobal_avg_pool\u001B[0m\u001B[0;34m(\u001B[0m\u001B[0msrc\u001B[0m\u001B[0;34m)\u001B[0m\u001B[0;34m.\u001B[0m\u001B[0msqueeze\u001B[0m\u001B[0;34m(\u001B[0m\u001B[0;36m2\u001B[0m\u001B[0;34m)\u001B[0m  \u001B[0;31m# Global average pooling and remove last dimension\u001B[0m\u001B[0;34m\u001B[0m\u001B[0;34m\u001B[0m\u001B[0m\n",
      "\u001B[0;32m/usr/local/lib/python3.10/dist-packages/torch/nn/modules/module.py\u001B[0m in \u001B[0;36m_wrapped_call_impl\u001B[0;34m(self, *args, **kwargs)\u001B[0m\n\u001B[1;32m   1509\u001B[0m             \u001B[0;32mreturn\u001B[0m \u001B[0mself\u001B[0m\u001B[0;34m.\u001B[0m\u001B[0m_compiled_call_impl\u001B[0m\u001B[0;34m(\u001B[0m\u001B[0;34m*\u001B[0m\u001B[0margs\u001B[0m\u001B[0;34m,\u001B[0m \u001B[0;34m**\u001B[0m\u001B[0mkwargs\u001B[0m\u001B[0;34m)\u001B[0m  \u001B[0;31m# type: ignore[misc]\u001B[0m\u001B[0;34m\u001B[0m\u001B[0;34m\u001B[0m\u001B[0m\n\u001B[1;32m   1510\u001B[0m         \u001B[0;32melse\u001B[0m\u001B[0;34m:\u001B[0m\u001B[0;34m\u001B[0m\u001B[0;34m\u001B[0m\u001B[0m\n\u001B[0;32m-> 1511\u001B[0;31m             \u001B[0;32mreturn\u001B[0m \u001B[0mself\u001B[0m\u001B[0;34m.\u001B[0m\u001B[0m_call_impl\u001B[0m\u001B[0;34m(\u001B[0m\u001B[0;34m*\u001B[0m\u001B[0margs\u001B[0m\u001B[0;34m,\u001B[0m \u001B[0;34m**\u001B[0m\u001B[0mkwargs\u001B[0m\u001B[0;34m)\u001B[0m\u001B[0;34m\u001B[0m\u001B[0;34m\u001B[0m\u001B[0m\n\u001B[0m\u001B[1;32m   1512\u001B[0m \u001B[0;34m\u001B[0m\u001B[0m\n\u001B[1;32m   1513\u001B[0m     \u001B[0;32mdef\u001B[0m \u001B[0m_call_impl\u001B[0m\u001B[0;34m(\u001B[0m\u001B[0mself\u001B[0m\u001B[0;34m,\u001B[0m \u001B[0;34m*\u001B[0m\u001B[0margs\u001B[0m\u001B[0;34m,\u001B[0m \u001B[0;34m**\u001B[0m\u001B[0mkwargs\u001B[0m\u001B[0;34m)\u001B[0m\u001B[0;34m:\u001B[0m\u001B[0;34m\u001B[0m\u001B[0;34m\u001B[0m\u001B[0m\n",
      "\u001B[0;32m/usr/local/lib/python3.10/dist-packages/torch/nn/modules/module.py\u001B[0m in \u001B[0;36m_call_impl\u001B[0;34m(self, *args, **kwargs)\u001B[0m\n\u001B[1;32m   1518\u001B[0m                 \u001B[0;32mor\u001B[0m \u001B[0m_global_backward_pre_hooks\u001B[0m \u001B[0;32mor\u001B[0m \u001B[0m_global_backward_hooks\u001B[0m\u001B[0;34m\u001B[0m\u001B[0;34m\u001B[0m\u001B[0m\n\u001B[1;32m   1519\u001B[0m                 or _global_forward_hooks or _global_forward_pre_hooks):\n\u001B[0;32m-> 1520\u001B[0;31m             \u001B[0;32mreturn\u001B[0m \u001B[0mforward_call\u001B[0m\u001B[0;34m(\u001B[0m\u001B[0;34m*\u001B[0m\u001B[0margs\u001B[0m\u001B[0;34m,\u001B[0m \u001B[0;34m**\u001B[0m\u001B[0mkwargs\u001B[0m\u001B[0;34m)\u001B[0m\u001B[0;34m\u001B[0m\u001B[0;34m\u001B[0m\u001B[0m\n\u001B[0m\u001B[1;32m   1521\u001B[0m \u001B[0;34m\u001B[0m\u001B[0m\n\u001B[1;32m   1522\u001B[0m         \u001B[0;32mtry\u001B[0m\u001B[0;34m:\u001B[0m\u001B[0;34m\u001B[0m\u001B[0;34m\u001B[0m\u001B[0m\n",
      "\u001B[0;32m/usr/local/lib/python3.10/dist-packages/torch/nn/modules/transformer.py\u001B[0m in \u001B[0;36mforward\u001B[0;34m(self, src, mask, src_key_padding_mask, is_causal)\u001B[0m\n\u001B[1;32m    389\u001B[0m \u001B[0;34m\u001B[0m\u001B[0m\n\u001B[1;32m    390\u001B[0m         \u001B[0;32mfor\u001B[0m \u001B[0mmod\u001B[0m \u001B[0;32min\u001B[0m \u001B[0mself\u001B[0m\u001B[0;34m.\u001B[0m\u001B[0mlayers\u001B[0m\u001B[0;34m:\u001B[0m\u001B[0;34m\u001B[0m\u001B[0;34m\u001B[0m\u001B[0m\n\u001B[0;32m--> 391\u001B[0;31m             \u001B[0moutput\u001B[0m \u001B[0;34m=\u001B[0m \u001B[0mmod\u001B[0m\u001B[0;34m(\u001B[0m\u001B[0moutput\u001B[0m\u001B[0;34m,\u001B[0m \u001B[0msrc_mask\u001B[0m\u001B[0;34m=\u001B[0m\u001B[0mmask\u001B[0m\u001B[0;34m,\u001B[0m \u001B[0mis_causal\u001B[0m\u001B[0;34m=\u001B[0m\u001B[0mis_causal\u001B[0m\u001B[0;34m,\u001B[0m \u001B[0msrc_key_padding_mask\u001B[0m\u001B[0;34m=\u001B[0m\u001B[0msrc_key_padding_mask_for_layers\u001B[0m\u001B[0;34m)\u001B[0m\u001B[0;34m\u001B[0m\u001B[0;34m\u001B[0m\u001B[0m\n\u001B[0m\u001B[1;32m    392\u001B[0m \u001B[0;34m\u001B[0m\u001B[0m\n\u001B[1;32m    393\u001B[0m         \u001B[0;32mif\u001B[0m \u001B[0mconvert_to_nested\u001B[0m\u001B[0;34m:\u001B[0m\u001B[0;34m\u001B[0m\u001B[0;34m\u001B[0m\u001B[0m\n",
      "\u001B[0;32m/usr/local/lib/python3.10/dist-packages/torch/nn/modules/module.py\u001B[0m in \u001B[0;36m_wrapped_call_impl\u001B[0;34m(self, *args, **kwargs)\u001B[0m\n\u001B[1;32m   1509\u001B[0m             \u001B[0;32mreturn\u001B[0m \u001B[0mself\u001B[0m\u001B[0;34m.\u001B[0m\u001B[0m_compiled_call_impl\u001B[0m\u001B[0;34m(\u001B[0m\u001B[0;34m*\u001B[0m\u001B[0margs\u001B[0m\u001B[0;34m,\u001B[0m \u001B[0;34m**\u001B[0m\u001B[0mkwargs\u001B[0m\u001B[0;34m)\u001B[0m  \u001B[0;31m# type: ignore[misc]\u001B[0m\u001B[0;34m\u001B[0m\u001B[0;34m\u001B[0m\u001B[0m\n\u001B[1;32m   1510\u001B[0m         \u001B[0;32melse\u001B[0m\u001B[0;34m:\u001B[0m\u001B[0;34m\u001B[0m\u001B[0;34m\u001B[0m\u001B[0m\n\u001B[0;32m-> 1511\u001B[0;31m             \u001B[0;32mreturn\u001B[0m \u001B[0mself\u001B[0m\u001B[0;34m.\u001B[0m\u001B[0m_call_impl\u001B[0m\u001B[0;34m(\u001B[0m\u001B[0;34m*\u001B[0m\u001B[0margs\u001B[0m\u001B[0;34m,\u001B[0m \u001B[0;34m**\u001B[0m\u001B[0mkwargs\u001B[0m\u001B[0;34m)\u001B[0m\u001B[0;34m\u001B[0m\u001B[0;34m\u001B[0m\u001B[0m\n\u001B[0m\u001B[1;32m   1512\u001B[0m \u001B[0;34m\u001B[0m\u001B[0m\n\u001B[1;32m   1513\u001B[0m     \u001B[0;32mdef\u001B[0m \u001B[0m_call_impl\u001B[0m\u001B[0;34m(\u001B[0m\u001B[0mself\u001B[0m\u001B[0;34m,\u001B[0m \u001B[0;34m*\u001B[0m\u001B[0margs\u001B[0m\u001B[0;34m,\u001B[0m \u001B[0;34m**\u001B[0m\u001B[0mkwargs\u001B[0m\u001B[0;34m)\u001B[0m\u001B[0;34m:\u001B[0m\u001B[0;34m\u001B[0m\u001B[0;34m\u001B[0m\u001B[0m\n",
      "\u001B[0;32m/usr/local/lib/python3.10/dist-packages/torch/nn/modules/module.py\u001B[0m in \u001B[0;36m_call_impl\u001B[0;34m(self, *args, **kwargs)\u001B[0m\n\u001B[1;32m   1518\u001B[0m                 \u001B[0;32mor\u001B[0m \u001B[0m_global_backward_pre_hooks\u001B[0m \u001B[0;32mor\u001B[0m \u001B[0m_global_backward_hooks\u001B[0m\u001B[0;34m\u001B[0m\u001B[0;34m\u001B[0m\u001B[0m\n\u001B[1;32m   1519\u001B[0m                 or _global_forward_hooks or _global_forward_pre_hooks):\n\u001B[0;32m-> 1520\u001B[0;31m             \u001B[0;32mreturn\u001B[0m \u001B[0mforward_call\u001B[0m\u001B[0;34m(\u001B[0m\u001B[0;34m*\u001B[0m\u001B[0margs\u001B[0m\u001B[0;34m,\u001B[0m \u001B[0;34m**\u001B[0m\u001B[0mkwargs\u001B[0m\u001B[0;34m)\u001B[0m\u001B[0;34m\u001B[0m\u001B[0;34m\u001B[0m\u001B[0m\n\u001B[0m\u001B[1;32m   1521\u001B[0m \u001B[0;34m\u001B[0m\u001B[0m\n\u001B[1;32m   1522\u001B[0m         \u001B[0;32mtry\u001B[0m\u001B[0;34m:\u001B[0m\u001B[0;34m\u001B[0m\u001B[0;34m\u001B[0m\u001B[0m\n",
      "\u001B[0;32m/usr/local/lib/python3.10/dist-packages/torch/nn/modules/transformer.py\u001B[0m in \u001B[0;36mforward\u001B[0;34m(self, src, src_mask, src_key_padding_mask, is_causal)\u001B[0m\n\u001B[1;32m    712\u001B[0m             \u001B[0mx\u001B[0m \u001B[0;34m=\u001B[0m \u001B[0mx\u001B[0m \u001B[0;34m+\u001B[0m \u001B[0mself\u001B[0m\u001B[0;34m.\u001B[0m\u001B[0m_ff_block\u001B[0m\u001B[0;34m(\u001B[0m\u001B[0mself\u001B[0m\u001B[0;34m.\u001B[0m\u001B[0mnorm2\u001B[0m\u001B[0;34m(\u001B[0m\u001B[0mx\u001B[0m\u001B[0;34m)\u001B[0m\u001B[0;34m)\u001B[0m\u001B[0;34m\u001B[0m\u001B[0;34m\u001B[0m\u001B[0m\n\u001B[1;32m    713\u001B[0m         \u001B[0;32melse\u001B[0m\u001B[0;34m:\u001B[0m\u001B[0;34m\u001B[0m\u001B[0;34m\u001B[0m\u001B[0m\n\u001B[0;32m--> 714\u001B[0;31m             \u001B[0mx\u001B[0m \u001B[0;34m=\u001B[0m \u001B[0mself\u001B[0m\u001B[0;34m.\u001B[0m\u001B[0mnorm1\u001B[0m\u001B[0;34m(\u001B[0m\u001B[0mx\u001B[0m \u001B[0;34m+\u001B[0m \u001B[0mself\u001B[0m\u001B[0;34m.\u001B[0m\u001B[0m_sa_block\u001B[0m\u001B[0;34m(\u001B[0m\u001B[0mx\u001B[0m\u001B[0;34m,\u001B[0m \u001B[0msrc_mask\u001B[0m\u001B[0;34m,\u001B[0m \u001B[0msrc_key_padding_mask\u001B[0m\u001B[0;34m,\u001B[0m \u001B[0mis_causal\u001B[0m\u001B[0;34m=\u001B[0m\u001B[0mis_causal\u001B[0m\u001B[0;34m)\u001B[0m\u001B[0;34m)\u001B[0m\u001B[0;34m\u001B[0m\u001B[0;34m\u001B[0m\u001B[0m\n\u001B[0m\u001B[1;32m    715\u001B[0m             \u001B[0mx\u001B[0m \u001B[0;34m=\u001B[0m \u001B[0mself\u001B[0m\u001B[0;34m.\u001B[0m\u001B[0mnorm2\u001B[0m\u001B[0;34m(\u001B[0m\u001B[0mx\u001B[0m \u001B[0;34m+\u001B[0m \u001B[0mself\u001B[0m\u001B[0;34m.\u001B[0m\u001B[0m_ff_block\u001B[0m\u001B[0;34m(\u001B[0m\u001B[0mx\u001B[0m\u001B[0;34m)\u001B[0m\u001B[0;34m)\u001B[0m\u001B[0;34m\u001B[0m\u001B[0;34m\u001B[0m\u001B[0m\n\u001B[1;32m    716\u001B[0m \u001B[0;34m\u001B[0m\u001B[0m\n",
      "\u001B[0;32m/usr/local/lib/python3.10/dist-packages/torch/nn/modules/transformer.py\u001B[0m in \u001B[0;36m_sa_block\u001B[0;34m(self, x, attn_mask, key_padding_mask, is_causal)\u001B[0m\n\u001B[1;32m    720\u001B[0m     def _sa_block(self, x: Tensor,\n\u001B[1;32m    721\u001B[0m                   attn_mask: Optional[Tensor], key_padding_mask: Optional[Tensor], is_causal: bool = False) -> Tensor:\n\u001B[0;32m--> 722\u001B[0;31m         x = self.self_attn(x, x, x,\n\u001B[0m\u001B[1;32m    723\u001B[0m                            \u001B[0mattn_mask\u001B[0m\u001B[0;34m=\u001B[0m\u001B[0mattn_mask\u001B[0m\u001B[0;34m,\u001B[0m\u001B[0;34m\u001B[0m\u001B[0;34m\u001B[0m\u001B[0m\n\u001B[1;32m    724\u001B[0m                            \u001B[0mkey_padding_mask\u001B[0m\u001B[0;34m=\u001B[0m\u001B[0mkey_padding_mask\u001B[0m\u001B[0;34m,\u001B[0m\u001B[0;34m\u001B[0m\u001B[0;34m\u001B[0m\u001B[0m\n",
      "\u001B[0;32m/usr/local/lib/python3.10/dist-packages/torch/nn/modules/module.py\u001B[0m in \u001B[0;36m_wrapped_call_impl\u001B[0;34m(self, *args, **kwargs)\u001B[0m\n\u001B[1;32m   1509\u001B[0m             \u001B[0;32mreturn\u001B[0m \u001B[0mself\u001B[0m\u001B[0;34m.\u001B[0m\u001B[0m_compiled_call_impl\u001B[0m\u001B[0;34m(\u001B[0m\u001B[0;34m*\u001B[0m\u001B[0margs\u001B[0m\u001B[0;34m,\u001B[0m \u001B[0;34m**\u001B[0m\u001B[0mkwargs\u001B[0m\u001B[0;34m)\u001B[0m  \u001B[0;31m# type: ignore[misc]\u001B[0m\u001B[0;34m\u001B[0m\u001B[0;34m\u001B[0m\u001B[0m\n\u001B[1;32m   1510\u001B[0m         \u001B[0;32melse\u001B[0m\u001B[0;34m:\u001B[0m\u001B[0;34m\u001B[0m\u001B[0;34m\u001B[0m\u001B[0m\n\u001B[0;32m-> 1511\u001B[0;31m             \u001B[0;32mreturn\u001B[0m \u001B[0mself\u001B[0m\u001B[0;34m.\u001B[0m\u001B[0m_call_impl\u001B[0m\u001B[0;34m(\u001B[0m\u001B[0;34m*\u001B[0m\u001B[0margs\u001B[0m\u001B[0;34m,\u001B[0m \u001B[0;34m**\u001B[0m\u001B[0mkwargs\u001B[0m\u001B[0;34m)\u001B[0m\u001B[0;34m\u001B[0m\u001B[0;34m\u001B[0m\u001B[0m\n\u001B[0m\u001B[1;32m   1512\u001B[0m \u001B[0;34m\u001B[0m\u001B[0m\n\u001B[1;32m   1513\u001B[0m     \u001B[0;32mdef\u001B[0m \u001B[0m_call_impl\u001B[0m\u001B[0;34m(\u001B[0m\u001B[0mself\u001B[0m\u001B[0;34m,\u001B[0m \u001B[0;34m*\u001B[0m\u001B[0margs\u001B[0m\u001B[0;34m,\u001B[0m \u001B[0;34m**\u001B[0m\u001B[0mkwargs\u001B[0m\u001B[0;34m)\u001B[0m\u001B[0;34m:\u001B[0m\u001B[0;34m\u001B[0m\u001B[0;34m\u001B[0m\u001B[0m\n",
      "\u001B[0;32m/usr/local/lib/python3.10/dist-packages/torch/nn/modules/module.py\u001B[0m in \u001B[0;36m_call_impl\u001B[0;34m(self, *args, **kwargs)\u001B[0m\n\u001B[1;32m   1518\u001B[0m                 \u001B[0;32mor\u001B[0m \u001B[0m_global_backward_pre_hooks\u001B[0m \u001B[0;32mor\u001B[0m \u001B[0m_global_backward_hooks\u001B[0m\u001B[0;34m\u001B[0m\u001B[0;34m\u001B[0m\u001B[0m\n\u001B[1;32m   1519\u001B[0m                 or _global_forward_hooks or _global_forward_pre_hooks):\n\u001B[0;32m-> 1520\u001B[0;31m             \u001B[0;32mreturn\u001B[0m \u001B[0mforward_call\u001B[0m\u001B[0;34m(\u001B[0m\u001B[0;34m*\u001B[0m\u001B[0margs\u001B[0m\u001B[0;34m,\u001B[0m \u001B[0;34m**\u001B[0m\u001B[0mkwargs\u001B[0m\u001B[0;34m)\u001B[0m\u001B[0;34m\u001B[0m\u001B[0;34m\u001B[0m\u001B[0m\n\u001B[0m\u001B[1;32m   1521\u001B[0m \u001B[0;34m\u001B[0m\u001B[0m\n\u001B[1;32m   1522\u001B[0m         \u001B[0;32mtry\u001B[0m\u001B[0;34m:\u001B[0m\u001B[0;34m\u001B[0m\u001B[0;34m\u001B[0m\u001B[0m\n",
      "\u001B[0;32m/usr/local/lib/python3.10/dist-packages/torch/nn/modules/activation.py\u001B[0m in \u001B[0;36mforward\u001B[0;34m(self, query, key, value, key_padding_mask, need_weights, attn_mask, average_attn_weights, is_causal)\u001B[0m\n\u001B[1;32m   1239\u001B[0m                 is_causal=is_causal)\n\u001B[1;32m   1240\u001B[0m         \u001B[0;32melse\u001B[0m\u001B[0;34m:\u001B[0m\u001B[0;34m\u001B[0m\u001B[0;34m\u001B[0m\u001B[0m\n\u001B[0;32m-> 1241\u001B[0;31m             attn_output, attn_output_weights = F.multi_head_attention_forward(\n\u001B[0m\u001B[1;32m   1242\u001B[0m                 \u001B[0mquery\u001B[0m\u001B[0;34m,\u001B[0m \u001B[0mkey\u001B[0m\u001B[0;34m,\u001B[0m \u001B[0mvalue\u001B[0m\u001B[0;34m,\u001B[0m \u001B[0mself\u001B[0m\u001B[0;34m.\u001B[0m\u001B[0membed_dim\u001B[0m\u001B[0;34m,\u001B[0m \u001B[0mself\u001B[0m\u001B[0;34m.\u001B[0m\u001B[0mnum_heads\u001B[0m\u001B[0;34m,\u001B[0m\u001B[0;34m\u001B[0m\u001B[0;34m\u001B[0m\u001B[0m\n\u001B[1;32m   1243\u001B[0m                 \u001B[0mself\u001B[0m\u001B[0;34m.\u001B[0m\u001B[0min_proj_weight\u001B[0m\u001B[0;34m,\u001B[0m \u001B[0mself\u001B[0m\u001B[0;34m.\u001B[0m\u001B[0min_proj_bias\u001B[0m\u001B[0;34m,\u001B[0m\u001B[0;34m\u001B[0m\u001B[0;34m\u001B[0m\u001B[0m\n",
      "\u001B[0;32m/usr/local/lib/python3.10/dist-packages/torch/nn/functional.py\u001B[0m in \u001B[0;36mmulti_head_attention_forward\u001B[0;34m(query, key, value, embed_dim_to_check, num_heads, in_proj_weight, in_proj_bias, bias_k, bias_v, add_zero_attn, dropout_p, out_proj_weight, out_proj_bias, training, key_padding_mask, need_weights, attn_mask, use_separate_proj_weight, q_proj_weight, k_proj_weight, v_proj_weight, static_k, static_v, average_attn_weights, is_causal)\u001B[0m\n\u001B[1;32m   5474\u001B[0m         \u001B[0mv\u001B[0m \u001B[0;34m=\u001B[0m \u001B[0mv\u001B[0m\u001B[0;34m.\u001B[0m\u001B[0mview\u001B[0m\u001B[0;34m(\u001B[0m\u001B[0mbsz\u001B[0m\u001B[0;34m,\u001B[0m \u001B[0mnum_heads\u001B[0m\u001B[0;34m,\u001B[0m \u001B[0msrc_len\u001B[0m\u001B[0;34m,\u001B[0m \u001B[0mhead_dim\u001B[0m\u001B[0;34m)\u001B[0m\u001B[0;34m\u001B[0m\u001B[0;34m\u001B[0m\u001B[0m\n\u001B[1;32m   5475\u001B[0m \u001B[0;34m\u001B[0m\u001B[0m\n\u001B[0;32m-> 5476\u001B[0;31m         \u001B[0mattn_output\u001B[0m \u001B[0;34m=\u001B[0m \u001B[0mscaled_dot_product_attention\u001B[0m\u001B[0;34m(\u001B[0m\u001B[0mq\u001B[0m\u001B[0;34m,\u001B[0m \u001B[0mk\u001B[0m\u001B[0;34m,\u001B[0m \u001B[0mv\u001B[0m\u001B[0;34m,\u001B[0m \u001B[0mattn_mask\u001B[0m\u001B[0;34m,\u001B[0m \u001B[0mdropout_p\u001B[0m\u001B[0;34m,\u001B[0m \u001B[0mis_causal\u001B[0m\u001B[0;34m)\u001B[0m\u001B[0;34m\u001B[0m\u001B[0;34m\u001B[0m\u001B[0m\n\u001B[0m\u001B[1;32m   5477\u001B[0m         \u001B[0mattn_output\u001B[0m \u001B[0;34m=\u001B[0m \u001B[0mattn_output\u001B[0m\u001B[0;34m.\u001B[0m\u001B[0mpermute\u001B[0m\u001B[0;34m(\u001B[0m\u001B[0;36m2\u001B[0m\u001B[0;34m,\u001B[0m \u001B[0;36m0\u001B[0m\u001B[0;34m,\u001B[0m \u001B[0;36m1\u001B[0m\u001B[0;34m,\u001B[0m \u001B[0;36m3\u001B[0m\u001B[0;34m)\u001B[0m\u001B[0;34m.\u001B[0m\u001B[0mcontiguous\u001B[0m\u001B[0;34m(\u001B[0m\u001B[0;34m)\u001B[0m\u001B[0;34m.\u001B[0m\u001B[0mview\u001B[0m\u001B[0;34m(\u001B[0m\u001B[0mbsz\u001B[0m \u001B[0;34m*\u001B[0m \u001B[0mtgt_len\u001B[0m\u001B[0;34m,\u001B[0m \u001B[0membed_dim\u001B[0m\u001B[0;34m)\u001B[0m\u001B[0;34m\u001B[0m\u001B[0;34m\u001B[0m\u001B[0m\n\u001B[1;32m   5478\u001B[0m \u001B[0;34m\u001B[0m\u001B[0m\n",
      "\u001B[0;31mKeyboardInterrupt\u001B[0m: "
     ]
    }
   ]
  },
  {
   "cell_type": "code",
   "source": [
    "accuracy, precision, recall, f1, conf_matrix = evaluate_model(model, test_loader)\n",
    "print(f'Accuracy: {accuracy:.4f}')\n",
    "print(f'Precision: {precision:.4f}')\n",
    "print(f'Recall: {recall:.4f}')\n",
    "print(f'F1 Score: {f1:.4f}')\n",
    "print('Confusion Matrix:\\n', conf_matrix)"
   ],
   "metadata": {
    "colab": {
     "base_uri": "https://localhost:8080/"
    },
    "id": "94ynVJ51nTA9",
    "outputId": "6bd4b8d5-7aa6-4775-ba8b-fa7d2590449d"
   },
   "execution_count": 74,
   "outputs": [
    {
     "output_type": "stream",
     "name": "stdout",
     "text": [
      "Accuracy: 0.5159\n",
      "Precision: 0.2662\n",
      "Recall: 0.5159\n",
      "F1 Score: 0.3512\n",
      "Confusion Matrix:\n",
      " [[681   0]\n",
      " [639   0]]\n"
     ]
    },
    {
     "output_type": "stream",
     "name": "stderr",
     "text": [
      "/usr/local/lib/python3.10/dist-packages/sklearn/metrics/_classification.py:1344: UndefinedMetricWarning: Precision and F-score are ill-defined and being set to 0.0 in labels with no predicted samples. Use `zero_division` parameter to control this behavior.\n",
      "  _warn_prf(average, modifier, msg_start, len(result))\n"
     ]
    }
   ]
  },
  {
   "cell_type": "code",
   "source": [],
   "metadata": {
    "colab": {
     "base_uri": "https://localhost:8080/",
     "height": 287
    },
    "id": "kCUwuJ5-rS-W",
    "outputId": "ad7e5c74-d019-4ff2-8bb2-30af2f6af417"
   },
   "execution_count": 67,
   "outputs": [
    {
     "output_type": "error",
     "ename": "AttributeError",
     "evalue": "'list' object has no attribute 'permute'",
     "traceback": [
      "\u001B[0;31m---------------------------------------------------------------------------\u001B[0m",
      "\u001B[0;31mAttributeError\u001B[0m                            Traceback (most recent call last)",
      "\u001B[0;32m<ipython-input-67-728128877bee>\u001B[0m in \u001B[0;36m<cell line: 1>\u001B[0;34m()\u001B[0m\n\u001B[0;32m----> 1\u001B[0;31m \u001B[0mmodel\u001B[0m\u001B[0;34m(\u001B[0m\u001B[0mnext\u001B[0m\u001B[0;34m(\u001B[0m\u001B[0miter\u001B[0m\u001B[0;34m(\u001B[0m\u001B[0mtest_loader\u001B[0m\u001B[0;34m)\u001B[0m\u001B[0;34m)\u001B[0m\u001B[0;34m)\u001B[0m\u001B[0;34m\u001B[0m\u001B[0;34m\u001B[0m\u001B[0m\n\u001B[0m",
      "\u001B[0;32m/usr/local/lib/python3.10/dist-packages/torch/nn/modules/module.py\u001B[0m in \u001B[0;36m_wrapped_call_impl\u001B[0;34m(self, *args, **kwargs)\u001B[0m\n\u001B[1;32m   1509\u001B[0m             \u001B[0;32mreturn\u001B[0m \u001B[0mself\u001B[0m\u001B[0;34m.\u001B[0m\u001B[0m_compiled_call_impl\u001B[0m\u001B[0;34m(\u001B[0m\u001B[0;34m*\u001B[0m\u001B[0margs\u001B[0m\u001B[0;34m,\u001B[0m \u001B[0;34m**\u001B[0m\u001B[0mkwargs\u001B[0m\u001B[0;34m)\u001B[0m  \u001B[0;31m# type: ignore[misc]\u001B[0m\u001B[0;34m\u001B[0m\u001B[0;34m\u001B[0m\u001B[0m\n\u001B[1;32m   1510\u001B[0m         \u001B[0;32melse\u001B[0m\u001B[0;34m:\u001B[0m\u001B[0;34m\u001B[0m\u001B[0;34m\u001B[0m\u001B[0m\n\u001B[0;32m-> 1511\u001B[0;31m             \u001B[0;32mreturn\u001B[0m \u001B[0mself\u001B[0m\u001B[0;34m.\u001B[0m\u001B[0m_call_impl\u001B[0m\u001B[0;34m(\u001B[0m\u001B[0;34m*\u001B[0m\u001B[0margs\u001B[0m\u001B[0;34m,\u001B[0m \u001B[0;34m**\u001B[0m\u001B[0mkwargs\u001B[0m\u001B[0;34m)\u001B[0m\u001B[0;34m\u001B[0m\u001B[0;34m\u001B[0m\u001B[0m\n\u001B[0m\u001B[1;32m   1512\u001B[0m \u001B[0;34m\u001B[0m\u001B[0m\n\u001B[1;32m   1513\u001B[0m     \u001B[0;32mdef\u001B[0m \u001B[0m_call_impl\u001B[0m\u001B[0;34m(\u001B[0m\u001B[0mself\u001B[0m\u001B[0;34m,\u001B[0m \u001B[0;34m*\u001B[0m\u001B[0margs\u001B[0m\u001B[0;34m,\u001B[0m \u001B[0;34m**\u001B[0m\u001B[0mkwargs\u001B[0m\u001B[0;34m)\u001B[0m\u001B[0;34m:\u001B[0m\u001B[0;34m\u001B[0m\u001B[0;34m\u001B[0m\u001B[0m\n",
      "\u001B[0;32m/usr/local/lib/python3.10/dist-packages/torch/nn/modules/module.py\u001B[0m in \u001B[0;36m_call_impl\u001B[0;34m(self, *args, **kwargs)\u001B[0m\n\u001B[1;32m   1518\u001B[0m                 \u001B[0;32mor\u001B[0m \u001B[0m_global_backward_pre_hooks\u001B[0m \u001B[0;32mor\u001B[0m \u001B[0m_global_backward_hooks\u001B[0m\u001B[0;34m\u001B[0m\u001B[0;34m\u001B[0m\u001B[0m\n\u001B[1;32m   1519\u001B[0m                 or _global_forward_hooks or _global_forward_pre_hooks):\n\u001B[0;32m-> 1520\u001B[0;31m             \u001B[0;32mreturn\u001B[0m \u001B[0mforward_call\u001B[0m\u001B[0;34m(\u001B[0m\u001B[0;34m*\u001B[0m\u001B[0margs\u001B[0m\u001B[0;34m,\u001B[0m \u001B[0;34m**\u001B[0m\u001B[0mkwargs\u001B[0m\u001B[0;34m)\u001B[0m\u001B[0;34m\u001B[0m\u001B[0;34m\u001B[0m\u001B[0m\n\u001B[0m\u001B[1;32m   1521\u001B[0m \u001B[0;34m\u001B[0m\u001B[0m\n\u001B[1;32m   1522\u001B[0m         \u001B[0;32mtry\u001B[0m\u001B[0;34m:\u001B[0m\u001B[0;34m\u001B[0m\u001B[0;34m\u001B[0m\u001B[0m\n",
      "\u001B[0;32m<ipython-input-63-4b9fd6078b2c>\u001B[0m in \u001B[0;36mforward\u001B[0;34m(self, src)\u001B[0m\n\u001B[1;32m     24\u001B[0m     \u001B[0;32mdef\u001B[0m \u001B[0mforward\u001B[0m\u001B[0;34m(\u001B[0m\u001B[0mself\u001B[0m\u001B[0;34m,\u001B[0m \u001B[0msrc\u001B[0m\u001B[0;34m)\u001B[0m\u001B[0;34m:\u001B[0m\u001B[0;34m\u001B[0m\u001B[0;34m\u001B[0m\u001B[0m\n\u001B[1;32m     25\u001B[0m         \u001B[0;31m# src shape: [batch_size, seq_length, input_dim]\u001B[0m\u001B[0;34m\u001B[0m\u001B[0;34m\u001B[0m\u001B[0m\n\u001B[0;32m---> 26\u001B[0;31m         \u001B[0msrc\u001B[0m \u001B[0;34m=\u001B[0m \u001B[0msrc\u001B[0m\u001B[0;34m.\u001B[0m\u001B[0mpermute\u001B[0m\u001B[0;34m(\u001B[0m\u001B[0;36m1\u001B[0m\u001B[0;34m,\u001B[0m \u001B[0;36m0\u001B[0m\u001B[0;34m,\u001B[0m \u001B[0;36m2\u001B[0m\u001B[0;34m)\u001B[0m  \u001B[0;31m# Change src to shape [seq_length, batch_size, input_dim]\u001B[0m\u001B[0;34m\u001B[0m\u001B[0;34m\u001B[0m\u001B[0m\n\u001B[0m\u001B[1;32m     27\u001B[0m         \u001B[0msrc\u001B[0m \u001B[0;34m=\u001B[0m \u001B[0mself\u001B[0m\u001B[0;34m.\u001B[0m\u001B[0membedding\u001B[0m\u001B[0;34m(\u001B[0m\u001B[0msrc\u001B[0m\u001B[0;34m)\u001B[0m  \u001B[0;31m# Change src to shape [seq_length, batch_size, dim_feedforward]\u001B[0m\u001B[0;34m\u001B[0m\u001B[0;34m\u001B[0m\u001B[0m\n\u001B[1;32m     28\u001B[0m         \u001B[0msrc\u001B[0m \u001B[0;34m=\u001B[0m \u001B[0mself\u001B[0m\u001B[0;34m.\u001B[0m\u001B[0mtransformer_encoder\u001B[0m\u001B[0;34m(\u001B[0m\u001B[0msrc\u001B[0m\u001B[0;34m)\u001B[0m  \u001B[0;31m# Transformer output shape [seq_length, batch_size, dim_feedforward]\u001B[0m\u001B[0;34m\u001B[0m\u001B[0;34m\u001B[0m\u001B[0m\n",
      "\u001B[0;31mAttributeError\u001B[0m: 'list' object has no attribute 'permute'"
     ]
    }
   ]
  },
  {
   "cell_type": "code",
   "source": [
    "a,b = next(iter(test_loader))"
   ],
   "metadata": {
    "id": "ZNVk8pZjrf93"
   },
   "execution_count": 68,
   "outputs": []
  },
  {
   "cell_type": "code",
   "source": [
    "out = model(a)"
   ],
   "metadata": {
    "id": "5GGCpwBHrw3V"
   },
   "execution_count": 70,
   "outputs": []
  },
  {
   "cell_type": "code",
   "source": [
    "out[0]"
   ],
   "metadata": {
    "colab": {
     "base_uri": "https://localhost:8080/"
    },
    "id": "vq1kMCebrxoE",
    "outputId": "aba10ba2-6dd2-44f7-90d3-1963262916fa"
   },
   "execution_count": 73,
   "outputs": [
    {
     "output_type": "execute_result",
     "data": {
      "text/plain": [
       "tensor([0.4796, 0.2821], grad_fn=<SelectBackward0>)"
      ]
     },
     "metadata": {},
     "execution_count": 73
    }
   ]
  },
  {
   "cell_type": "code",
   "source": [],
   "metadata": {
    "id": "Wv1hIaUrr0HI"
   },
   "execution_count": null,
   "outputs": []
  }
 ]
}
