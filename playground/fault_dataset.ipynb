{
 "cells": [
  {
   "cell_type": "code",
   "id": "initial_id",
   "metadata": {
    "collapsed": true,
    "ExecuteTime": {
     "end_time": "2024-08-20T17:56:35.761318Z",
     "start_time": "2024-08-20T17:56:26.018992Z"
    }
   },
   "source": [
    "import pandas as pd\n",
    "\n",
    "# Load the .ts file\n",
    "df = pd.read_csv('../datasets/classification/FaultDetectionA/FaultDetectionA_TRAIN.ts', sep='\\t')\n",
    "\n",
    "# If your file doesn't have headers or is space-separated, adjust accordingly:\n",
    "# df = pd.read_csv('your_file.ts', sep=' ', header=None, index_col=0, parse_dates=True)\n",
    "\n",
    "# Display the first few rows\n",
    "print(df.head())"
   ],
   "outputs": [
    {
     "name": "stdout",
     "output_type": "stream",
     "text": [
      "  @problemName FaultDetectionA_COMBO.ts\n",
      "0                     @timestamps false\n",
      "1                      @univariate true\n",
      "2                     @equalLength true\n",
      "3                    @seriesLength 5120\n",
      "4                @classLabel true 0 1 2\n"
     ]
    }
   ],
   "execution_count": 1
  },
  {
   "metadata": {
    "ExecuteTime": {
     "end_time": "2024-08-20T17:56:35.770789Z",
     "start_time": "2024-08-20T17:56:35.762716Z"
    }
   },
   "cell_type": "code",
   "source": "int(list(df.iloc[7])[0].split(',')[-1].split(':')[1])",
   "id": "6e717ef2ed675174",
   "outputs": [
    {
     "data": {
      "text/plain": [
       "1"
      ]
     },
     "execution_count": 2,
     "metadata": {},
     "output_type": "execute_result"
    }
   ],
   "execution_count": 2
  },
  {
   "metadata": {
    "ExecuteTime": {
     "end_time": "2024-08-20T17:56:35.775268Z",
     "start_time": "2024-08-20T17:56:35.772058Z"
    }
   },
   "cell_type": "code",
   "source": "x = [i.split(\",\") for i in list(df.iloc[7])[0].split(':')]",
   "id": "2774f2aea057bd61",
   "outputs": [],
   "execution_count": 3
  },
  {
   "metadata": {
    "ExecuteTime": {
     "end_time": "2024-08-20T17:56:35.780545Z",
     "start_time": "2024-08-20T17:56:35.777172Z"
    }
   },
   "cell_type": "code",
   "source": "x[0][0:3]",
   "id": "187683b9f8c8d673",
   "outputs": [
    {
     "data": {
      "text/plain": [
       "['0.015258789052416', '-0.030517578104832', '-0.0701904296411136']"
      ]
     },
     "execution_count": 4,
     "metadata": {},
     "output_type": "execute_result"
    }
   ],
   "execution_count": 4
  },
  {
   "metadata": {
    "ExecuteTime": {
     "end_time": "2024-08-20T17:56:35.785902Z",
     "start_time": "2024-08-20T17:56:35.781600Z"
    }
   },
   "cell_type": "code",
   "source": "int(x[1][0])",
   "id": "92b31f09e531c0a1",
   "outputs": [
    {
     "data": {
      "text/plain": [
       "1"
      ]
     },
     "execution_count": 5,
     "metadata": {},
     "output_type": "execute_result"
    }
   ],
   "execution_count": 5
  },
  {
   "metadata": {
    "ExecuteTime": {
     "end_time": "2024-08-20T17:56:37.926518Z",
     "start_time": "2024-08-20T17:56:35.786770Z"
    }
   },
   "cell_type": "code",
   "source": [
    "from torch.utils.data import Dataset\n",
    "import torch\n",
    "import numpy as np\n",
    "from torch.utils.data import DataLoader\n",
    "\n",
    "class FaultDataset(Dataset):\n",
    "    \"\"\"Dataset class for FaultDetectionA dataset. The dataset is available at: https://www.timeseriesclassification.com/descriptio.php?Dataset=FaultDetectionA\"\"\"\n",
    "    def __init__(self, sequences, labels):\n",
    "        self.labels = labels\n",
    "        self.sequences = sequences\n",
    "        self.num_classes = len(torch.unique(self.labels))  # count the number of unique labels\n",
    "\n",
    "    def __len__(self):\n",
    "        return self.sequences.shape[0]\n",
    "\n",
    "    def __getitem__(self, idx):\n",
    "        sequence = torch.reshape(self.sequences[idx], (-1, 1))  # dim: seq_len x num_features\n",
    "        label = torch.reshape(self.labels[idx], (-1,))  # dim: 1 x 1\n",
    "\n",
    "        return sequence, label"
   ],
   "id": "c4c55259f328dc65",
   "outputs": [],
   "execution_count": 6
  },
  {
   "metadata": {
    "ExecuteTime": {
     "end_time": "2024-08-20T17:56:57.953204Z",
     "start_time": "2024-08-20T17:56:37.927332Z"
    }
   },
   "cell_type": "code",
   "source": [
    "sequences = []\n",
    "labels = []\n",
    "\n",
    "for idx, row in df.loc[6:].iterrows():\n",
    "    sequence, label = [i.split(\",\") for i in row.values[0].split(':')]\n",
    "    sequences.append((list(map(float, sequence))))\n",
    "    labels.append(float(label[0]))\n",
    "labels = torch.tensor(labels, dtype=torch.float32)\n",
    "sequences = torch.tensor(sequences, dtype=torch.float32)"
   ],
   "id": "7bb9f4a68d224b1b",
   "outputs": [],
   "execution_count": 7
  },
  {
   "metadata": {
    "ExecuteTime": {
     "end_time": "2024-08-20T17:56:57.973053Z",
     "start_time": "2024-08-20T17:56:57.959210Z"
    }
   },
   "cell_type": "code",
   "source": "len(sequences)",
   "id": "fd22ab3b10c27692",
   "outputs": [
    {
     "data": {
      "text/plain": [
       "10912"
      ]
     },
     "execution_count": 8,
     "metadata": {},
     "output_type": "execute_result"
    }
   ],
   "execution_count": 8
  },
  {
   "metadata": {
    "ExecuteTime": {
     "end_time": "2024-08-20T17:56:57.983710Z",
     "start_time": "2024-08-20T17:56:57.974532Z"
    }
   },
   "cell_type": "code",
   "source": "len(labels)",
   "id": "c61611e2d4a78f61",
   "outputs": [
    {
     "data": {
      "text/plain": [
       "10912"
      ]
     },
     "execution_count": 9,
     "metadata": {},
     "output_type": "execute_result"
    }
   ],
   "execution_count": 9
  },
  {
   "metadata": {
    "ExecuteTime": {
     "end_time": "2024-08-20T17:56:58.002835Z",
     "start_time": "2024-08-20T17:56:57.987212Z"
    }
   },
   "cell_type": "code",
   "source": "fault_ds = FaultDataset(sequences, labels)",
   "id": "12829c3ef6f9cb8b",
   "outputs": [],
   "execution_count": 10
  },
  {
   "metadata": {
    "ExecuteTime": {
     "end_time": "2024-08-20T17:56:58.010123Z",
     "start_time": "2024-08-20T17:56:58.004381Z"
    }
   },
   "cell_type": "code",
   "source": "fault_dl = DataLoader(fault_ds, batch_size=8, shuffle=True)",
   "id": "597e2fc0aa6d045d",
   "outputs": [],
   "execution_count": 11
  },
  {
   "metadata": {},
   "cell_type": "code",
   "source": "fault_ds.sequences.shape",
   "id": "164fd24c9c68c1f8",
   "outputs": [
    {
     "data": {
      "text/plain": [
       "torch.Size([10912, 5120])"
      ]
     },
     "execution_count": 12,
     "metadata": {},
     "output_type": "execute_result"
    }
   ],
   "execution_count": 12
  },
  {
   "metadata": {
    "ExecuteTime": {
     "end_time": "2024-08-20T17:56:58.024673Z",
     "start_time": "2024-08-20T17:56:58.016417Z"
    }
   },
   "cell_type": "code",
   "source": [
    "from time import time\n",
    "\n",
    "\n",
    "def train_one_epoch(model, epoch_index, train_data, val_data=None):\n",
    "    \"\"\"Train the model for one epoch.\"\"\"\n",
    "    train_running_loss = 0.\n",
    "    train_last_loss = 0.\n",
    "    train_correct = 0\n",
    "    iterations = 0\n",
    "\n",
    "    time_start = time()\n",
    "    for i, (inputs, labels) in enumerate(train_data):\n",
    "        if torch.cuda.is_available():\n",
    "            inputs = inputs.cuda()\n",
    "            labels = labels.cuda()\n",
    "\n",
    "        model[\"opt\"].zero_grad()\n",
    "        outputs = model[\"model\"](inputs)\n",
    "        loss = model[\"loss_fn\"](outputs, labels.to(torch.long).reshape(-1))\n",
    "        loss.backward()\n",
    "        model[\"opt\"].step()\n",
    "        train_running_loss += loss.item()\n",
    "\n",
    "        predictions = torch.argmax(outputs, dim=1)\n",
    "        correct_labels = labels.squeeze()\n",
    "\n",
    "        train_correct += (predictions == correct_labels).int().sum() / len(labels) * 100\n",
    "        iterations += 1\n",
    "        \n",
    "        # print(\"{}/{}\".format(i, len(train_data)))\n",
    "    train_last_loss = train_running_loss / len(train_data)\n",
    "    train_acc = (train_correct / iterations)\n",
    "\n",
    "    # if val_data:\n",
    "    #     val_running_loss = 0.\n",
    "    #     val_last_loss = 0.\n",
    "    #     val_correct = 0\n",
    "    # \n",
    "    #     iterations = 0\n",
    "    #     model[\"model\"].eval()\n",
    "    #     for i, (inputs, labels) in enumerate(val_data):\n",
    "    #         if torch.cuda.is_available():\n",
    "    #             inputs = inputs.cuda()\n",
    "    #             labels = labels.cuda()\n",
    "    #         outputs = model[\"model\"](inputs)\n",
    "    #         loss = model[\"loss_fn\"](outputs, labels.to(torch.long).reshape(-1))\n",
    "    #         val_running_loss += loss.item()\n",
    "    # \n",
    "    #         predictions = torch.argmax(outputs, dim=1)\n",
    "    #         correct_labels = labels.squeeze()\n",
    "    # \n",
    "    #         val_correct += (predictions == correct_labels).int().sum() / len(labels) * 100\n",
    "    #         iterations += 1\n",
    "    #     val_last_loss = val_running_loss / len(val_data)\n",
    "    #     val_acc = (val_correct / iterations)\n",
    "    #     time_end = time()\n",
    "    #     time_taken = time_end - time_start\n",
    "    # \n",
    "    #     return train_last_loss, train_acc, val_last_loss, val_acc, time_taken\n",
    "\n",
    "    time_end = time()\n",
    "    time_taken = time_end - time_start\n",
    "\n",
    "    return train_last_loss, train_acc, None, None, time_taken"
   ],
   "id": "8d17a53a7f695192",
   "outputs": [],
   "execution_count": 13
  },
  {
   "metadata": {
    "ExecuteTime": {
     "end_time": "2024-08-20T17:56:58.027502Z",
     "start_time": "2024-08-20T17:56:58.025793Z"
    }
   },
   "cell_type": "code",
   "source": "",
   "id": "32129857eaf23635",
   "outputs": [],
   "execution_count": 13
  },
  {
   "metadata": {
    "ExecuteTime": {
     "end_time": "2024-08-20T18:14:58.578408Z",
     "start_time": "2024-08-20T17:56:58.028297Z"
    }
   },
   "cell_type": "code",
   "source": [
    "from uuid import uuid4\n",
    "from src.timeseries_transformer.constants import EPOCHS\n",
    "from src.timeseries_transformer.timeseries_model import EncoderClassifier\n",
    "from src.timeseries_transformer.constants import EMBED_SIZE, NUM_ATTN_HEADS, ENCODER_FF_DIM, DROPOUT, \\\n",
    "    NUM_ENCODER_BLOCKS, LEARNING_RATE\n",
    "from torch.nn import CrossEntropyLoss\n",
    "from torch.optim import Adam\n",
    "\n",
    "\n",
    "model = EncoderClassifier(\n",
    "        input_shape=(8, 5120, 1),\n",
    "        embed_size=EMBED_SIZE,\n",
    "        num_heads=NUM_ATTN_HEADS,\n",
    "        ff_dim=ENCODER_FF_DIM,\n",
    "        dropout=DROPOUT,\n",
    "        num_blocks=NUM_ENCODER_BLOCKS,\n",
    "        num_classes=3\n",
    "    )\n",
    "model.cuda()\n",
    "criterion = CrossEntropyLoss()\n",
    "optimizer = Adam(model.parameters(), lr=LEARNING_RATE)\n",
    "print(sum(p.numel() for p in model.parameters()))\n",
    "\n",
    "model_dict = {\"id\": str(uuid4())[0:8], \"model\": model, \"loss_fn\": criterion, \"opt\": optimizer}\n",
    "\n",
    "for epoch in range(10):\n",
    "    print('EPOCH {}:'.format(epoch + 1))\n",
    "\n",
    "    model.train()\n",
    "    train_loss, train_acc, _, _, epoch_time_taken = train_one_epoch(\n",
    "                                                                    model_dict,\n",
    "                                                                    epoch,\n",
    "                                                                    fault_dl\n",
    "                                                                )\n",
    "\n",
    "    print(f\"Training loss: {train_loss}\")\n",
    "    print(f\"Training accuracy: {train_acc}\")\n",
    "    print(f\"Time Taken: {epoch_time_taken}\")"
   ],
   "id": "a1ea3f7fae6a6cc4",
   "outputs": [
    {
     "name": "stdout",
     "output_type": "stream",
     "text": [
      "2240787\n",
      "EPOCH 1:\n"
     ]
    },
    {
     "name": "stderr",
     "output_type": "stream",
     "text": [
      "/home/taihim/PycharmProjects/timeseries-transformer/.venv/lib/python3.12/site-packages/torch/nn/modules/module.py:1532: UserWarning: Implicit dimension choice for softmax has been deprecated. Change the call to include dim=X as an argument.\n",
      "  return self._call_impl(*args, **kwargs)\n"
     ]
    },
    {
     "name": "stdout",
     "output_type": "stream",
     "text": [
      "Training loss: 0.953915307467634\n",
      "Training accuracy: 58.788490295410156\n",
      "Time Taken: 98.70146059989929\n",
      "EPOCH 2:\n",
      "Training loss: 0.8566833143272707\n",
      "Training accuracy: 68.93328094482422\n",
      "Time Taken: 101.7760717868805\n",
      "EPOCH 3:\n",
      "Training loss: 0.820406312248574\n",
      "Training accuracy: 72.6447982788086\n",
      "Time Taken: 106.5754783153534\n",
      "EPOCH 4:\n",
      "Training loss: 0.8048240804602323\n",
      "Training accuracy: 74.57844543457031\n",
      "Time Taken: 109.0032434463501\n",
      "EPOCH 5:\n",
      "Training loss: 0.8022285750097543\n",
      "Training accuracy: 74.51429748535156\n",
      "Time Taken: 108.63611555099487\n",
      "EPOCH 6:\n",
      "Training loss: 0.7877069681533271\n",
      "Training accuracy: 76.00806427001953\n",
      "Time Taken: 108.69220018386841\n",
      "EPOCH 7:\n",
      "Training loss: 0.775310450503903\n",
      "Training accuracy: 77.39186096191406\n",
      "Time Taken: 109.0446195602417\n",
      "EPOCH 8:\n",
      "Training loss: 0.7660651583650595\n",
      "Training accuracy: 78.34494018554688\n",
      "Time Taken: 110.40758275985718\n",
      "EPOCH 9:\n",
      "Training loss: 0.7617961938255343\n",
      "Training accuracy: 78.76649475097656\n",
      "Time Taken: 112.87911534309387\n",
      "EPOCH 10:\n",
      "Training loss: 0.7566187832712078\n",
      "Training accuracy: 79.2705307006836\n",
      "Time Taken: 112.26897501945496\n"
     ]
    }
   ],
   "execution_count": 14
  },
  {
   "metadata": {},
   "cell_type": "code",
   "outputs": [],
   "execution_count": null,
   "source": [
    "# no encoder            666899 // allows for batch size 16\n",
    "# with linear encoder  2240787 // allows for batch size 8\n",
    "# with regular encoder "
   ],
   "id": "9a2c88d516516f83"
  },
  {
   "metadata": {
    "ExecuteTime": {
     "end_time": "2024-08-20T18:57:20.450824Z",
     "start_time": "2024-08-20T18:52:45.490376Z"
    }
   },
   "cell_type": "code",
   "source": [
    "for epoch in range(50):\n",
    "    print('EPOCH {}:'.format(epoch + 1))\n",
    "\n",
    "    model.train()\n",
    "    train_loss, train_acc, _, _, epoch_time_taken = train_one_epoch(\n",
    "                                                                    model_dict,\n",
    "                                                                    epoch,\n",
    "                                                                    fault_dl\n",
    "                                                                )\n",
    "\n",
    "    print(f\"Training loss: {train_loss}\")\n",
    "    print(f\"Training accuracy: {train_acc}\")\n",
    "    print(f\"Time Taken: {epoch_time_taken}\")"
   ],
   "id": "57de2af036ff41ad",
   "outputs": [
    {
     "name": "stdout",
     "output_type": "stream",
     "text": [
      "EPOCH 1:\n"
     ]
    },
    {
     "name": "stderr",
     "output_type": "stream",
     "text": [
      "/home/taihim/PycharmProjects/timeseries-transformer/.venv/lib/python3.12/site-packages/torch/nn/modules/module.py:1532: UserWarning: Implicit dimension choice for softmax has been deprecated. Change the call to include dim=X as an argument.\n",
      "  return self._call_impl(*args, **kwargs)\n"
     ]
    },
    {
     "name": "stdout",
     "output_type": "stream",
     "text": [
      "Training loss: 0.7036373778259999\n",
      "Training accuracy: 84.68658447265625\n",
      "Time Taken: 94.60729813575745\n",
      "EPOCH 2:\n",
      "Training loss: 0.6914240010847444\n",
      "Training accuracy: 85.92375183105469\n",
      "Time Taken: 85.26079201698303\n",
      "EPOCH 3:\n",
      "Training loss: 0.6896021556644496\n",
      "Training accuracy: 86.07954406738281\n",
      "Time Taken: 90.32964563369751\n",
      "EPOCH 4:\n"
     ]
    },
    {
     "ename": "KeyboardInterrupt",
     "evalue": "",
     "output_type": "error",
     "traceback": [
      "\u001B[0;31m---------------------------------------------------------------------------\u001B[0m",
      "\u001B[0;31mKeyboardInterrupt\u001B[0m                         Traceback (most recent call last)",
      "Cell \u001B[0;32mIn[26], line 5\u001B[0m\n\u001B[1;32m      2\u001B[0m \u001B[38;5;28mprint\u001B[39m(\u001B[38;5;124m'\u001B[39m\u001B[38;5;124mEPOCH \u001B[39m\u001B[38;5;132;01m{}\u001B[39;00m\u001B[38;5;124m:\u001B[39m\u001B[38;5;124m'\u001B[39m\u001B[38;5;241m.\u001B[39mformat(epoch \u001B[38;5;241m+\u001B[39m \u001B[38;5;241m1\u001B[39m))\n\u001B[1;32m      4\u001B[0m model\u001B[38;5;241m.\u001B[39mtrain()\n\u001B[0;32m----> 5\u001B[0m train_loss, train_acc, _, _, epoch_time_taken \u001B[38;5;241m=\u001B[39m \u001B[43mtrain_one_epoch\u001B[49m\u001B[43m(\u001B[49m\n\u001B[1;32m      6\u001B[0m \u001B[43m                                                                \u001B[49m\u001B[43mmodel_dict\u001B[49m\u001B[43m,\u001B[49m\n\u001B[1;32m      7\u001B[0m \u001B[43m                                                                \u001B[49m\u001B[43mepoch\u001B[49m\u001B[43m,\u001B[49m\n\u001B[1;32m      8\u001B[0m \u001B[43m                                                                \u001B[49m\u001B[43mfault_dl\u001B[49m\n\u001B[1;32m      9\u001B[0m \u001B[43m                                                            \u001B[49m\u001B[43m)\u001B[49m\n\u001B[1;32m     11\u001B[0m \u001B[38;5;28mprint\u001B[39m(\u001B[38;5;124mf\u001B[39m\u001B[38;5;124m\"\u001B[39m\u001B[38;5;124mTraining loss: \u001B[39m\u001B[38;5;132;01m{\u001B[39;00mtrain_loss\u001B[38;5;132;01m}\u001B[39;00m\u001B[38;5;124m\"\u001B[39m)\n\u001B[1;32m     12\u001B[0m \u001B[38;5;28mprint\u001B[39m(\u001B[38;5;124mf\u001B[39m\u001B[38;5;124m\"\u001B[39m\u001B[38;5;124mTraining accuracy: \u001B[39m\u001B[38;5;132;01m{\u001B[39;00mtrain_acc\u001B[38;5;132;01m}\u001B[39;00m\u001B[38;5;124m\"\u001B[39m)\n",
      "Cell \u001B[0;32mIn[13], line 22\u001B[0m, in \u001B[0;36mtrain_one_epoch\u001B[0;34m(model, epoch_index, train_data, val_data)\u001B[0m\n\u001B[1;32m     20\u001B[0m loss\u001B[38;5;241m.\u001B[39mbackward()\n\u001B[1;32m     21\u001B[0m model[\u001B[38;5;124m\"\u001B[39m\u001B[38;5;124mopt\u001B[39m\u001B[38;5;124m\"\u001B[39m]\u001B[38;5;241m.\u001B[39mstep()\n\u001B[0;32m---> 22\u001B[0m train_running_loss \u001B[38;5;241m+\u001B[39m\u001B[38;5;241m=\u001B[39m \u001B[43mloss\u001B[49m\u001B[38;5;241;43m.\u001B[39;49m\u001B[43mitem\u001B[49m\u001B[43m(\u001B[49m\u001B[43m)\u001B[49m\n\u001B[1;32m     24\u001B[0m predictions \u001B[38;5;241m=\u001B[39m torch\u001B[38;5;241m.\u001B[39margmax(outputs, dim\u001B[38;5;241m=\u001B[39m\u001B[38;5;241m1\u001B[39m)\n\u001B[1;32m     25\u001B[0m correct_labels \u001B[38;5;241m=\u001B[39m labels\u001B[38;5;241m.\u001B[39msqueeze()\n",
      "\u001B[0;31mKeyboardInterrupt\u001B[0m: "
     ]
    }
   ],
   "execution_count": 26
  },
  {
   "metadata": {
    "ExecuteTime": {
     "end_time": "2024-08-20T18:48:07.084547Z",
     "start_time": "2024-08-20T18:48:04.405464Z"
    }
   },
   "cell_type": "code",
   "source": [
    "import pandas as pd\n",
    "\n",
    "# Load the .ts file\n",
    "df2 = pd.read_csv('../datasets/classification/FaultDetectionA/FaultDetectionA_TEST.ts', sep='\\t')\n",
    "\n",
    "# If your file doesn't have headers or is space-separated, adjust accordingly:\n",
    "# df = pd.read_csv('your_file.ts', sep=' ', header=None, index_col=0, parse_dates=True)\n",
    "\n",
    "# Display the first few rows\n",
    "print(df2.head())"
   ],
   "id": "45d36cbc239b4529",
   "outputs": [
    {
     "name": "stdout",
     "output_type": "stream",
     "text": [
      "     @problemName test.ts\n",
      "0       @timestamps false\n",
      "1        @univariate true\n",
      "2       @equalLength true\n",
      "3      @seriesLength 5120\n",
      "4  @classLabel true 0 1 2\n"
     ]
    }
   ],
   "execution_count": 16
  },
  {
   "metadata": {
    "ExecuteTime": {
     "end_time": "2024-08-20T18:50:32.286311Z",
     "start_time": "2024-08-20T18:50:26.276669Z"
    }
   },
   "cell_type": "code",
   "source": [
    "sequences_test = []\n",
    "labels_test = []\n",
    "\n",
    "for idx, row in df2.loc[6:].iterrows():\n",
    "    sequence, label = [i.split(\",\") for i in row.values[0].split(':')]\n",
    "    sequences_test.append((list(map(float, sequence))))\n",
    "    labels_test.append(float(label[0]))\n",
    "labels_test = torch.tensor(labels_test, dtype=torch.float32)\n",
    "sequences_test = torch.tensor(sequences_test, dtype=torch.float32)"
   ],
   "id": "a10e146a067961e2",
   "outputs": [],
   "execution_count": 20
  },
  {
   "metadata": {
    "ExecuteTime": {
     "end_time": "2024-08-20T18:50:32.291506Z",
     "start_time": "2024-08-20T18:50:32.287706Z"
    }
   },
   "cell_type": "code",
   "source": "sequences_test.shape",
   "id": "fad9818ba0244ab9",
   "outputs": [
    {
     "data": {
      "text/plain": [
       "torch.Size([2728, 5120])"
      ]
     },
     "execution_count": 21,
     "metadata": {},
     "output_type": "execute_result"
    }
   ],
   "execution_count": 21
  },
  {
   "metadata": {
    "ExecuteTime": {
     "end_time": "2024-08-20T18:51:07.602902Z",
     "start_time": "2024-08-20T18:51:07.599591Z"
    }
   },
   "cell_type": "code",
   "source": "labels_test.shape",
   "id": "ee4524deafa7a60e",
   "outputs": [
    {
     "data": {
      "text/plain": [
       "torch.Size([2728])"
      ]
     },
     "execution_count": 22,
     "metadata": {},
     "output_type": "execute_result"
    }
   ],
   "execution_count": 22
  },
  {
   "metadata": {
    "ExecuteTime": {
     "end_time": "2024-08-20T18:51:11.919452Z",
     "start_time": "2024-08-20T18:51:11.906722Z"
    }
   },
   "cell_type": "code",
   "source": "fault_ds_test = FaultDataset(sequences_test, labels_test)",
   "id": "59a9ba6c8248d6b2",
   "outputs": [],
   "execution_count": 23
  },
  {
   "metadata": {
    "ExecuteTime": {
     "end_time": "2024-08-20T18:51:40.286593Z",
     "start_time": "2024-08-20T18:51:40.279629Z"
    }
   },
   "cell_type": "code",
   "source": "fault_dl_test = DataLoader(fault_ds_test, batch_size=8, drop_last=True)",
   "id": "292c077af0c97745",
   "outputs": [],
   "execution_count": 24
  },
  {
   "metadata": {
    "ExecuteTime": {
     "end_time": "2024-08-20T18:57:37.760762Z",
     "start_time": "2024-08-20T18:57:28.963706Z"
    }
   },
   "cell_type": "code",
   "source": [
    "from src.timeseries_transformer.utils import evaluate_model\n",
    "\n",
    "evaluate_model(model_dict, fault_dl_test)"
   ],
   "id": "232d77c6254348d4",
   "outputs": [
    {
     "name": "stderr",
     "output_type": "stream",
     "text": [
      "/home/taihim/PycharmProjects/timeseries-transformer/.venv/lib/python3.12/site-packages/torch/nn/modules/module.py:1532: UserWarning: Implicit dimension choice for softmax has been deprecated. Change the call to include dim=X as an argument.\n",
      "  return self._call_impl(*args, **kwargs)\n"
     ]
    },
    {
     "name": "stdout",
     "output_type": "stream",
     "text": [
      "Time taken for inference: 0.0024671232945059052\n",
      "Evaluation accuracy for model 9a4c3109: 66.67888641357422\n",
      "              precision    recall  f1-score   support\n",
      "\n",
      "           0       0.85      0.71      0.77       248\n",
      "           1       0.68      0.56      0.61      1240\n",
      "           2       0.63      0.77      0.69      1240\n",
      "\n",
      "    accuracy                           0.67      2728\n",
      "   macro avg       0.72      0.68      0.69      2728\n",
      "weighted avg       0.67      0.67      0.66      2728\n",
      "\n",
      "[[176  41  31]\n",
      " [ 30 689 521]\n",
      " [  1 285 954]]\n"
     ]
    }
   ],
   "execution_count": 27
  },
  {
   "metadata": {},
   "cell_type": "code",
   "outputs": [],
   "execution_count": null,
   "source": "",
   "id": "3234e34143200a19"
  }
 ],
 "metadata": {
  "kernelspec": {
   "display_name": "Python 3",
   "language": "python",
   "name": "python3"
  },
  "language_info": {
   "codemirror_mode": {
    "name": "ipython",
    "version": 2
   },
   "file_extension": ".py",
   "mimetype": "text/x-python",
   "name": "python",
   "nbconvert_exporter": "python",
   "pygments_lexer": "ipython2",
   "version": "2.7.6"
  }
 },
 "nbformat": 4,
 "nbformat_minor": 5
}
