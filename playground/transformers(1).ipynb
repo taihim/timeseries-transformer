{
 "cells": [
  {
   "cell_type": "code",
   "id": "2ed092cc-d9f0-40ba-838f-3c96920e8016",
   "metadata": {
    "id": "2ed092cc-d9f0-40ba-838f-3c96920e8016",
    "ExecuteTime": {
     "end_time": "2024-07-10T20:57:53.361105Z",
     "start_time": "2024-07-10T20:57:53.357300Z"
    }
   },
   "source": [
    "import torch\n",
    "import math\n",
    "import copy\n",
    "import time\n",
    "\n",
    "from sklearn.model_selection import StratifiedKFold, KFold\n",
    "from torch.utils.data import Dataset, DataLoader\n",
    "import matplotlib.pyplot as plt\n",
    "import torch.nn as nn\n",
    "import torch.optim as optim\n",
    "import numpy as np\n",
    "\n",
    "torch.set_printoptions(precision=8)\n",
    "torch.manual_seed(32)\n",
    "\n",
    "root_url = \"https://raw.githubusercontent.com/hfawaz/cd-diagram/master/FordA/\""
   ],
   "outputs": [],
   "execution_count": 20
  },
  {
   "metadata": {
    "ExecuteTime": {
     "end_time": "2024-07-10T21:46:25.296771Z",
     "start_time": "2024-07-10T21:46:25.291976Z"
    }
   },
   "cell_type": "code",
   "source": [
    "class FordDatasetKfold(Dataset):\n",
    "  def __init__(self, sequences, labels):\n",
    "    self.labels = labels\n",
    "    self.sequences = sequences\n",
    "    self.num_classes = len(torch.unique(self.labels)) # count the number of unique labels\n",
    "\n",
    "  def __len__(self):\n",
    "      return self.sequences.shape[0]\n",
    "\n",
    "  def __getitem__(self, idx):\n",
    "    sequence = torch.reshape(self.sequences[idx], (-1, 1)) # dim: seq_len x num_features\n",
    "    label = torch.reshape(self.labels[idx], (-1, )) # dim: 1 x 1\n",
    "\n",
    "    return sequence, label"
   ],
   "id": "186b82de9175817",
   "outputs": [],
   "execution_count": 168
  },
  {
   "metadata": {
    "ExecuteTime": {
     "end_time": "2024-07-10T21:46:25.621292Z",
     "start_time": "2024-07-10T21:46:25.567959Z"
    }
   },
   "cell_type": "code",
   "source": [
    "class FordDataset(Dataset):\n",
    "  def __init__(self, split=\"train\"):\n",
    "    self.root_url = \"https://raw.githubusercontent.com/hfawaz/cd-diagram/master/FordA/\"\n",
    "    self.data = torch.tensor(np.loadtxt(self.root_url + \"FordA_TRAIN.tsv\", delimiter=\"\\t\"), dtype=torch.float32) if split==\"train\" else torch.tensor(np.loadtxt(self.root_url + \"FordA_TEST.tsv\", delimiter=\"\\t\"), dtype=torch.float32)\n",
    "    self.labels = self.data[:, 0] # get first element from each example\n",
    "    self.sequences = self.data[:, 1:] # get all elements after first element\n",
    "    self.labels[self.labels == -1] = 0 # change all -1 labels to 0\n",
    "    self.num_classes = len(torch.unique(self.labels)) # count the number of unique labels\n",
    "\n",
    "  def __len__(self):\n",
    "      return self.data.shape[0]\n",
    "\n",
    "  def __getitem__(self, idx):\n",
    "    sequence = torch.reshape(self.sequences[idx], (-1, 1)) # dim: seq_len x num_features\n",
    "    label = torch.reshape(self.labels[idx], (-1, )) # dim: 1 x 1\n",
    "\n",
    "    return sequence, label\n",
    "\n",
    "test_dataset = FordDataset(\"test\")"
   ],
   "id": "5c8c750a40f20fe8",
   "outputs": [],
   "execution_count": 169
  },
  {
   "metadata": {
    "ExecuteTime": {
     "end_time": "2024-07-10T21:46:25.854973Z",
     "start_time": "2024-07-10T21:46:25.711470Z"
    }
   },
   "cell_type": "code",
   "source": "train_data = torch.tensor(np.loadtxt(root_url + \"FordA_TRAIN.tsv\", delimiter=\"\\t\"), dtype=torch.float32)",
   "id": "c78738ac4fa4228e",
   "outputs": [],
   "execution_count": 170
  },
  {
   "metadata": {
    "ExecuteTime": {
     "end_time": "2024-07-10T21:46:25.863115Z",
     "start_time": "2024-07-10T21:46:25.859539Z"
    }
   },
   "cell_type": "code",
   "source": "train_data.shape",
   "id": "c531413f0c18debf",
   "outputs": [
    {
     "data": {
      "text/plain": [
       "torch.Size([3601, 501])"
      ]
     },
     "execution_count": 171,
     "metadata": {},
     "output_type": "execute_result"
    }
   ],
   "execution_count": 171
  },
  {
   "metadata": {
    "ExecuteTime": {
     "end_time": "2024-07-10T21:46:25.974728Z",
     "start_time": "2024-07-10T21:46:25.972398Z"
    }
   },
   "cell_type": "code",
   "source": "y = train_data[:, 0]",
   "id": "70fdcf04602a5b4a",
   "outputs": [],
   "execution_count": 172
  },
  {
   "metadata": {
    "ExecuteTime": {
     "end_time": "2024-07-10T21:46:26.097995Z",
     "start_time": "2024-07-10T21:46:26.094653Z"
    }
   },
   "cell_type": "code",
   "source": "y[y == -1] = 0",
   "id": "e8ceb737578cd085",
   "outputs": [],
   "execution_count": 173
  },
  {
   "metadata": {
    "ExecuteTime": {
     "end_time": "2024-07-10T21:46:26.229782Z",
     "start_time": "2024-07-10T21:46:26.227089Z"
    }
   },
   "cell_type": "code",
   "source": "x = train_data[:, 1:] # get all elements after first element",
   "id": "f6db72179b9da51d",
   "outputs": [],
   "execution_count": 174
  },
  {
   "metadata": {
    "ExecuteTime": {
     "end_time": "2024-07-10T21:46:26.354832Z",
     "start_time": "2024-07-10T21:46:26.351668Z"
    }
   },
   "cell_type": "code",
   "source": "skf = StratifiedKFold(n_splits=2, shuffle=True, random_state=32)",
   "id": "97c651b723382bd7",
   "outputs": [],
   "execution_count": 175
  },
  {
   "metadata": {
    "ExecuteTime": {
     "end_time": "2024-07-10T21:46:26.470929Z",
     "start_time": "2024-07-10T21:46:26.467080Z"
    }
   },
   "cell_type": "code",
   "source": "x.shape",
   "id": "725fed82dcf5f761",
   "outputs": [
    {
     "data": {
      "text/plain": [
       "torch.Size([3601, 500])"
      ]
     },
     "execution_count": 176,
     "metadata": {},
     "output_type": "execute_result"
    }
   ],
   "execution_count": 176
  },
  {
   "metadata": {
    "ExecuteTime": {
     "end_time": "2024-07-10T21:46:26.586920Z",
     "start_time": "2024-07-10T21:46:26.582564Z"
    }
   },
   "cell_type": "code",
   "source": "y.shape",
   "id": "7e721f1f9c2ddbcc",
   "outputs": [
    {
     "data": {
      "text/plain": [
       "torch.Size([3601])"
      ]
     },
     "execution_count": 177,
     "metadata": {},
     "output_type": "execute_result"
    }
   ],
   "execution_count": 177
  },
  {
   "metadata": {
    "ExecuteTime": {
     "end_time": "2024-07-10T21:46:26.721679Z",
     "start_time": "2024-07-10T21:46:26.719114Z"
    }
   },
   "cell_type": "code",
   "source": [
    "train_sets = []\n",
    "val_sets = []"
   ],
   "id": "266882bc3156ff59",
   "outputs": [],
   "execution_count": 178
  },
  {
   "metadata": {
    "ExecuteTime": {
     "end_time": "2024-07-10T21:46:26.874898Z",
     "start_time": "2024-07-10T21:46:26.866201Z"
    }
   },
   "cell_type": "code",
   "source": [
    "for train_idx, val_idx in skf.split(x, y):\n",
    "    # Create PyTorch DataLoader for training and validation\n",
    "    train_sets.append(FordDatasetKfold(x[train_idx], y[train_idx]))\n",
    "    val_sets.append(FordDatasetKfold(x[val_idx], y[val_idx]))\n",
    "    "
   ],
   "id": "cb5314274d69a8c6",
   "outputs": [],
   "execution_count": 179
  },
  {
   "cell_type": "code",
   "id": "7a96e134-d7c9-4ddc-843a-29b7201e8eac",
   "metadata": {
    "id": "7a96e134-d7c9-4ddc-843a-29b7201e8eac",
    "ExecuteTime": {
     "end_time": "2024-07-10T21:46:27.619713Z",
     "start_time": "2024-07-10T21:46:27.615449Z"
    }
   },
   "source": "train_sets",
   "outputs": [
    {
     "data": {
      "text/plain": [
       "[<__main__.FordDatasetKfold at 0x7f20ef706e40>,\n",
       " <__main__.FordDatasetKfold at 0x7f20acbbdbb0>]"
      ]
     },
     "execution_count": 180,
     "metadata": {},
     "output_type": "execute_result"
    }
   ],
   "execution_count": 180
  },
  {
   "cell_type": "code",
   "id": "60b6dce8-9c83-4c2a-98cc-f2997f1c4f4e",
   "metadata": {
    "id": "60b6dce8-9c83-4c2a-98cc-f2997f1c4f4e",
    "ExecuteTime": {
     "end_time": "2024-07-10T22:08:01.444904Z",
     "start_time": "2024-07-10T22:08:01.440919Z"
    }
   },
   "source": [
    "embed_size=256 # size of the embeddings\n",
    "num_heads=4 # number of attention heads\n",
    "ff_dim=4 # dimension of the feedforward layer in the encoder\n",
    "num_transformer_blocks=2 # number of encoder blocks\n",
    "mlp_units=[128] # the size of the feedforward layer used to make predictions\n",
    "mlp_dropout=0.4 # dropout in the feedforward layer\n",
    "dropout=0.25 # dropout in the encoder"
   ],
   "outputs": [],
   "execution_count": 236
  },
  {
   "cell_type": "code",
   "id": "65d227f0-b59c-4be5-be0a-3637718dd61e",
   "metadata": {
    "id": "65d227f0-b59c-4be5-be0a-3637718dd61e",
    "ExecuteTime": {
     "end_time": "2024-07-10T22:05:10.684436Z",
     "start_time": "2024-07-10T22:05:10.681125Z"
    }
   },
   "source": [
    "def clones(module, N):\n",
    "    \"Produce N independent but identical layers.\"\n",
    "    return nn.ModuleList([copy.deepcopy(module) for _ in range(N)])"
   ],
   "outputs": [],
   "execution_count": 224
  },
  {
   "cell_type": "code",
   "id": "12be91a2-8753-46f4-81e5-ea1472724265",
   "metadata": {
    "id": "12be91a2-8753-46f4-81e5-ea1472724265",
    "outputId": "33a08e16-42b8-4ffe-a916-785fd3627ae6",
    "ExecuteTime": {
     "end_time": "2024-07-10T22:05:10.809870Z",
     "start_time": "2024-07-10T22:05:10.804288Z"
    }
   },
   "source": [
    "train_dataloaders = [DataLoader(dataset=train_dataset, batch_size=64, shuffle=True, drop_last = True) for train_dataset in train_sets]\n",
    "val_dataloaders = [DataLoader(dataset=val_dataset, batch_size=64, shuffle=True, drop_last = True) for val_dataset in val_sets]\n",
    "test_dataloader = DataLoader(dataset=test_dataset, batch_size=64, shuffle=True, drop_last = True)\n",
    "len(train_dataloaders)"
   ],
   "outputs": [
    {
     "data": {
      "text/plain": [
       "2"
      ]
     },
     "execution_count": 225,
     "metadata": {},
     "output_type": "execute_result"
    }
   ],
   "execution_count": 225
  },
  {
   "cell_type": "code",
   "id": "bd06271f-ab4c-444e-b89b-fde0f4a00dbb",
   "metadata": {
    "id": "bd06271f-ab4c-444e-b89b-fde0f4a00dbb",
    "outputId": "d8b7fd9e-def9-45c7-ef55-8bfa938b7941",
    "ExecuteTime": {
     "end_time": "2024-07-10T22:05:10.935537Z",
     "start_time": "2024-07-10T22:05:10.929721Z"
    }
   },
   "source": [
    "x,y = next(iter(train_dataloaders[0]))\n",
    "xp = x\n",
    "\n",
    "print(xp.shape)\n",
    "print(xp[0][0:3])"
   ],
   "outputs": [
    {
     "name": "stdout",
     "output_type": "stream",
     "text": [
      "torch.Size([64, 500, 1])\n",
      "tensor([[ 0.69711667],\n",
      "        [ 0.18661179],\n",
      "        [-0.28076285]])\n"
     ]
    }
   ],
   "execution_count": 226
  },
  {
   "cell_type": "code",
   "id": "b32544a6-519e-467e-904c-5a4a0880ad1f",
   "metadata": {
    "id": "b32544a6-519e-467e-904c-5a4a0880ad1f",
    "ExecuteTime": {
     "end_time": "2024-07-10T22:05:11.060370Z",
     "start_time": "2024-07-10T22:05:11.054136Z"
    }
   },
   "source": [
    "class PtMultiheadAttention(nn.Module):\n",
    "  def __init__(self, head_size, num_heads, dropout=0.1):\n",
    "    super(PtMultiheadAttention, self).__init__()\n",
    "    assert head_size % num_heads == 0\n",
    "\n",
    "    self.d_k = head_size // num_heads\n",
    "    self.weight_matrices = clones(nn.Linear(head_size, head_size), 4)\n",
    "    self.attn = None\n",
    "    if dropout > 0:\n",
    "      self.dropout = nn.Dropout(dropout)\n",
    "\n",
    "  def _attention(self, query, key, value, mask=None, dropout=None):\n",
    "    scores = torch.matmul(query, key.transpose(-2, -1)) / math.sqrt(self.d_k)\n",
    "    # if mask is not None:\n",
    "    #   scores = scores.masked_fill(mask == 0, -1e9)\n",
    "    p_attn = scores.softmax(dim=-1)\n",
    "    # if dropout is not None:\n",
    "    #   p_attn = self.dropout(p_attn)\n",
    "    return torch.matmul(p_attn, value), p_attn\n",
    "\n",
    "  def forward(self, query, key, value):\n",
    "\n",
    "    # get q, k and v\n",
    "    query, key, value = [\n",
    "      weights(inputs)\n",
    "      for weights, inputs in zip(self.weight_matrices, (query, key, value))\n",
    "    ]\n",
    "\n",
    "    # calculate attention\n",
    "    x, self.attn = self._attention(query, key, value)\n",
    "\n",
    "    return self.weight_matrices[-1](x)"
   ],
   "outputs": [],
   "execution_count": 227
  },
  {
   "cell_type": "code",
   "id": "0989880c-00f7-4a4d-87d2-4c8be5630ae3",
   "metadata": {
    "id": "0989880c-00f7-4a4d-87d2-4c8be5630ae3",
    "ExecuteTime": {
     "end_time": "2024-07-10T22:05:11.184435Z",
     "start_time": "2024-07-10T22:05:11.178317Z"
    }
   },
   "source": [
    "class PytorchEncoder(nn.Module):\n",
    "  def __init__(self, inputs, embed_size, num_heads, ff_dim, dropout=0):\n",
    "    super(PytorchEncoder, self).__init__()\n",
    "    # attention\n",
    "    self.embedding = nn.Linear(in_features=inputs.shape[-1], out_features=embed_size)\n",
    "    self.attention = PtMultiheadAttention(embed_size, num_heads, dropout=0.0)\n",
    "    self.linear1 = nn.Linear(embed_size, 1)\n",
    "    self.dropout1 = nn.Dropout(dropout)\n",
    "    self.layer_norm1 = nn.LayerNorm(normalized_shape=inputs.shape[-1], eps=1e-6)\n",
    "\n",
    "    # feedforward\n",
    "    self.conv1 = nn.Conv1d(in_channels=inputs.shape[-1], out_channels=ff_dim, kernel_size=1)\n",
    "    self.relu1 = nn.ReLU()\n",
    "    self.dropout2 = nn.Dropout(dropout)\n",
    "    self.conv2 = nn.Conv1d(in_channels=ff_dim, out_channels=inputs.shape[-1], kernel_size=1)\n",
    "    self.layer_norm2 = nn.LayerNorm(normalized_shape=inputs.shape[1], eps=1e-6)\n",
    "\n",
    "\n",
    "  def forward(self, src):\n",
    "    x = self.embedding(src)\n",
    "    x = self.attention(x, x, x)[0]\n",
    "    x = self.linear1(x)\n",
    "    x = self.dropout1(x)\n",
    "    x = self.layer_norm1(x)\n",
    "\n",
    "    res = x + src\n",
    "    res = res.reshape(res.shape[0], res.shape[2], res.shape[1])\n",
    "\n",
    "    x = self.conv1(res)\n",
    "    x = self.relu1(x)\n",
    "    x = self.dropout2(x)\n",
    "    x = self.conv2(x)\n",
    "    x = self.layer_norm2(x)\n",
    "    x = x + res\n",
    "\n",
    "    return x.reshape(x.shape[0], x.shape[-1], x.shape[1])"
   ],
   "outputs": [],
   "execution_count": 228
  },
  {
   "cell_type": "code",
   "id": "425b351b-f492-47da-83fd-c4bc975d20d5",
   "metadata": {
    "id": "425b351b-f492-47da-83fd-c4bc975d20d5",
    "ExecuteTime": {
     "end_time": "2024-07-10T22:05:11.309457Z",
     "start_time": "2024-07-10T22:05:11.302545Z"
    }
   },
   "source": [
    "from collections import OrderedDict\n",
    "\n",
    "class EncoderClassifier(nn.Module):\n",
    "  def __init__(self, inputs, embed_size, num_heads, ff_dim, dropout=0, num_blocks=2):\n",
    "    super(EncoderClassifier, self).__init__()\n",
    "    encoder_layer = PytorchEncoder(inputs=inputs, embed_size=embed_size, num_heads=num_heads, ff_dim=ff_dim, dropout=dropout)\n",
    "    encoders = OrderedDict()\n",
    "    for idx in range(num_blocks):\n",
    "      encoders[f\"encoder{idx}\"] = encoder_layer\n",
    "    self.encoder_block = nn.Sequential(encoders)\n",
    "    self.avg = nn.AvgPool1d(kernel_size=1)\n",
    "    self.dense1 = nn.Linear(500, mlp_units[0])\n",
    "    self.relu1 = nn.ReLU()\n",
    "    self.dropout1 = nn.Dropout(dropout)\n",
    "    self.dense2 = nn.Linear(mlp_units[0], 2)\n",
    "    self.softmax = nn.Softmax()\n",
    "\n",
    "  def forward(self, x):\n",
    "    x = self.encoder_block(x)\n",
    "    x = torch.squeeze(self.avg(x), 2)\n",
    "    x = self.dense1(x)\n",
    "    x = self.relu1(x)\n",
    "    x = self.dropout1(x)\n",
    "    x = self.dense2(x)\n",
    "    x = self.softmax(x)\n",
    "    return x"
   ],
   "outputs": [],
   "execution_count": 229
  },
  {
   "cell_type": "code",
   "id": "fe6ffdfe-cd88-4f34-b1b2-2d0cd012bc38",
   "metadata": {
    "id": "fe6ffdfe-cd88-4f34-b1b2-2d0cd012bc38",
    "ExecuteTime": {
     "end_time": "2024-07-10T22:05:11.661226Z",
     "start_time": "2024-07-10T22:05:11.658003Z"
    }
   },
   "source": [
    "cuda0 = torch.device('cuda:0')\n",
    "# model = EncoderClassifier(inputs=xp, embed_size=embed_size, num_heads=num_heads, ff_dim=ff_dim, dropout=dropout)\n",
    "# model.cuda()\n",
    "# criterion = nn.CrossEntropyLoss()\n",
    "# optimizer = optim.Adam(model.parameters(), lr=0.0001)"
   ],
   "outputs": [],
   "execution_count": 230
  },
  {
   "cell_type": "code",
   "id": "9242bc11-f6a8-4b21-8589-bc0b5de7aee4",
   "metadata": {
    "id": "9242bc11-f6a8-4b21-8589-bc0b5de7aee4",
    "ExecuteTime": {
     "end_time": "2024-07-10T22:05:12.090594Z",
     "start_time": "2024-07-10T22:05:12.083603Z"
    }
   },
   "source": [
    "def train_one_epoch(epoch_index, train_data, val_data, model):\n",
    "    train_running_loss = 0.\n",
    "    train_last_loss = 0.\n",
    "    train_correct = 0\n",
    "    iterations = 0\n",
    "    \n",
    "    for i, (inputs,labels) in enumerate(train_data):\n",
    "      if torch.cuda.is_available():\n",
    "        inputs = inputs.cuda()\n",
    "        labels = labels.cuda()\n",
    "          \n",
    "      model[\"opt\"].zero_grad()\n",
    "      outputs = model[\"model\"](inputs)\n",
    "      loss = model[\"loss_fn\"](outputs, labels.to(torch.long).reshape(-1))\n",
    "      loss.backward()\n",
    "      model[\"opt\"].step()\n",
    "      train_running_loss += loss.item()\n",
    "\n",
    "      predictions = torch.argmax(outputs, axis=1)\n",
    "      correct_labels = labels.squeeze()\n",
    "\n",
    "      train_correct += (predictions == correct_labels).int().sum()/len(labels) * 100\n",
    "      iterations += 1\n",
    "    train_last_loss = train_running_loss / len(train_data)\n",
    "    train_acc = (train_correct / iterations)\n",
    "    \n",
    "    \n",
    "    \n",
    "    val_running_loss = 0.\n",
    "    val_last_loss = 0.\n",
    "    val_correct = 0\n",
    "    \n",
    "    iterations = 0\n",
    "    model[\"model\"].eval()\n",
    "    for i, (inputs,labels) in enumerate(val_data):\n",
    "      if torch.cuda.is_available():\n",
    "        inputs = inputs.cuda()\n",
    "        labels = labels.cuda()\n",
    "      outputs = model[\"model\"](inputs)\n",
    "      loss = model[\"loss_fn\"](outputs, labels.to(torch.long).reshape(-1))\n",
    "      val_running_loss += loss.item()\n",
    "\n",
    "      predictions = torch.argmax(outputs, axis=1)\n",
    "      correct_labels = labels.squeeze()\n",
    "\n",
    "      val_correct += (predictions == correct_labels).int().sum()/len(labels) * 100\n",
    "      iterations += 1\n",
    "    val_last_loss = val_running_loss / len(val_data)\n",
    "    val_acc = (val_correct / iterations)\n",
    "\n",
    "    return train_last_loss, train_acc, val_last_loss, val_acc"
   ],
   "outputs": [],
   "execution_count": 231
  },
  {
   "metadata": {
    "ExecuteTime": {
     "end_time": "2024-07-10T22:15:16.630614Z",
     "start_time": "2024-07-10T22:15:16.627755Z"
    }
   },
   "cell_type": "code",
   "source": "losses = []",
   "id": "cfc51127feacc484",
   "outputs": [],
   "execution_count": 243
  },
  {
   "metadata": {
    "ExecuteTime": {
     "end_time": "2024-07-10T22:15:25.238041Z",
     "start_time": "2024-07-10T22:15:25.221732Z"
    }
   },
   "cell_type": "code",
   "source": "",
   "id": "612eb35a83ee0212",
   "outputs": [
    {
     "ename": "IndexError",
     "evalue": "list assignment index out of range",
     "output_type": "error",
     "traceback": [
      "\u001B[0;31m---------------------------------------------------------------------------\u001B[0m",
      "\u001B[0;31mIndexError\u001B[0m                                Traceback (most recent call last)",
      "Cell \u001B[0;32mIn[244], line 1\u001B[0m\n\u001B[0;32m----> 1\u001B[0m \u001B[43mlosses\u001B[49m\u001B[43m[\u001B[49m\u001B[38;5;241;43m0\u001B[39;49m\u001B[43m]\u001B[49m \u001B[38;5;241m=\u001B[39m \u001B[38;5;124m\"\u001B[39m\u001B[38;5;124ma\u001B[39m\u001B[38;5;124m\"\u001B[39m\n",
      "\u001B[0;31mIndexError\u001B[0m: list assignment index out of range"
     ]
    }
   ],
   "execution_count": 244
  },
  {
   "cell_type": "code",
   "id": "0b5b2801-d11a-41b4-a3c0-d69d626398dc",
   "metadata": {
    "editable": true,
    "tags": [],
    "id": "0b5b2801-d11a-41b4-a3c0-d69d626398dc",
    "outputId": "687ad248-3ae1-48df-88b0-79caab811d0c",
    "ExecuteTime": {
     "end_time": "2024-07-10T22:18:08.838651Z",
     "start_time": "2024-07-10T22:16:11.123279Z"
    }
   },
   "source": [
    "epochs = 30\n",
    "models = []\n",
    "losses = []\n",
    "accuracies = []\n",
    "for fold in range(len(train_dataloaders)):\n",
    "  print('FOLD {}:'.format(fold + 1))\n",
    "  \n",
    "  train_dataloader = train_dataloaders[fold]\n",
    "  val_dataloader = val_dataloaders[fold]\n",
    "  \n",
    "  model = EncoderClassifier(inputs=xp, embed_size=embed_size, num_heads=num_heads, ff_dim=ff_dim, dropout=dropout, num_blocks=num_transformer_blocks)\n",
    "  model.cuda()\n",
    "  criterion = nn.CrossEntropyLoss()\n",
    "  optimizer = optim.Adam(model.parameters(), lr=0.001)\n",
    "  models.append({\"model\": model, \"loss_fn\": criterion, \"opt\": optimizer})\n",
    "  \n",
    "  losses.append([])\n",
    "  accuracies.append([])\n",
    "  \n",
    "  for epoch in range(epochs):\n",
    "      print('EPOCH {}:'.format(epoch + 1))\n",
    "  \n",
    "      models[fold][\"model\"].train(True)\n",
    "      train_avg_loss, train_acc, val_avg_loss, val_acc = train_one_epoch(epoch, train_dataloader, val_dataloader, models[fold])\n",
    "  \n",
    "      print(train_avg_loss)\n",
    "      print(train_acc)\n",
    "      print(val_avg_loss)\n",
    "      print(val_acc)\n",
    "      \n",
    "      losses[fold].append((train_avg_loss, val_avg_loss))\n",
    "      accuracies[fold].append((train_acc, val_acc))"
   ],
   "outputs": [
    {
     "name": "stdout",
     "output_type": "stream",
     "text": [
      "FOLD 1:\n",
      "EPOCH 1:\n"
     ]
    },
    {
     "name": "stderr",
     "output_type": "stream",
     "text": [
      "/home/taihim/PycharmProjects/timeseries-transformer/.venv/lib/python3.12/site-packages/torch/nn/modules/module.py:1532: UserWarning: Implicit dimension choice for softmax has been deprecated. Change the call to include dim=X as an argument.\n",
      "  return self._call_impl(*args, **kwargs)\n"
     ]
    },
    {
     "name": "stdout",
     "output_type": "stream",
     "text": [
      "0.6924917697906494\n",
      "tensor(53.85044861, device='cuda:0')\n",
      "0.6416378979172025\n",
      "tensor(62.77902222, device='cuda:0')\n",
      "EPOCH 2:\n",
      "0.6060027820723397\n",
      "tensor(68.91741180, device='cuda:0')\n",
      "0.6129252378429685\n",
      "tensor(66.57366180, device='cuda:0')\n",
      "EPOCH 3:\n",
      "0.5733111926487514\n",
      "tensor(72.32143402, device='cuda:0')\n",
      "0.5940497868827411\n",
      "tensor(68.97322083, device='cuda:0')\n",
      "EPOCH 4:\n",
      "0.5355070903897285\n",
      "tensor(77.34375000, device='cuda:0')\n",
      "0.5929175317287445\n",
      "tensor(69.19643402, device='cuda:0')\n",
      "EPOCH 5:\n",
      "0.5225868427327701\n",
      "tensor(78.79464722, device='cuda:0')\n",
      "0.5825503021478653\n",
      "tensor(70.53572083, device='cuda:0')\n",
      "EPOCH 6:\n",
      "0.5103753741298404\n",
      "tensor(80.46875000, device='cuda:0')\n",
      "0.5817045037235532\n",
      "tensor(71.26116180, device='cuda:0')\n",
      "EPOCH 7:\n",
      "0.4983054591076715\n",
      "tensor(81.58482361, device='cuda:0')\n",
      "0.5718807141695704\n",
      "tensor(72.93527222, device='cuda:0')\n",
      "EPOCH 8:\n",
      "0.4776695870927402\n",
      "tensor(84.54241180, device='cuda:0')\n",
      "0.5740508937409946\n",
      "tensor(71.59598541, device='cuda:0')\n",
      "EPOCH 9:\n",
      "0.46687135313238415\n",
      "tensor(85.54688263, device='cuda:0')\n",
      "0.5704845147473472\n",
      "tensor(72.15402222, device='cuda:0')\n",
      "EPOCH 10:\n",
      "0.4602267806019102\n",
      "tensor(85.37947083, device='cuda:0')\n",
      "0.5661503970623016\n",
      "tensor(72.26562500, device='cuda:0')\n",
      "EPOCH 11:\n",
      "0.45858945484672275\n",
      "tensor(85.26786041, device='cuda:0')\n",
      "0.5800769201346806\n",
      "tensor(70.98214722, device='cuda:0')\n",
      "EPOCH 12:\n",
      "0.4503118619322777\n",
      "tensor(86.16072083, device='cuda:0')\n",
      "0.5555567081485476\n",
      "tensor(73.66072083, device='cuda:0')\n",
      "EPOCH 13:\n",
      "0.4351526264633451\n",
      "tensor(88.22544861, device='cuda:0')\n",
      "0.5618094950914383\n",
      "tensor(73.66072083, device='cuda:0')\n",
      "EPOCH 14:\n",
      "0.4306725561618805\n",
      "tensor(89.00669861, device='cuda:0')\n",
      "0.5632539317011833\n",
      "tensor(72.87947083, device='cuda:0')\n",
      "EPOCH 15:\n",
      "0.42246612161397934\n",
      "tensor(89.28572083, device='cuda:0')\n",
      "0.5496278373258454\n",
      "tensor(74.38616180, device='cuda:0')\n",
      "EPOCH 16:\n",
      "0.41937231911080225\n",
      "tensor(89.34152222, device='cuda:0')\n",
      "0.5470620031867709\n",
      "tensor(75.27902222, device='cuda:0')\n",
      "EPOCH 17:\n",
      "0.40901825789894375\n",
      "tensor(90.79241180, device='cuda:0')\n",
      "0.5565956916127887\n",
      "tensor(73.66072083, device='cuda:0')\n",
      "EPOCH 18:\n",
      "0.40391330420970917\n",
      "tensor(91.46205902, device='cuda:0')\n",
      "0.5474435048443931\n",
      "tensor(75.11161041, device='cuda:0')\n",
      "EPOCH 19:\n",
      "0.4070653127772467\n",
      "tensor(91.07143402, device='cuda:0')\n",
      "0.5444011624370303\n",
      "tensor(74.94419861, device='cuda:0')\n",
      "EPOCH 20:\n",
      "0.39923083995069775\n",
      "tensor(91.85268402, device='cuda:0')\n",
      "0.5442862531968525\n",
      "tensor(74.88839722, device='cuda:0')\n",
      "EPOCH 21:\n",
      "0.3912192689520972\n",
      "tensor(92.68973541, device='cuda:0')\n",
      "0.5406326023595673\n",
      "tensor(75.66964722, device='cuda:0')\n",
      "EPOCH 22:\n",
      "0.38207783337150303\n",
      "tensor(93.41518402, device='cuda:0')\n",
      "0.543856178011213\n",
      "tensor(75.05580902, device='cuda:0')\n",
      "EPOCH 23:\n",
      "0.38725066078560694\n",
      "tensor(92.68973541, device='cuda:0')\n",
      "0.5419354758092335\n",
      "tensor(75.50223541, device='cuda:0')\n",
      "EPOCH 24:\n",
      "0.37747520953416824\n",
      "tensor(93.47098541, device='cuda:0')\n",
      "0.5458302657519069\n",
      "tensor(75.27902222, device='cuda:0')\n",
      "EPOCH 25:\n",
      "0.3693572995918138\n",
      "tensor(94.92188263, device='cuda:0')\n",
      "0.5420798787048885\n",
      "tensor(75.61384583, device='cuda:0')\n",
      "EPOCH 26:\n",
      "0.37174313941172193\n",
      "tensor(94.75447083, device='cuda:0')\n",
      "0.5518636660916465\n",
      "tensor(74.88839722, device='cuda:0')\n",
      "EPOCH 27:\n",
      "0.3694123178720474\n",
      "tensor(95.08928680, device='cuda:0')\n",
      "0.5419445080416543\n",
      "tensor(75.22322083, device='cuda:0')\n",
      "EPOCH 28:\n",
      "0.3631313421896526\n",
      "tensor(95.64732361, device='cuda:0')\n",
      "0.5436246650559562\n",
      "tensor(75.94866180, device='cuda:0')\n",
      "EPOCH 29:\n",
      "0.3637711299317224\n",
      "tensor(95.53572083, device='cuda:0')\n",
      "0.5426663660577365\n",
      "tensor(75.78125000, device='cuda:0')\n",
      "EPOCH 30:\n",
      "0.3660221089209829\n",
      "tensor(95.08928680, device='cuda:0')\n",
      "0.5403289209519114\n",
      "tensor(75.22322083, device='cuda:0')\n",
      "FOLD 2:\n",
      "EPOCH 1:\n",
      "0.6892018914222717\n",
      "tensor(53.79464340, device='cuda:0')\n",
      "0.6474968386547906\n",
      "tensor(62.10937881, device='cuda:0')\n",
      "EPOCH 2:\n",
      "0.6182223664862769\n",
      "tensor(68.35937500, device='cuda:0')\n",
      "0.6172578973429543\n",
      "tensor(66.74107361, device='cuda:0')\n",
      "EPOCH 3:\n",
      "0.5741120204329491\n",
      "tensor(72.20982361, device='cuda:0')\n",
      "0.6067748325211662\n",
      "tensor(67.13169861, device='cuda:0')\n",
      "EPOCH 4:\n",
      "0.53767129778862\n",
      "tensor(77.45536041, device='cuda:0')\n",
      "0.5996516730104174\n",
      "tensor(68.75000000, device='cuda:0')\n",
      "EPOCH 5:\n",
      "0.5207258665135929\n",
      "tensor(79.24107361, device='cuda:0')\n",
      "0.609390167253358\n",
      "tensor(68.52678680, device='cuda:0')\n",
      "EPOCH 6:\n",
      "0.5109207129904202\n",
      "tensor(79.63169861, device='cuda:0')\n",
      "0.596262948853629\n",
      "tensor(68.86161041, device='cuda:0')\n",
      "EPOCH 7:\n",
      "0.48695672835622517\n",
      "tensor(82.97991180, device='cuda:0')\n",
      "0.5906001563583102\n",
      "tensor(69.92187500, device='cuda:0')\n",
      "EPOCH 8:\n",
      "0.46796712066446033\n",
      "tensor(85.10044861, device='cuda:0')\n",
      "0.5853660830429622\n",
      "tensor(70.08928680, device='cuda:0')\n",
      "EPOCH 9:\n",
      "0.4622276702097484\n",
      "tensor(85.15625000, device='cuda:0')\n",
      "0.5733450438295092\n",
      "tensor(72.48884583, device='cuda:0')\n",
      "EPOCH 10:\n",
      "0.4518155274646623\n",
      "tensor(86.43973541, device='cuda:0')\n",
      "0.5777750983834267\n",
      "tensor(71.87500000, device='cuda:0')\n",
      "EPOCH 11:\n",
      "0.4418218103902681\n",
      "tensor(87.22098541, device='cuda:0')\n",
      "0.5824333056807518\n",
      "tensor(70.47991180, device='cuda:0')\n",
      "EPOCH 12:\n",
      "0.4255582903112684\n",
      "tensor(89.34152222, device='cuda:0')\n",
      "0.5749916444931712\n",
      "tensor(72.65625000, device='cuda:0')\n",
      "EPOCH 13:\n",
      "0.4235962788973536\n",
      "tensor(89.22991180, device='cuda:0')\n",
      "0.5770181438752583\n",
      "tensor(72.48884583, device='cuda:0')\n",
      "EPOCH 14:\n",
      "0.423342584499291\n",
      "tensor(89.11830902, device='cuda:0')\n",
      "0.5657956749200821\n",
      "tensor(72.76786041, device='cuda:0')\n",
      "EPOCH 15:\n",
      "0.4036963103072984\n",
      "tensor(91.29464722, device='cuda:0')\n",
      "0.5687019463096347\n",
      "tensor(73.38169861, device='cuda:0')\n",
      "EPOCH 16:\n",
      "0.4026072302034923\n",
      "tensor(92.13169861, device='cuda:0')\n",
      "0.5656597816518375\n",
      "tensor(72.71205902, device='cuda:0')\n",
      "EPOCH 17:\n",
      "0.39970872551202774\n",
      "tensor(92.13169861, device='cuda:0')\n",
      "0.5630569128053529\n",
      "tensor(73.32589722, device='cuda:0')\n",
      "EPOCH 18:\n",
      "0.3910252707345145\n",
      "tensor(92.96875763, device='cuda:0')\n",
      "0.5651649822081838\n",
      "tensor(73.38169861, device='cuda:0')\n",
      "EPOCH 19:\n",
      "0.39500585198402405\n",
      "tensor(91.90848541, device='cuda:0')\n",
      "0.569913632103375\n",
      "tensor(72.26562500, device='cuda:0')\n",
      "EPOCH 20:\n",
      "0.3944894586290632\n",
      "tensor(92.07589722, device='cuda:0')\n",
      "0.56948885428054\n",
      "tensor(72.76786041, device='cuda:0')\n",
      "EPOCH 21:\n",
      "0.39049637211220606\n",
      "tensor(92.02009583, device='cuda:0')\n",
      "0.558504299393722\n",
      "tensor(73.32589722, device='cuda:0')\n",
      "EPOCH 22:\n",
      "0.3864431828260422\n",
      "tensor(92.74553680, device='cuda:0')\n",
      "0.5540153299059186\n",
      "tensor(74.33036041, device='cuda:0')\n",
      "EPOCH 23:\n",
      "0.3834906348160335\n",
      "tensor(92.91294861, device='cuda:0')\n",
      "0.5595520851867539\n",
      "tensor(73.93973541, device='cuda:0')\n",
      "EPOCH 24:\n",
      "0.37456850175346645\n",
      "tensor(94.25223541, device='cuda:0')\n",
      "0.5607375044907842\n",
      "tensor(73.43750000, device='cuda:0')\n",
      "EPOCH 25:\n",
      "0.37406816865716663\n",
      "tensor(94.25223541, device='cuda:0')\n",
      "0.5640630551746914\n",
      "tensor(72.99107361, device='cuda:0')\n",
      "EPOCH 26:\n",
      "0.37071346172264646\n",
      "tensor(94.58705902, device='cuda:0')\n",
      "0.5597933073128972\n",
      "tensor(73.93973541, device='cuda:0')\n",
      "EPOCH 27:\n",
      "0.36785595757620676\n",
      "tensor(94.81027222, device='cuda:0')\n",
      "0.5584793740085193\n",
      "tensor(74.27455902, device='cuda:0')\n",
      "EPOCH 28:\n",
      "0.36708649354321615\n",
      "tensor(94.86607361, device='cuda:0')\n",
      "0.5689041465520859\n",
      "tensor(72.54464722, device='cuda:0')\n",
      "EPOCH 29:\n",
      "0.36546926839011057\n",
      "tensor(94.81027222, device='cuda:0')\n",
      "0.5628792228443282\n",
      "tensor(72.54464722, device='cuda:0')\n",
      "EPOCH 30:\n",
      "0.36224718604769024\n",
      "tensor(95.47991180, device='cuda:0')\n",
      "0.5608399042061397\n",
      "tensor(73.32589722, device='cuda:0')\n"
     ]
    }
   ],
   "execution_count": 245
  },
  {
   "cell_type": "code",
   "id": "7c6dedc7-02eb-47a9-aca0-18865d2a1194",
   "metadata": {
    "editable": true,
    "tags": [],
    "id": "7c6dedc7-02eb-47a9-aca0-18865d2a1194",
    "outputId": "32c42f0a-1421-48a4-8f9a-5cd9b6f66a8c",
    "ExecuteTime": {
     "end_time": "2024-07-10T22:18:16.903500Z",
     "start_time": "2024-07-10T22:18:16.542601Z"
    }
   },
   "source": [
    "acc = 0\n",
    "iteration = 0\n",
    "for data in test_dataloader:\n",
    "  iteration += 1\n",
    "  inputs, labels = data\n",
    "  if torch.cuda.is_available():\n",
    "    inputs = inputs.cuda()\n",
    "    labels = labels.cuda()\n",
    "  outputs = models[1][\"model\"](inputs)\n",
    "  predictions = torch.argmax(outputs, axis=1)\n",
    "  correct_labels = labels.squeeze().int()\n",
    "\n",
    "  acc += (predictions == correct_labels).int().sum()/len(labels) * 100\n",
    "print(acc/iteration)"
   ],
   "outputs": [
    {
     "name": "stderr",
     "output_type": "stream",
     "text": [
      "/home/taihim/PycharmProjects/timeseries-transformer/.venv/lib/python3.12/site-packages/torch/nn/modules/module.py:1532: UserWarning: Implicit dimension choice for softmax has been deprecated. Change the call to include dim=X as an argument.\n",
      "  return self._call_impl(*args, **kwargs)\n"
     ]
    },
    {
     "name": "stdout",
     "output_type": "stream",
     "text": [
      "tensor(72.96875000, device='cuda:0')\n"
     ]
    }
   ],
   "execution_count": 247
  },
  {
   "metadata": {
    "ExecuteTime": {
     "end_time": "2024-07-10T22:18:36.495678Z",
     "start_time": "2024-07-10T22:18:36.491281Z"
    }
   },
   "cell_type": "code",
   "source": "losses[0]",
   "id": "dda2bbe16cd691ff",
   "outputs": [
    {
     "data": {
      "text/plain": [
       "[(0.6924917697906494, 0.6416378979172025),\n",
       " (0.6060027820723397, 0.6129252378429685),\n",
       " (0.5733111926487514, 0.5940497868827411),\n",
       " (0.5355070903897285, 0.5929175317287445),\n",
       " (0.5225868427327701, 0.5825503021478653),\n",
       " (0.5103753741298404, 0.5817045037235532),\n",
       " (0.4983054591076715, 0.5718807141695704),\n",
       " (0.4776695870927402, 0.5740508937409946),\n",
       " (0.46687135313238415, 0.5704845147473472),\n",
       " (0.4602267806019102, 0.5661503970623016),\n",
       " (0.45858945484672275, 0.5800769201346806),\n",
       " (0.4503118619322777, 0.5555567081485476),\n",
       " (0.4351526264633451, 0.5618094950914383),\n",
       " (0.4306725561618805, 0.5632539317011833),\n",
       " (0.42246612161397934, 0.5496278373258454),\n",
       " (0.41937231911080225, 0.5470620031867709),\n",
       " (0.40901825789894375, 0.5565956916127887),\n",
       " (0.40391330420970917, 0.5474435048443931),\n",
       " (0.4070653127772467, 0.5444011624370303),\n",
       " (0.39923083995069775, 0.5442862531968525),\n",
       " (0.3912192689520972, 0.5406326023595673),\n",
       " (0.38207783337150303, 0.543856178011213),\n",
       " (0.38725066078560694, 0.5419354758092335),\n",
       " (0.37747520953416824, 0.5458302657519069),\n",
       " (0.3693572995918138, 0.5420798787048885),\n",
       " (0.37174313941172193, 0.5518636660916465),\n",
       " (0.3694123178720474, 0.5419445080416543),\n",
       " (0.3631313421896526, 0.5436246650559562),\n",
       " (0.3637711299317224, 0.5426663660577365),\n",
       " (0.3660221089209829, 0.5403289209519114)]"
      ]
     },
     "execution_count": 248,
     "metadata": {},
     "output_type": "execute_result"
    }
   ],
   "execution_count": 248
  },
  {
   "metadata": {
    "ExecuteTime": {
     "end_time": "2024-07-10T22:20:26.589537Z",
     "start_time": "2024-07-10T22:20:26.341454Z"
    }
   },
   "cell_type": "code",
   "source": [
    "# Extracting training losses\n",
    "train_losses = [t[0] for t in losses[0]]\n",
    "val_losses = [t[1] for t in losses[0]]\n",
    "\n",
    "# Creating index for x-axis\n",
    "indices = range(1, len(losses[0]) + 1)\n",
    "\n",
    "# Plotting\n",
    "plt.figure(figsize=(10, 5))\n",
    "plt.plot(indices, train_losses, marker='o', linestyle='-', color='b', label='Training Loss')\n",
    "plt.plot(indices, val_losses, marker='o', linestyle='-', color='r', label='Validation Loss')\n",
    "plt.title('Training and Validation Losses')\n",
    "plt.xlabel('Epoch')\n",
    "plt.ylabel('Loss')\n",
    "plt.xticks(indices)\n",
    "plt.legend()\n",
    "plt.grid(True)\n",
    "plt.tight_layout()\n",
    "plt.show()"
   ],
   "id": "3ab64367c9711b92",
   "outputs": [
    {
     "data": {
      "text/plain": [
       "<Figure size 1000x500 with 1 Axes>"
      ],
      "image/png": "[encoded data removed]"
     },
     "metadata": {},
     "output_type": "display_data"
    }
   ],
   "execution_count": 258
  },
  {
   "metadata": {
    "ExecuteTime": {
     "end_time": "2024-07-10T22:21:45.013655Z",
     "start_time": "2024-07-10T22:21:44.776826Z"
    }
   },
   "cell_type": "code",
   "source": [
    "# Extracting training losses\n",
    "train_accs = [t[0].cpu() for t in accuracies[0]]\n",
    "val_accs = [t[1].cpu() for t in accuracies[0]]\n",
    "\n",
    "# Creating index for x-axis\n",
    "indices = range(1, len(accuracies[0]) + 1)\n",
    "\n",
    "# Plotting\n",
    "plt.figure(figsize=(10, 5))\n",
    "plt.plot(indices, train_accs, marker='o', linestyle='-', color='b', label='Training Accuracy')\n",
    "plt.plot(indices, val_accs, marker='o', linestyle='-', color='r', label='Validation Accuracy')\n",
    "plt.title('Training and Validation Accuracies')\n",
    "plt.xlabel('Epoch')\n",
    "plt.ylabel('Accuracy')\n",
    "plt.xticks(indices)\n",
    "plt.legend()\n",
    "plt.grid(True)\n",
    "plt.tight_layout()\n",
    "plt.show()"
   ],
   "id": "666f590be2d6d62e",
   "outputs": [
    {
     "data": {
      "text/plain": [
       "<Figure size 1000x500 with 1 Axes>"
      ],
      "image/png": "[encoded data removed]"
     },
     "metadata": {},
     "output_type": "display_data"
    }
   ],
   "execution_count": 260
  },
  {
   "metadata": {},
   "cell_type": "code",
   "outputs": [],
   "execution_count": null,
   "source": "",
   "id": "d927e82dd6f4482"
  }
 ],
 "metadata": {
  "kernelspec": {
   "display_name": "Python 3 (ipykernel)",
   "language": "python",
   "name": "python3"
  },
  "language_info": {
   "codemirror_mode": {
    "name": "ipython",
    "version": 3
   },
   "file_extension": ".py",
   "mimetype": "text/x-python",
   "name": "python",
   "nbconvert_exporter": "python",
   "pygments_lexer": "ipython3",
   "version": "3.12.4"
  },
  "colab": {
   "provenance": []
  }
 },
 "nbformat": 4,
 "nbformat_minor": 5
}
