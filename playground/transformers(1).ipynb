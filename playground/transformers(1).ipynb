{
 "cells": [
  {
   "cell_type": "code",
   "id": "2ed092cc-d9f0-40ba-838f-3c96920e8016",
   "metadata": {
    "id": "2ed092cc-d9f0-40ba-838f-3c96920e8016",
    "ExecuteTime": {
     "end_time": "2024-07-15T21:28:03.891849Z",
     "start_time": "2024-07-15T21:28:01.463486Z"
    }
   },
   "source": [
    "import torch\n",
    "import math\n",
    "import copy\n",
    "import time\n",
    "\n",
    "from sklearn.model_selection import StratifiedKFold, KFold\n",
    "from torch.utils.data import Dataset, DataLoader\n",
    "import matplotlib.pyplot as plt\n",
    "import torch.nn as nn\n",
    "import torch.optim as optim\n",
    "import numpy as np\n",
    "\n",
    "torch.set_printoptions(precision=8)\n",
    "torch.manual_seed(32)\n",
    "\n",
    "root_url = \"https://raw.githubusercontent.com/hfawaz/cd-diagram/master/FordA/\""
   ],
   "outputs": [],
   "execution_count": 1
  },
  {
   "metadata": {
    "ExecuteTime": {
     "end_time": "2024-07-15T21:28:03.899248Z",
     "start_time": "2024-07-15T21:28:03.893243Z"
    }
   },
   "cell_type": "code",
   "source": "from src.timeseries_transformer.datasets import DatasetBuilder",
   "id": "d557fe90a76475eb",
   "outputs": [],
   "execution_count": 2
  },
  {
   "metadata": {
    "ExecuteTime": {
     "end_time": "2024-07-15T21:28:04.743702Z",
     "start_time": "2024-07-15T21:28:04.568847Z"
    }
   },
   "cell_type": "code",
   "source": "db = DatasetBuilder(split=\"train\", use_k_fold=True, num_folds=10)",
   "id": "f3396f4db57e0af5",
   "outputs": [],
   "execution_count": 3
  },
  {
   "metadata": {
    "ExecuteTime": {
     "end_time": "2024-07-15T21:28:05.712239Z",
     "start_time": "2024-07-15T21:28:05.703782Z"
    }
   },
   "cell_type": "code",
   "source": "ds = db.get_dataset()",
   "id": "d2659c69bb9cce2a",
   "outputs": [],
   "execution_count": 4
  },
  {
   "metadata": {
    "ExecuteTime": {
     "end_time": "2024-07-15T21:28:07.832052Z",
     "start_time": "2024-07-15T21:28:07.782983Z"
    }
   },
   "cell_type": "code",
   "source": "db_test = DatasetBuilder(split=\"test\")",
   "id": "3fbce6b3084937e1",
   "outputs": [],
   "execution_count": 5
  },
  {
   "metadata": {
    "ExecuteTime": {
     "end_time": "2024-07-15T21:28:08.985992Z",
     "start_time": "2024-07-15T21:28:08.979714Z"
    }
   },
   "cell_type": "code",
   "source": "db_test.use_k_fold",
   "id": "2a531c9c9d7c2092",
   "outputs": [
    {
     "data": {
      "text/plain": [
       "False"
      ]
     },
     "execution_count": 6,
     "metadata": {},
     "output_type": "execute_result"
    }
   ],
   "execution_count": 6
  },
  {
   "metadata": {
    "ExecuteTime": {
     "end_time": "2024-07-15T21:28:09.138219Z",
     "start_time": "2024-07-15T21:28:09.135310Z"
    }
   },
   "cell_type": "code",
   "source": "test_dataset = db_test.get_dataset()",
   "id": "b9813ac746c2aeb7",
   "outputs": [],
   "execution_count": 7
  },
  {
   "metadata": {
    "ExecuteTime": {
     "end_time": "2024-07-15T21:06:24.690095Z",
     "start_time": "2024-07-15T21:06:24.688214Z"
    }
   },
   "cell_type": "code",
   "source": "",
   "id": "9a68d10da0f2ca45",
   "outputs": [],
   "execution_count": 7
  },
  {
   "metadata": {
    "ExecuteTime": {
     "end_time": "2024-07-10T21:46:25.296771Z",
     "start_time": "2024-07-10T21:46:25.291976Z"
    }
   },
   "cell_type": "code",
   "source": [
    "class FordDatasetKfold(Dataset):\n",
    "  def __init__(self, sequences, labels):\n",
    "    self.labels = labels\n",
    "    self.sequences = sequences\n",
    "    self.num_classes = len(torch.unique(self.labels)) # count the number of unique labels\n",
    "\n",
    "  def __len__(self):\n",
    "      return self.sequences.shape[0]\n",
    "\n",
    "  def __getitem__(self, idx):\n",
    "    sequence = torch.reshape(self.sequences[idx], (-1, 1)) # dim: seq_len x num_features\n",
    "    label = torch.reshape(self.labels[idx], (-1, )) # dim: 1 x 1\n",
    "\n",
    "    return sequence, label"
   ],
   "id": "186b82de9175817",
   "outputs": [],
   "execution_count": 168
  },
  {
   "metadata": {
    "ExecuteTime": {
     "end_time": "2024-07-10T21:46:25.621292Z",
     "start_time": "2024-07-10T21:46:25.567959Z"
    }
   },
   "cell_type": "code",
   "source": [
    "class FordDataset(Dataset):\n",
    "  def __init__(self, split=\"train\"):\n",
    "    self.root_url = \"https://raw.githubusercontent.com/hfawaz/cd-diagram/master/FordA/\"\n",
    "    self.data = torch.tensor(np.loadtxt(self.root_url + \"FordA_TRAIN.tsv\", delimiter=\"\\t\"), dtype=torch.float32) if split==\"train\" else torch.tensor(np.loadtxt(self.root_url + \"FordA_TEST.tsv\", delimiter=\"\\t\"), dtype=torch.float32)\n",
    "    self.labels = self.data[:, 0] # get first element from each example\n",
    "    self.sequences = self.data[:, 1:] # get all elements after first element\n",
    "    self.labels[self.labels == -1] = 0 # change all -1 labels to 0\n",
    "    self.num_classes = len(torch.unique(self.labels)) # count the number of unique labels\n",
    "\n",
    "  def __len__(self):\n",
    "      return self.data.shape[0]\n",
    "\n",
    "  def __getitem__(self, idx):\n",
    "    sequence = torch.reshape(self.sequences[idx], (-1, 1)) # dim: seq_len x num_features\n",
    "    label = torch.reshape(self.labels[idx], (-1, )) # dim: 1 x 1\n",
    "\n",
    "    return sequence, label\n",
    "\n",
    "test_dataset = FordDataset(\"test\")"
   ],
   "id": "5c8c750a40f20fe8",
   "outputs": [],
   "execution_count": 169
  },
  {
   "metadata": {
    "ExecuteTime": {
     "end_time": "2024-07-10T21:46:25.854973Z",
     "start_time": "2024-07-10T21:46:25.711470Z"
    }
   },
   "cell_type": "code",
   "source": "train_data = torch.tensor(np.loadtxt(root_url + \"FordA_TRAIN.tsv\", delimiter=\"\\t\"), dtype=torch.float32)",
   "id": "c78738ac4fa4228e",
   "outputs": [],
   "execution_count": 170
  },
  {
   "metadata": {
    "ExecuteTime": {
     "end_time": "2024-07-10T21:46:25.863115Z",
     "start_time": "2024-07-10T21:46:25.859539Z"
    }
   },
   "cell_type": "code",
   "source": "train_data.shape",
   "id": "c531413f0c18debf",
   "outputs": [
    {
     "data": {
      "text/plain": [
       "torch.Size([3601, 501])"
      ]
     },
     "execution_count": 171,
     "metadata": {},
     "output_type": "execute_result"
    }
   ],
   "execution_count": 171
  },
  {
   "metadata": {
    "ExecuteTime": {
     "end_time": "2024-07-10T21:46:25.974728Z",
     "start_time": "2024-07-10T21:46:25.972398Z"
    }
   },
   "cell_type": "code",
   "source": "y = train_data[:, 0]",
   "id": "70fdcf04602a5b4a",
   "outputs": [],
   "execution_count": 172
  },
  {
   "metadata": {
    "ExecuteTime": {
     "end_time": "2024-07-10T21:46:26.097995Z",
     "start_time": "2024-07-10T21:46:26.094653Z"
    }
   },
   "cell_type": "code",
   "source": "y[y == -1] = 0",
   "id": "e8ceb737578cd085",
   "outputs": [],
   "execution_count": 173
  },
  {
   "metadata": {
    "ExecuteTime": {
     "end_time": "2024-07-10T21:46:26.229782Z",
     "start_time": "2024-07-10T21:46:26.227089Z"
    }
   },
   "cell_type": "code",
   "source": "x = train_data[:, 1:] # get all elements after first element",
   "id": "f6db72179b9da51d",
   "outputs": [],
   "execution_count": 174
  },
  {
   "metadata": {
    "ExecuteTime": {
     "end_time": "2024-07-10T21:46:26.354832Z",
     "start_time": "2024-07-10T21:46:26.351668Z"
    }
   },
   "cell_type": "code",
   "source": "skf = StratifiedKFold(n_splits=2, shuffle=True, random_state=32)",
   "id": "97c651b723382bd7",
   "outputs": [],
   "execution_count": 175
  },
  {
   "metadata": {
    "ExecuteTime": {
     "end_time": "2024-07-10T21:46:26.470929Z",
     "start_time": "2024-07-10T21:46:26.467080Z"
    }
   },
   "cell_type": "code",
   "source": "x.shape",
   "id": "725fed82dcf5f761",
   "outputs": [
    {
     "data": {
      "text/plain": [
       "torch.Size([3601, 500])"
      ]
     },
     "execution_count": 176,
     "metadata": {},
     "output_type": "execute_result"
    }
   ],
   "execution_count": 176
  },
  {
   "metadata": {
    "ExecuteTime": {
     "end_time": "2024-07-10T21:46:26.586920Z",
     "start_time": "2024-07-10T21:46:26.582564Z"
    }
   },
   "cell_type": "code",
   "source": "y.shape",
   "id": "7e721f1f9c2ddbcc",
   "outputs": [
    {
     "data": {
      "text/plain": [
       "torch.Size([3601])"
      ]
     },
     "execution_count": 177,
     "metadata": {},
     "output_type": "execute_result"
    }
   ],
   "execution_count": 177
  },
  {
   "metadata": {
    "ExecuteTime": {
     "end_time": "2024-07-15T21:00:50.962263Z",
     "start_time": "2024-07-15T21:00:50.959704Z"
    }
   },
   "cell_type": "code",
   "source": [
    "train_sets = []\n",
    "val_sets = []"
   ],
   "id": "266882bc3156ff59",
   "outputs": [],
   "execution_count": 8
  },
  {
   "metadata": {
    "ExecuteTime": {
     "end_time": "2024-07-15T21:01:15.695608Z",
     "start_time": "2024-07-15T21:01:15.692090Z"
    }
   },
   "cell_type": "code",
   "source": "ds",
   "id": "424695f87f115bf7",
   "outputs": [
    {
     "data": {
      "text/plain": [
       "{'train': [<src.timeseries_transformer.datasets.FordDataset at 0x73de67915190>,\n",
       "  <src.timeseries_transformer.datasets.FordDataset at 0x73de68df37d0>],\n",
       " 'val': [<src.timeseries_transformer.datasets.FordDataset at 0x73de67914560>,\n",
       "  <src.timeseries_transformer.datasets.FordDataset at 0x73de697cfbc0>]}"
      ]
     },
     "execution_count": 9,
     "metadata": {},
     "output_type": "execute_result"
    }
   ],
   "execution_count": 9
  },
  {
   "metadata": {
    "ExecuteTime": {
     "end_time": "2024-07-15T21:06:38.953530Z",
     "start_time": "2024-07-15T21:06:38.951165Z"
    }
   },
   "cell_type": "code",
   "source": [
    "train_sets = ds[\"train\"]\n",
    "val_sets = ds[\"val\"]"
   ],
   "id": "ddc0ffb448ff09c2",
   "outputs": [],
   "execution_count": 11
  },
  {
   "metadata": {
    "ExecuteTime": {
     "end_time": "2024-07-10T21:46:26.874898Z",
     "start_time": "2024-07-10T21:46:26.866201Z"
    }
   },
   "cell_type": "code",
   "source": [
    "for train_idx, val_idx in skf.split(x, y):\n",
    "    # Create PyTorch DataLoader for training and validation\n",
    "    train_sets.append(FordDatasetKfold(x[train_idx], y[train_idx]))\n",
    "    val_sets.append(FordDatasetKfold(x[val_idx], y[val_idx]))\n",
    "    "
   ],
   "id": "cb5314274d69a8c6",
   "outputs": [],
   "execution_count": 179
  },
  {
   "cell_type": "code",
   "id": "7a96e134-d7c9-4ddc-843a-29b7201e8eac",
   "metadata": {
    "id": "7a96e134-d7c9-4ddc-843a-29b7201e8eac",
    "ExecuteTime": {
     "end_time": "2024-07-10T21:46:27.619713Z",
     "start_time": "2024-07-10T21:46:27.615449Z"
    }
   },
   "source": "train_sets",
   "outputs": [
    {
     "data": {
      "text/plain": [
       "[<__main__.FordDatasetKfold at 0x7f20ef706e40>,\n",
       " <__main__.FordDatasetKfold at 0x7f20acbbdbb0>]"
      ]
     },
     "execution_count": 180,
     "metadata": {},
     "output_type": "execute_result"
    }
   ],
   "execution_count": 180
  },
  {
   "cell_type": "code",
   "id": "60b6dce8-9c83-4c2a-98cc-f2997f1c4f4e",
   "metadata": {
    "id": "60b6dce8-9c83-4c2a-98cc-f2997f1c4f4e",
    "ExecuteTime": {
     "end_time": "2024-07-15T21:30:23.074377Z",
     "start_time": "2024-07-15T21:30:23.071534Z"
    }
   },
   "source": [
    "embed_size=256 # size of the embeddings\n",
    "num_heads=4 # number of attention heads\n",
    "ff_dim=4 # dimension of the feedforward layer in the encoder\n",
    "num_transformer_blocks=2 # number of encoder blocks\n",
    "mlp_units=[128] # the size of the feedforward layer used to make predictions\n",
    "mlp_dropout=0.4 # dropout in the feedforward layer\n",
    "dropout=0.25 # dropout in the encoder"
   ],
   "outputs": [],
   "execution_count": 19
  },
  {
   "cell_type": "code",
   "id": "65d227f0-b59c-4be5-be0a-3637718dd61e",
   "metadata": {
    "id": "65d227f0-b59c-4be5-be0a-3637718dd61e",
    "ExecuteTime": {
     "end_time": "2024-07-15T21:30:34.863454Z",
     "start_time": "2024-07-15T21:30:34.860634Z"
    }
   },
   "source": [
    "def clones(module, N):\n",
    "    \"Produce N independent but identical layers.\"\n",
    "    return nn.ModuleList([copy.deepcopy(module) for _ in range(N)])"
   ],
   "outputs": [],
   "execution_count": 21
  },
  {
   "metadata": {
    "ExecuteTime": {
     "end_time": "2024-07-15T21:29:57.555368Z",
     "start_time": "2024-07-15T21:29:57.545751Z"
    }
   },
   "cell_type": "code",
   "source": [
    "train_dataloaders, val_dataloaders = db.create_dataloader(batch_size=64, shuffle=True, drop_last=True)\n",
    "test_dataloader = db_test.create_dataloader(batch_size=64, drop_last=True)\n",
    "len(train_dataloaders)"
   ],
   "id": "c4fc6636dad3140e",
   "outputs": [
    {
     "data": {
      "text/plain": [
       "2"
      ]
     },
     "execution_count": 11,
     "metadata": {},
     "output_type": "execute_result"
    }
   ],
   "execution_count": 11
  },
  {
   "metadata": {
    "ExecuteTime": {
     "end_time": "2024-07-15T21:29:58.663527Z",
     "start_time": "2024-07-15T21:29:58.661783Z"
    }
   },
   "cell_type": "code",
   "source": "",
   "id": "5773ec3066f62485",
   "outputs": [],
   "execution_count": 11
  },
  {
   "cell_type": "code",
   "id": "12be91a2-8753-46f4-81e5-ea1472724265",
   "metadata": {
    "id": "12be91a2-8753-46f4-81e5-ea1472724265",
    "outputId": "33a08e16-42b8-4ffe-a916-785fd3627ae6",
    "ExecuteTime": {
     "end_time": "2024-07-15T21:06:41.469918Z",
     "start_time": "2024-07-15T21:06:41.464059Z"
    }
   },
   "source": [
    "train_dataloaders = [DataLoader(dataset=train_dataset, batch_size=64, shuffle=True, drop_last = True) for train_dataset in train_sets]\n",
    "val_dataloaders = [DataLoader(dataset=val_dataset, batch_size=64, shuffle=True, drop_last = True) for val_dataset in val_sets]\n",
    "test_dataloader = DataLoader(dataset=test_dataset, batch_size=64, shuffle=True, drop_last = True)\n",
    "len(train_dataloaders)"
   ],
   "outputs": [
    {
     "data": {
      "text/plain": [
       "2"
      ]
     },
     "execution_count": 12,
     "metadata": {},
     "output_type": "execute_result"
    }
   ],
   "execution_count": 12
  },
  {
   "cell_type": "code",
   "id": "bd06271f-ab4c-444e-b89b-fde0f4a00dbb",
   "metadata": {
    "id": "bd06271f-ab4c-444e-b89b-fde0f4a00dbb",
    "outputId": "d8b7fd9e-def9-45c7-ef55-8bfa938b7941",
    "ExecuteTime": {
     "end_time": "2024-07-15T21:30:00.530167Z",
     "start_time": "2024-07-15T21:30:00.524546Z"
    }
   },
   "source": [
    "x,y = next(iter(train_dataloaders[0]))\n",
    "xp = x\n",
    "\n",
    "print(xp.shape)\n",
    "print(xp[0][0:3])"
   ],
   "outputs": [
    {
     "name": "stdout",
     "output_type": "stream",
     "text": [
      "torch.Size([64, 500, 1])\n",
      "tensor([[-0.81231147],\n",
      "        [-0.79487342],\n",
      "        [-0.69931072]])\n"
     ]
    }
   ],
   "execution_count": 12
  },
  {
   "cell_type": "code",
   "id": "b32544a6-519e-467e-904c-5a4a0880ad1f",
   "metadata": {
    "id": "b32544a6-519e-467e-904c-5a4a0880ad1f",
    "ExecuteTime": {
     "end_time": "2024-07-15T21:30:02.599605Z",
     "start_time": "2024-07-15T21:30:02.592Z"
    }
   },
   "source": [
    "class PtMultiheadAttention(nn.Module):\n",
    "  def __init__(self, head_size, num_heads, dropout=0.1):\n",
    "    super(PtMultiheadAttention, self).__init__()\n",
    "    assert head_size % num_heads == 0\n",
    "\n",
    "    self.d_k = head_size // num_heads\n",
    "    self.weight_matrices = clones(nn.Linear(head_size, head_size), 4)\n",
    "    self.attn = None\n",
    "    if dropout > 0:\n",
    "      self.dropout = nn.Dropout(dropout)\n",
    "\n",
    "  def _attention(self, query, key, value, mask=None, dropout=None):\n",
    "    scores = torch.matmul(query, key.transpose(-2, -1)) / math.sqrt(self.d_k)\n",
    "    # if mask is not None:\n",
    "    #   scores = scores.masked_fill(mask == 0, -1e9)\n",
    "    p_attn = scores.softmax(dim=-1)\n",
    "    # if dropout is not None:\n",
    "    #   p_attn = self.dropout(p_attn)\n",
    "    return torch.matmul(p_attn, value), p_attn\n",
    "\n",
    "  def forward(self, query, key, value):\n",
    "\n",
    "    # get q, k and v\n",
    "    query, key, value = [\n",
    "      weights(inputs)\n",
    "      for weights, inputs in zip(self.weight_matrices, (query, key, value))\n",
    "    ]\n",
    "\n",
    "    # calculate attention\n",
    "    x, self.attn = self._attention(query, key, value)\n",
    "\n",
    "    return self.weight_matrices[-1](x)"
   ],
   "outputs": [],
   "execution_count": 13
  },
  {
   "cell_type": "code",
   "id": "0989880c-00f7-4a4d-87d2-4c8be5630ae3",
   "metadata": {
    "id": "0989880c-00f7-4a4d-87d2-4c8be5630ae3",
    "ExecuteTime": {
     "end_time": "2024-07-15T21:30:03.016455Z",
     "start_time": "2024-07-15T21:30:03.010507Z"
    }
   },
   "source": [
    "class PytorchEncoder(nn.Module):\n",
    "  def __init__(self, inputs, embed_size, num_heads, ff_dim, dropout=0):\n",
    "    super(PytorchEncoder, self).__init__()\n",
    "    # attention\n",
    "    self.embedding = nn.Linear(in_features=inputs.shape[-1], out_features=embed_size)\n",
    "    self.attention = PtMultiheadAttention(embed_size, num_heads, dropout=0.0)\n",
    "    self.linear1 = nn.Linear(embed_size, 1)\n",
    "    self.dropout1 = nn.Dropout(dropout)\n",
    "    self.layer_norm1 = nn.LayerNorm(normalized_shape=inputs.shape[-1], eps=1e-6)\n",
    "\n",
    "    # feedforward\n",
    "    self.conv1 = nn.Conv1d(in_channels=inputs.shape[-1], out_channels=ff_dim, kernel_size=1)\n",
    "    self.relu1 = nn.ReLU()\n",
    "    self.dropout2 = nn.Dropout(dropout)\n",
    "    self.conv2 = nn.Conv1d(in_channels=ff_dim, out_channels=inputs.shape[-1], kernel_size=1)\n",
    "    self.layer_norm2 = nn.LayerNorm(normalized_shape=inputs.shape[1], eps=1e-6)\n",
    "\n",
    "\n",
    "  def forward(self, src):\n",
    "    x = self.embedding(src)\n",
    "    x = self.attention(x, x, x)[0]\n",
    "    x = self.linear1(x)\n",
    "    x = self.dropout1(x)\n",
    "    x = self.layer_norm1(x)\n",
    "\n",
    "    res = x + src\n",
    "    res = res.reshape(res.shape[0], res.shape[2], res.shape[1])\n",
    "\n",
    "    x = self.conv1(res)\n",
    "    x = self.relu1(x)\n",
    "    x = self.dropout2(x)\n",
    "    x = self.conv2(x)\n",
    "    x = self.layer_norm2(x)\n",
    "    x = x + res\n",
    "\n",
    "    return x.reshape(x.shape[0], x.shape[-1], x.shape[1])"
   ],
   "outputs": [],
   "execution_count": 14
  },
  {
   "cell_type": "code",
   "id": "425b351b-f492-47da-83fd-c4bc975d20d5",
   "metadata": {
    "id": "425b351b-f492-47da-83fd-c4bc975d20d5",
    "ExecuteTime": {
     "end_time": "2024-07-15T21:30:03.324960Z",
     "start_time": "2024-07-15T21:30:03.319991Z"
    }
   },
   "source": [
    "from collections import OrderedDict\n",
    "\n",
    "class EncoderClassifier(nn.Module):\n",
    "  def __init__(self, inputs, embed_size, num_heads, ff_dim, dropout=0, num_blocks=2):\n",
    "    super(EncoderClassifier, self).__init__()\n",
    "    encoder_layer = PytorchEncoder(inputs=inputs, embed_size=embed_size, num_heads=num_heads, ff_dim=ff_dim, dropout=dropout)\n",
    "    encoders = OrderedDict()\n",
    "    for idx in range(num_blocks):\n",
    "      encoders[f\"encoder{idx}\"] = encoder_layer\n",
    "    self.encoder_block = nn.Sequential(encoders)\n",
    "    self.avg = nn.AvgPool1d(kernel_size=1)\n",
    "    self.dense1 = nn.Linear(500, mlp_units[0])\n",
    "    self.relu1 = nn.ReLU()\n",
    "    self.dropout1 = nn.Dropout(dropout)\n",
    "    self.dense2 = nn.Linear(mlp_units[0], 2)\n",
    "    self.softmax = nn.Softmax()\n",
    "\n",
    "  def forward(self, x):\n",
    "    x = self.encoder_block(x)\n",
    "    x = torch.squeeze(self.avg(x), 2)\n",
    "    x = self.dense1(x)\n",
    "    x = self.relu1(x)\n",
    "    x = self.dropout1(x)\n",
    "    x = self.dense2(x)\n",
    "    x = self.softmax(x)\n",
    "    return x"
   ],
   "outputs": [],
   "execution_count": 15
  },
  {
   "cell_type": "code",
   "id": "fe6ffdfe-cd88-4f34-b1b2-2d0cd012bc38",
   "metadata": {
    "id": "fe6ffdfe-cd88-4f34-b1b2-2d0cd012bc38",
    "ExecuteTime": {
     "end_time": "2024-07-15T21:30:04.136848Z",
     "start_time": "2024-07-15T21:30:04.133773Z"
    }
   },
   "source": [
    "cuda0 = torch.device('cuda:0')\n",
    "# model = EncoderClassifier(inputs=xp, embed_size=embed_size, num_heads=num_heads, ff_dim=ff_dim, dropout=dropout)\n",
    "# model.cuda()\n",
    "# criterion = nn.CrossEntropyLoss()\n",
    "# optimizer = optim.Adam(model.parameters(), lr=0.0001)"
   ],
   "outputs": [],
   "execution_count": 16
  },
  {
   "cell_type": "code",
   "id": "9242bc11-f6a8-4b21-8589-bc0b5de7aee4",
   "metadata": {
    "id": "9242bc11-f6a8-4b21-8589-bc0b5de7aee4",
    "ExecuteTime": {
     "end_time": "2024-07-15T21:30:06.090640Z",
     "start_time": "2024-07-15T21:30:06.083429Z"
    }
   },
   "source": [
    "def train_one_epoch(epoch_index, train_data, val_data, model):\n",
    "    train_running_loss = 0.\n",
    "    train_last_loss = 0.\n",
    "    train_correct = 0\n",
    "    iterations = 0\n",
    "    \n",
    "    for i, (inputs,labels) in enumerate(train_data):\n",
    "      if torch.cuda.is_available():\n",
    "        inputs = inputs.cuda()\n",
    "        labels = labels.cuda()\n",
    "          \n",
    "      model[\"opt\"].zero_grad()\n",
    "      outputs = model[\"model\"](inputs)\n",
    "      loss = model[\"loss_fn\"](outputs, labels.to(torch.long).reshape(-1))\n",
    "      loss.backward()\n",
    "      model[\"opt\"].step()\n",
    "      train_running_loss += loss.item()\n",
    "\n",
    "      predictions = torch.argmax(outputs, axis=1)\n",
    "      correct_labels = labels.squeeze()\n",
    "\n",
    "      train_correct += (predictions == correct_labels).int().sum()/len(labels) * 100\n",
    "      iterations += 1\n",
    "    train_last_loss = train_running_loss / len(train_data)\n",
    "    train_acc = (train_correct / iterations)\n",
    "    \n",
    "    \n",
    "    \n",
    "    val_running_loss = 0.\n",
    "    val_last_loss = 0.\n",
    "    val_correct = 0\n",
    "    \n",
    "    iterations = 0\n",
    "    model[\"model\"].eval()\n",
    "    for i, (inputs,labels) in enumerate(val_data):\n",
    "      if torch.cuda.is_available():\n",
    "        inputs = inputs.cuda()\n",
    "        labels = labels.cuda()\n",
    "      outputs = model[\"model\"](inputs)\n",
    "      loss = model[\"loss_fn\"](outputs, labels.to(torch.long).reshape(-1))\n",
    "      val_running_loss += loss.item()\n",
    "\n",
    "      predictions = torch.argmax(outputs, axis=1)\n",
    "      correct_labels = labels.squeeze()\n",
    "\n",
    "      val_correct += (predictions == correct_labels).int().sum()/len(labels) * 100\n",
    "      iterations += 1\n",
    "    val_last_loss = val_running_loss / len(val_data)\n",
    "    val_acc = (val_correct / iterations)\n",
    "\n",
    "    return train_last_loss, train_acc, val_last_loss, val_acc"
   ],
   "outputs": [],
   "execution_count": 17
  },
  {
   "cell_type": "code",
   "id": "0b5b2801-d11a-41b4-a3c0-d69d626398dc",
   "metadata": {
    "editable": true,
    "tags": [],
    "id": "0b5b2801-d11a-41b4-a3c0-d69d626398dc",
    "outputId": "687ad248-3ae1-48df-88b0-79caab811d0c",
    "ExecuteTime": {
     "end_time": "2024-07-15T21:31:06.089962Z",
     "start_time": "2024-07-15T21:30:38.472820Z"
    }
   },
   "source": [
    "epochs = 5\n",
    "models = []\n",
    "losses = []\n",
    "accuracies = []\n",
    "for fold in range(len(train_dataloaders)):\n",
    "  print('FOLD {}:'.format(fold + 1))\n",
    "  \n",
    "  train_dataloader = train_dataloaders[fold]\n",
    "  val_dataloader = val_dataloaders[fold]\n",
    "  \n",
    "  model = EncoderClassifier(inputs=xp, embed_size=embed_size, num_heads=num_heads, ff_dim=ff_dim, dropout=dropout, num_blocks=num_transformer_blocks)\n",
    "  model.cuda()\n",
    "  criterion = nn.CrossEntropyLoss()\n",
    "  optimizer = optim.Adam(model.parameters(), lr=0.001)\n",
    "  models.append({\"model\": model, \"loss_fn\": criterion, \"opt\": optimizer})\n",
    "  \n",
    "  losses.append([])\n",
    "  accuracies.append([])\n",
    "  \n",
    "  for epoch in range(epochs):\n",
    "      print('EPOCH {}:'.format(epoch + 1))\n",
    "  \n",
    "      models[fold][\"model\"].train(True)\n",
    "      train_avg_loss, train_acc, val_avg_loss, val_acc = train_one_epoch(epoch, train_dataloader, val_dataloader, models[fold])\n",
    "  \n",
    "      print(train_avg_loss)\n",
    "      print(train_acc)\n",
    "      print(val_avg_loss)\n",
    "      print(val_acc)\n",
    "      \n",
    "      losses[fold].append((train_avg_loss, val_avg_loss))\n",
    "      accuracies[fold].append((train_acc, val_acc))"
   ],
   "outputs": [
    {
     "name": "stdout",
     "output_type": "stream",
     "text": [
      "FOLD 1:\n",
      "EPOCH 1:\n"
     ]
    },
    {
     "name": "stderr",
     "output_type": "stream",
     "text": [
      "/home/taihim/PycharmProjects/timeseries-transformer/.venv/lib/python3.12/site-packages/torch/nn/modules/module.py:1532: UserWarning: Implicit dimension choice for softmax has been deprecated. Change the call to include dim=X as an argument.\n",
      "  return self._call_impl(*args, **kwargs)\n"
     ]
    },
    {
     "name": "stdout",
     "output_type": "stream",
     "text": [
      "0.6694136734666496\n",
      "tensor(58.99784470, device='cuda:0')\n",
      "0.6154946540964061\n",
      "tensor(67.28328705, device='cuda:0')\n",
      "EPOCH 2:\n",
      "0.5802864082928362\n",
      "tensor(73.32974243, device='cuda:0')\n",
      "0.6106731686098822\n",
      "tensor(66.88816833, device='cuda:0')\n",
      "EPOCH 3:\n",
      "0.5493991056392933\n",
      "tensor(75.86206818, device='cuda:0')\n",
      "0.597524120889861\n",
      "tensor(68.94755554, device='cuda:0')\n",
      "EPOCH 4:\n",
      "0.5310038451490731\n",
      "tensor(77.69396210, device='cuda:0')\n",
      "0.5994393250037884\n",
      "tensor(68.67217255, device='cuda:0')\n",
      "EPOCH 5:\n",
      "0.5230488211944185\n",
      "tensor(78.66379547, device='cuda:0')\n",
      "0.58552011025363\n",
      "tensor(70.40828705, device='cuda:0')\n",
      "FOLD 2:\n",
      "EPOCH 1:\n",
      "0.7061386067291786\n",
      "tensor(49.41930008, device='cuda:0')\n",
      "0.6866250839726679\n",
      "tensor(55.92672348, device='cuda:0')\n",
      "EPOCH 2:\n",
      "0.6581833629772581\n",
      "tensor(60.71001053, device='cuda:0')\n",
      "0.6343028792019548\n",
      "tensor(64.70905304, device='cuda:0')\n",
      "EPOCH 3:\n",
      "0.6102543226603804\n",
      "tensor(68.57639313, device='cuda:0')\n",
      "0.601494404776343\n",
      "tensor(68.91163635, device='cuda:0')\n",
      "EPOCH 4:\n",
      "0.5682365935424278\n",
      "tensor(73.15014648, device='cuda:0')\n",
      "0.5826899594274061\n",
      "tensor(70.68965149, device='cuda:0')\n",
      "EPOCH 5:\n",
      "0.549292955932946\n",
      "tensor(75.25742340, device='cuda:0')\n",
      "0.5790606747413504\n",
      "tensor(72.14439392, device='cuda:0')\n"
     ]
    }
   ],
   "execution_count": 22
  },
  {
   "cell_type": "code",
   "id": "7c6dedc7-02eb-47a9-aca0-18865d2a1194",
   "metadata": {
    "editable": true,
    "tags": [],
    "id": "7c6dedc7-02eb-47a9-aca0-18865d2a1194",
    "outputId": "32c42f0a-1421-48a4-8f9a-5cd9b6f66a8c",
    "ExecuteTime": {
     "end_time": "2024-07-15T21:31:09.814462Z",
     "start_time": "2024-07-15T21:31:09.410552Z"
    }
   },
   "source": [
    "acc = 0\n",
    "iteration = 0\n",
    "for data in test_dataloader:\n",
    "  iteration += 1\n",
    "  inputs, labels = data\n",
    "  if torch.cuda.is_available():\n",
    "    inputs = inputs.cuda()\n",
    "    labels = labels.cuda()\n",
    "  outputs = models[1][\"model\"](inputs)\n",
    "  predictions = torch.argmax(outputs, axis=1)\n",
    "  correct_labels = labels.squeeze().int()\n",
    "\n",
    "  acc += (predictions == correct_labels).int().sum()/len(labels) * 100\n",
    "print(acc/iteration)"
   ],
   "outputs": [
    {
     "name": "stdout",
     "output_type": "stream",
     "text": [
      "tensor(68.82440948, device='cuda:0')\n"
     ]
    }
   ],
   "execution_count": 23
  },
  {
   "metadata": {
    "ExecuteTime": {
     "end_time": "2024-07-15T21:31:11.762286Z",
     "start_time": "2024-07-15T21:31:11.557332Z"
    }
   },
   "cell_type": "code",
   "source": [
    "# Extracting training losses\n",
    "train_losses = [t[0] for t in losses[1]]\n",
    "val_losses = [t[1] for t in losses[1]]\n",
    "\n",
    "# Creating index for x-axis\n",
    "indices = range(1, len(losses[0]) + 1)\n",
    "\n",
    "# Plotting\n",
    "plt.figure(figsize=(10, 5))\n",
    "plt.plot(indices, train_losses, marker='o', linestyle='-', color='b', label='Training Loss')\n",
    "plt.plot(indices, val_losses, marker='o', linestyle='-', color='r', label='Validation Loss')\n",
    "plt.title('Training and Validation Losses')\n",
    "plt.xlabel('Epoch')\n",
    "plt.ylabel('Loss')\n",
    "plt.xticks(indices)\n",
    "plt.legend()\n",
    "plt.grid(True)\n",
    "plt.tight_layout()\n",
    "plt.show()"
   ],
   "id": "3ab64367c9711b92",
   "outputs": [
    {
     "data": {
      "text/plain": [
       "<Figure size 1000x500 with 1 Axes>"
      ],
      "image/png": "[encoded data removed]"
     },
     "metadata": {},
     "output_type": "display_data"
    }
   ],
   "execution_count": 24
  },
  {
   "metadata": {
    "ExecuteTime": {
     "end_time": "2024-07-15T21:31:12.691862Z",
     "start_time": "2024-07-15T21:31:12.540657Z"
    }
   },
   "cell_type": "code",
   "source": [
    "# Extracting training losses\n",
    "train_accs = [t[0].cpu() for t in accuracies[0]]\n",
    "val_accs = [t[1].cpu() for t in accuracies[0]]\n",
    "\n",
    "# Creating index for x-axis\n",
    "indices = range(1, len(accuracies[0]) + 1)\n",
    "\n",
    "# Plotting\n",
    "plt.figure(figsize=(10, 5))\n",
    "plt.plot(indices, train_accs, marker='o', linestyle='-', color='b', label='Training Accuracy')\n",
    "plt.plot(indices, val_accs, marker='o', linestyle='-', color='r', label='Validation Accuracy')\n",
    "plt.title('Training and Validation Accuracies')\n",
    "plt.xlabel('Epoch')\n",
    "plt.ylabel('Accuracy')\n",
    "plt.xticks(indices)\n",
    "plt.legend()\n",
    "plt.grid(True)\n",
    "plt.tight_layout()\n",
    "plt.show()"
   ],
   "id": "666f590be2d6d62e",
   "outputs": [
    {
     "data": {
      "text/plain": [
       "<Figure size 1000x500 with 1 Axes>"
      ],
      "image/png": "[encoded data removed]"
     },
     "metadata": {},
     "output_type": "display_data"
    }
   ],
   "execution_count": 25
  },
  {
   "metadata": {},
   "cell_type": "code",
   "outputs": [],
   "execution_count": null,
   "source": "",
   "id": "d927e82dd6f4482"
  }
 ],
 "metadata": {
  "kernelspec": {
   "display_name": "Python 3 (ipykernel)",
   "language": "python",
   "name": "python3"
  },
  "language_info": {
   "codemirror_mode": {
    "name": "ipython",
    "version": 3
   },
   "file_extension": ".py",
   "mimetype": "text/x-python",
   "name": "python",
   "nbconvert_exporter": "python",
   "pygments_lexer": "ipython3",
   "version": "3.12.4"
  },
  "colab": {
   "provenance": []
  }
 },
 "nbformat": 4,
 "nbformat_minor": 5
}
